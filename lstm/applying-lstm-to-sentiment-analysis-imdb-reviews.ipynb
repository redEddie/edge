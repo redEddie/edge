{
 "cells": [
  {
   "cell_type": "markdown",
   "id": "1b767d97",
   "metadata": {
    "papermill": {
     "duration": 0.005989,
     "end_time": "2023-06-01T11:18:14.256551",
     "exception": false,
     "start_time": "2023-06-01T11:18:14.250562",
     "status": "completed"
    },
    "tags": []
   },
   "source": [
    "https://www.kaggle.com/code/grigol1/applying-lstm-to-sentiment-analysis-imdb-reviews/notebook\n",
    "\n",
    "---\n",
    "\n",
    "## Welcome!\n",
    "\n",
    "Hey there! In this notebook, we're going to tackle movie review sentiment analysis. What's that? Well, we're trying to figure out whether a movie review is positive or negative. \n",
    "\n",
    "We're using a cool kind of AI model called an LSTM, which is really good at understanding sequences - like sentences in a review. \n",
    "\n",
    "We've got a bunch of steps to get through - cleaning up our text data, splitting it into chunks, getting it ready for the model, and then the fun part: training our model!\n",
    "\n",
    "Once we've got a trained model, we'll put it to the test and see how well it can classify our movie reviews. \n",
    "\n",
    "Ready? Let's go!"
   ]
  },
  {
   "cell_type": "markdown",
   "id": "6fa54932",
   "metadata": {
    "papermill": {
     "duration": 0.005198,
     "end_time": "2023-06-01T11:18:14.267541",
     "exception": false,
     "start_time": "2023-06-01T11:18:14.262343",
     "status": "completed"
    },
    "tags": []
   },
   "source": [
    "## Part 1: Importing necessary libraries"
   ]
  },
  {
   "cell_type": "code",
   "execution_count": 7,
   "id": "b38d2dc9",
   "metadata": {
    "execution": {
     "iopub.execute_input": "2023-06-01T11:18:14.281993Z",
     "iopub.status.busy": "2023-06-01T11:18:14.280896Z",
     "iopub.status.idle": "2023-06-01T11:18:27.975125Z",
     "shell.execute_reply": "2023-06-01T11:18:27.973355Z"
    },
    "papermill": {
     "duration": 13.705108,
     "end_time": "2023-06-01T11:18:27.978224",
     "exception": false,
     "start_time": "2023-06-01T11:18:14.273116",
     "status": "completed"
    },
    "tags": []
   },
   "outputs": [],
   "source": [
    "# Import necessary libraries\n",
    "import pandas as pd\n",
    "import numpy as np\n",
    "from sklearn.model_selection import train_test_split\n",
    "from tensorflow.keras.preprocessing.text import Tokenizer\n",
    "from tensorflow.keras.preprocessing.sequence import pad_sequences\n",
    "from tensorflow.keras.models import Sequential\n",
    "from tensorflow.keras.layers import Dense, Embedding, LSTM, SpatialDropout1D\n",
    "from tensorflow.keras.utils import to_categorical\n",
    "from nltk.corpus import stopwords\n",
    "from nltk import word_tokenize\n",
    "import re\n",
    "import warnings\n",
    "\n",
    "warnings.filterwarnings(\"ignore\")"
   ]
  },
  {
   "cell_type": "markdown",
   "id": "758e3429",
   "metadata": {
    "papermill": {
     "duration": 0.00539,
     "end_time": "2023-06-01T11:18:27.989482",
     "exception": false,
     "start_time": "2023-06-01T11:18:27.984092",
     "status": "completed"
    },
    "tags": []
   },
   "source": [
    "## Part 2: Load and preprocess the data"
   ]
  },
  {
   "cell_type": "code",
   "execution_count": null,
   "id": "912df6c5",
   "metadata": {
    "execution": {
     "iopub.execute_input": "2023-06-01T11:18:28.004658Z",
     "iopub.status.busy": "2023-06-01T11:18:28.003199Z",
     "iopub.status.idle": "2023-06-01T11:18:43.739605Z",
     "shell.execute_reply": "2023-06-01T11:18:43.738272Z"
    },
    "papermill": {
     "duration": 15.74682,
     "end_time": "2023-06-01T11:18:43.742483",
     "exception": false,
     "start_time": "2023-06-01T11:18:27.995663",
     "status": "completed"
    },
    "tags": []
   },
   "outputs": [],
   "source": [
    "# Load the dataset\n",
    "# Please replace the path with the actual path to the IMDB dataset\n",
    "data = pd.read_csv(\"./IMDB Dataset.csv\")\n",
    "\n",
    "# import nltk\n",
    "# nltk.download('stopwords')\n",
    "\n",
    "# Text preprocessing\n",
    "STOPWORDS = set(stopwords.words(\"english\"))\n",
    "\n",
    "\n",
    "def clean_text(text):\n",
    "    text = text.lower()  # lowercase text\n",
    "    text = \" \".join(\n",
    "        word for word in text.split() if word not in STOPWORDS\n",
    "    )  # remove stopwords from text\n",
    "    text = re.sub(r\"\\W\", \" \", text)  # Remove all the special characters\n",
    "    text = re.sub(r\"\\s+[a-zA-Z]\\s+\", \" \", text)  # remove all single characters\n",
    "    text = re.sub(\n",
    "        r\"\\^[a-zA-Z]\\s+\", \" \", text\n",
    "    )  # Remove single characters from the start\n",
    "    text = re.sub(\n",
    "        r\"\\s+\", \" \", text, flags=re.I\n",
    "    )  # Substituting multiple spaces with single space\n",
    "    return text\n",
    "\n",
    "\n",
    "data[\"review\"] = data[\"review\"].apply(clean_text)"
   ]
  },
  {
   "cell_type": "markdown",
   "id": "fb062d19",
   "metadata": {
    "papermill": {
     "duration": 0.00535,
     "end_time": "2023-06-01T11:18:43.753678",
     "exception": false,
     "start_time": "2023-06-01T11:18:43.748328",
     "status": "completed"
    },
    "tags": []
   },
   "source": [
    "We load the dataset using pandas and preprocess it using our clean_text function that removes stopwords, special characters, single characters and multiple spaces."
   ]
  },
  {
   "cell_type": "markdown",
   "id": "7baa521a",
   "metadata": {
    "papermill": {
     "duration": 0.005368,
     "end_time": "2023-06-01T11:18:43.766738",
     "exception": false,
     "start_time": "2023-06-01T11:18:43.761370",
     "status": "completed"
    },
    "tags": []
   },
   "source": [
    "## Part 3: Tokenization and sequence padding"
   ]
  },
  {
   "cell_type": "code",
   "execution_count": 11,
   "id": "1d30332e",
   "metadata": {
    "execution": {
     "iopub.execute_input": "2023-06-01T11:18:43.780339Z",
     "iopub.status.busy": "2023-06-01T11:18:43.779861Z",
     "iopub.status.idle": "2023-06-01T11:18:58.988668Z",
     "shell.execute_reply": "2023-06-01T11:18:58.987071Z"
    },
    "papermill": {
     "duration": 15.219096,
     "end_time": "2023-06-01T11:18:58.991476",
     "exception": false,
     "start_time": "2023-06-01T11:18:43.772380",
     "status": "completed"
    },
    "tags": []
   },
   "outputs": [
    {
     "name": "stdout",
     "output_type": "stream",
     "text": [
      "Found 101702 unique tokens.\n",
      "Shape of data tensor: (50000, 250)\n"
     ]
    }
   ],
   "source": [
    "# The maximum number of words to be used. (most frequent)\n",
    "MAX_NB_WORDS = 50000\n",
    "# Max number of words in each complaint.\n",
    "MAX_SEQUENCE_LENGTH = 250\n",
    "# This is fixed.\n",
    "EMBEDDING_DIM = 100\n",
    "\n",
    "tokenizer = Tokenizer(\n",
    "    num_words=MAX_NB_WORDS, filters='!\"#$%&()*+,-./:;<=>?@[\\]^_`{|}~', lower=True\n",
    ")\n",
    "tokenizer.fit_on_texts(data[\"review\"].values)\n",
    "word_index = tokenizer.word_index\n",
    "print(\"Found %s unique tokens.\" % len(word_index))\n",
    "\n",
    "X = tokenizer.texts_to_sequences(data[\"review\"].values)\n",
    "X = pad_sequences(X, maxlen=MAX_SEQUENCE_LENGTH)\n",
    "print(\"Shape of data tensor:\", X.shape)"
   ]
  },
  {
   "cell_type": "markdown",
   "id": "b9f77c17",
   "metadata": {
    "papermill": {
     "duration": 0.005703,
     "end_time": "2023-06-01T11:18:59.003327",
     "exception": false,
     "start_time": "2023-06-01T11:18:58.997624",
     "status": "completed"
    },
    "tags": []
   },
   "source": [
    "We tokenize the cleaned texts and convert them into sequences of numbers. We then pad the sequences to make them of equal length."
   ]
  },
  {
   "cell_type": "markdown",
   "id": "09d96b87",
   "metadata": {
    "papermill": {
     "duration": 0.005872,
     "end_time": "2023-06-01T11:18:59.015098",
     "exception": false,
     "start_time": "2023-06-01T11:18:59.009226",
     "status": "completed"
    },
    "tags": []
   },
   "source": [
    "## Part 4: Preparing the labels and splitting the data into training and testing sets"
   ]
  },
  {
   "cell_type": "code",
   "execution_count": 12,
   "id": "1529a97c",
   "metadata": {
    "execution": {
     "iopub.execute_input": "2023-06-01T11:18:59.029657Z",
     "iopub.status.busy": "2023-06-01T11:18:59.028419Z",
     "iopub.status.idle": "2023-06-01T11:18:59.103303Z",
     "shell.execute_reply": "2023-06-01T11:18:59.101754Z"
    },
    "papermill": {
     "duration": 0.084946,
     "end_time": "2023-06-01T11:18:59.105965",
     "exception": false,
     "start_time": "2023-06-01T11:18:59.021019",
     "status": "completed"
    },
    "tags": []
   },
   "outputs": [
    {
     "name": "stdout",
     "output_type": "stream",
     "text": [
      "Shape of label tensor: (50000, 2)\n",
      "(40000, 250) (40000, 2)\n",
      "(10000, 250) (10000, 2)\n"
     ]
    }
   ],
   "source": [
    "# Converting categorical labels to numbers.\n",
    "Y = pd.get_dummies(data[\"sentiment\"]).values\n",
    "print(\"Shape of label tensor:\", Y.shape)\n",
    "\n",
    "# Train test split\n",
    "X_train, X_test, Y_train, Y_test = train_test_split(\n",
    "    X, Y, test_size=0.2, random_state=42\n",
    ")\n",
    "print(X_train.shape, Y_train.shape)\n",
    "print(X_test.shape, Y_test.shape)"
   ]
  },
  {
   "cell_type": "markdown",
   "id": "8eddf256",
   "metadata": {
    "papermill": {
     "duration": 0.005715,
     "end_time": "2023-06-01T11:18:59.117725",
     "exception": false,
     "start_time": "2023-06-01T11:18:59.112010",
     "status": "completed"
    },
    "tags": []
   },
   "source": [
    "We convert the categorical labels into numerical form using one-hot encoding and then split our data into a training set and a testing set.\n"
   ]
  },
  {
   "cell_type": "markdown",
   "id": "c70e3164",
   "metadata": {
    "papermill": {
     "duration": 0.005587,
     "end_time": "2023-06-01T11:18:59.129418",
     "exception": false,
     "start_time": "2023-06-01T11:18:59.123831",
     "status": "completed"
    },
    "tags": []
   },
   "source": [
    "## Part 5: Define and train the model"
   ]
  },
  {
   "cell_type": "code",
   "execution_count": 13,
   "id": "0e0e0b1e",
   "metadata": {
    "execution": {
     "iopub.execute_input": "2023-06-01T11:18:59.143523Z",
     "iopub.status.busy": "2023-06-01T11:18:59.143062Z",
     "iopub.status.idle": "2023-06-01T11:45:25.571679Z",
     "shell.execute_reply": "2023-06-01T11:45:25.570350Z"
    },
    "papermill": {
     "duration": 1586.43976,
     "end_time": "2023-06-01T11:45:25.575046",
     "exception": false,
     "start_time": "2023-06-01T11:18:59.135286",
     "status": "completed"
    },
    "tags": []
   },
   "outputs": [
    {
     "data": {
      "text/html": [
       "<pre style=\"white-space:pre;overflow-x:auto;line-height:normal;font-family:Menlo,'DejaVu Sans Mono',consolas,'Courier New',monospace\"><span style=\"font-weight: bold\">Model: \"sequential\"</span>\n",
       "</pre>\n"
      ],
      "text/plain": [
       "\u001b[1mModel: \"sequential\"\u001b[0m\n"
      ]
     },
     "metadata": {},
     "output_type": "display_data"
    },
    {
     "data": {
      "text/html": [
       "<pre style=\"white-space:pre;overflow-x:auto;line-height:normal;font-family:Menlo,'DejaVu Sans Mono',consolas,'Courier New',monospace\">┏━━━━━━━━━━━━━━━━━━━━━━━━━━━━━━━━━┳━━━━━━━━━━━━━━━━━━━━━━━━┳━━━━━━━━━━━━━━━┓\n",
       "┃<span style=\"font-weight: bold\"> Layer (type)                    </span>┃<span style=\"font-weight: bold\"> Output Shape           </span>┃<span style=\"font-weight: bold\">       Param # </span>┃\n",
       "┡━━━━━━━━━━━━━━━━━━━━━━━━━━━━━━━━━╇━━━━━━━━━━━━━━━━━━━━━━━━╇━━━━━━━━━━━━━━━┩\n",
       "│ embedding (<span style=\"color: #0087ff; text-decoration-color: #0087ff\">Embedding</span>)           │ ?                      │   <span style=\"color: #00af00; text-decoration-color: #00af00\">0</span> (unbuilt) │\n",
       "├─────────────────────────────────┼────────────────────────┼───────────────┤\n",
       "│ spatial_dropout1d               │ ?                      │             <span style=\"color: #00af00; text-decoration-color: #00af00\">0</span> │\n",
       "│ (<span style=\"color: #0087ff; text-decoration-color: #0087ff\">SpatialDropout1D</span>)              │                        │               │\n",
       "├─────────────────────────────────┼────────────────────────┼───────────────┤\n",
       "│ lstm (<span style=\"color: #0087ff; text-decoration-color: #0087ff\">LSTM</span>)                     │ ?                      │   <span style=\"color: #00af00; text-decoration-color: #00af00\">0</span> (unbuilt) │\n",
       "├─────────────────────────────────┼────────────────────────┼───────────────┤\n",
       "│ dense (<span style=\"color: #0087ff; text-decoration-color: #0087ff\">Dense</span>)                   │ ?                      │   <span style=\"color: #00af00; text-decoration-color: #00af00\">0</span> (unbuilt) │\n",
       "└─────────────────────────────────┴────────────────────────┴───────────────┘\n",
       "</pre>\n"
      ],
      "text/plain": [
       "┏━━━━━━━━━━━━━━━━━━━━━━━━━━━━━━━━━┳━━━━━━━━━━━━━━━━━━━━━━━━┳━━━━━━━━━━━━━━━┓\n",
       "┃\u001b[1m \u001b[0m\u001b[1mLayer (type)                   \u001b[0m\u001b[1m \u001b[0m┃\u001b[1m \u001b[0m\u001b[1mOutput Shape          \u001b[0m\u001b[1m \u001b[0m┃\u001b[1m \u001b[0m\u001b[1m      Param #\u001b[0m\u001b[1m \u001b[0m┃\n",
       "┡━━━━━━━━━━━━━━━━━━━━━━━━━━━━━━━━━╇━━━━━━━━━━━━━━━━━━━━━━━━╇━━━━━━━━━━━━━━━┩\n",
       "│ embedding (\u001b[38;5;33mEmbedding\u001b[0m)           │ ?                      │   \u001b[38;5;34m0\u001b[0m (unbuilt) │\n",
       "├─────────────────────────────────┼────────────────────────┼───────────────┤\n",
       "│ spatial_dropout1d               │ ?                      │             \u001b[38;5;34m0\u001b[0m │\n",
       "│ (\u001b[38;5;33mSpatialDropout1D\u001b[0m)              │                        │               │\n",
       "├─────────────────────────────────┼────────────────────────┼───────────────┤\n",
       "│ lstm (\u001b[38;5;33mLSTM\u001b[0m)                     │ ?                      │   \u001b[38;5;34m0\u001b[0m (unbuilt) │\n",
       "├─────────────────────────────────┼────────────────────────┼───────────────┤\n",
       "│ dense (\u001b[38;5;33mDense\u001b[0m)                   │ ?                      │   \u001b[38;5;34m0\u001b[0m (unbuilt) │\n",
       "└─────────────────────────────────┴────────────────────────┴───────────────┘\n"
      ]
     },
     "metadata": {},
     "output_type": "display_data"
    },
    {
     "data": {
      "text/html": [
       "<pre style=\"white-space:pre;overflow-x:auto;line-height:normal;font-family:Menlo,'DejaVu Sans Mono',consolas,'Courier New',monospace\"><span style=\"font-weight: bold\"> Total params: </span><span style=\"color: #00af00; text-decoration-color: #00af00\">0</span> (0.00 B)\n",
       "</pre>\n"
      ],
      "text/plain": [
       "\u001b[1m Total params: \u001b[0m\u001b[38;5;34m0\u001b[0m (0.00 B)\n"
      ]
     },
     "metadata": {},
     "output_type": "display_data"
    },
    {
     "data": {
      "text/html": [
       "<pre style=\"white-space:pre;overflow-x:auto;line-height:normal;font-family:Menlo,'DejaVu Sans Mono',consolas,'Courier New',monospace\"><span style=\"font-weight: bold\"> Trainable params: </span><span style=\"color: #00af00; text-decoration-color: #00af00\">0</span> (0.00 B)\n",
       "</pre>\n"
      ],
      "text/plain": [
       "\u001b[1m Trainable params: \u001b[0m\u001b[38;5;34m0\u001b[0m (0.00 B)\n"
      ]
     },
     "metadata": {},
     "output_type": "display_data"
    },
    {
     "data": {
      "text/html": [
       "<pre style=\"white-space:pre;overflow-x:auto;line-height:normal;font-family:Menlo,'DejaVu Sans Mono',consolas,'Courier New',monospace\"><span style=\"font-weight: bold\"> Non-trainable params: </span><span style=\"color: #00af00; text-decoration-color: #00af00\">0</span> (0.00 B)\n",
       "</pre>\n"
      ],
      "text/plain": [
       "\u001b[1m Non-trainable params: \u001b[0m\u001b[38;5;34m0\u001b[0m (0.00 B)\n"
      ]
     },
     "metadata": {},
     "output_type": "display_data"
    },
    {
     "name": "stdout",
     "output_type": "stream",
     "text": [
      "None\n",
      "Epoch 1/5\n",
      "\u001b[1m563/563\u001b[0m \u001b[32m━━━━━━━━━━━━━━━━━━━━\u001b[0m\u001b[37m\u001b[0m \u001b[1m131s\u001b[0m 230ms/step - accuracy: 0.7628 - loss: 0.4779 - val_accuracy: 0.8758 - val_loss: 0.3019\n",
      "Epoch 2/5\n",
      "\u001b[1m563/563\u001b[0m \u001b[32m━━━━━━━━━━━━━━━━━━━━\u001b[0m\u001b[37m\u001b[0m \u001b[1m126s\u001b[0m 225ms/step - accuracy: 0.9170 - loss: 0.2246 - val_accuracy: 0.8662 - val_loss: 0.3653\n",
      "Epoch 3/5\n",
      "\u001b[1m563/563\u001b[0m \u001b[32m━━━━━━━━━━━━━━━━━━━━\u001b[0m\u001b[37m\u001b[0m \u001b[1m125s\u001b[0m 222ms/step - accuracy: 0.9475 - loss: 0.1459 - val_accuracy: 0.8683 - val_loss: 0.3452\n",
      "Epoch 4/5\n",
      "\u001b[1m563/563\u001b[0m \u001b[32m━━━━━━━━━━━━━━━━━━━━\u001b[0m\u001b[37m\u001b[0m \u001b[1m131s\u001b[0m 233ms/step - accuracy: 0.9597 - loss: 0.1165 - val_accuracy: 0.8717 - val_loss: 0.4179\n",
      "Epoch 5/5\n",
      "\u001b[1m563/563\u001b[0m \u001b[32m━━━━━━━━━━━━━━━━━━━━\u001b[0m\u001b[37m\u001b[0m \u001b[1m130s\u001b[0m 230ms/step - accuracy: 0.9757 - loss: 0.0731 - val_accuracy: 0.8643 - val_loss: 0.3912\n"
     ]
    }
   ],
   "source": [
    "# Define LSTM model\n",
    "model = Sequential()\n",
    "model.add(Embedding(MAX_NB_WORDS, EMBEDDING_DIM, input_length=X.shape[1]))\n",
    "model.add(SpatialDropout1D(0.2))\n",
    "model.add(LSTM(100, dropout=0.2, recurrent_dropout=0.2))\n",
    "model.add(Dense(2, activation=\"softmax\"))\n",
    "model.compile(loss=\"categorical_crossentropy\", optimizer=\"adam\", metrics=[\"accuracy\"])\n",
    "print(model.summary())\n",
    "\n",
    "# Train the model\n",
    "epochs = 5\n",
    "batch_size = 64\n",
    "\n",
    "history = model.fit(\n",
    "    X_train, Y_train, epochs=epochs, batch_size=batch_size, validation_split=0.1\n",
    ")"
   ]
  },
  {
   "cell_type": "markdown",
   "id": "8e5e9f21",
   "metadata": {
    "papermill": {
     "duration": 0.275464,
     "end_time": "2023-06-01T11:45:26.116635",
     "exception": false,
     "start_time": "2023-06-01T11:45:25.841171",
     "status": "completed"
    },
    "tags": []
   },
   "source": [
    "We define an LSTM model, compile it, and then train it using our training data."
   ]
  },
  {
   "cell_type": "markdown",
   "id": "4815541d",
   "metadata": {
    "papermill": {
     "duration": 0.265166,
     "end_time": "2023-06-01T11:45:26.648146",
     "exception": false,
     "start_time": "2023-06-01T11:45:26.382980",
     "status": "completed"
    },
    "tags": []
   },
   "source": [
    "## Part 6: Validate the model"
   ]
  },
  {
   "cell_type": "code",
   "execution_count": 14,
   "id": "77be7c34",
   "metadata": {
    "execution": {
     "iopub.execute_input": "2023-06-01T11:45:27.177993Z",
     "iopub.status.busy": "2023-06-01T11:45:27.177217Z",
     "iopub.status.idle": "2023-06-01T11:45:47.745296Z",
     "shell.execute_reply": "2023-06-01T11:45:47.743542Z"
    },
    "papermill": {
     "duration": 20.835917,
     "end_time": "2023-06-01T11:45:47.748242",
     "exception": false,
     "start_time": "2023-06-01T11:45:26.912325",
     "status": "completed"
    },
    "tags": []
   },
   "outputs": [
    {
     "name": "stdout",
     "output_type": "stream",
     "text": [
      "\u001b[1m313/313\u001b[0m \u001b[32m━━━━━━━━━━━━━━━━━━━━\u001b[0m\u001b[37m\u001b[0m \u001b[1m7s\u001b[0m 22ms/step - accuracy: 0.8743 - loss: 0.3498\n",
      "Test set\n",
      "  Loss: 0.362\n",
      "  Accuracy: 0.876\n"
     ]
    }
   ],
   "source": [
    "# Validate the model\n",
    "accr = model.evaluate(X_test, Y_test)\n",
    "print(\"Test set\\n  Loss: {:0.3f}\\n  Accuracy: {:0.3f}\".format(accr[0], accr[1]))"
   ]
  },
  {
   "cell_type": "markdown",
   "id": "5064bb34",
   "metadata": {
    "papermill": {
     "duration": 0.368678,
     "end_time": "2023-06-01T11:45:48.409460",
     "exception": false,
     "start_time": "2023-06-01T11:45:48.040782",
     "status": "completed"
    },
    "tags": []
   },
   "source": [
    "## Conclusion\n",
    "\n",
    "Nice job, we made it! We took a ton of IMDB movie reviews, cleaned them up, and trained an LSTM model to figure out if they were positive or negative. Pretty cool, right?\n",
    "\n",
    "Our model did pretty well, but there's always room for improvement. Maybe we can tweak some settings, add more layers, or even use a different type of model. Plus, we can always use more or different data to train on.\n",
    "\n",
    "Remember, what matters most is not just the final accuracy number, but understanding what's happening along the way. Don't be afraid to play around with the code and try new things. Happy coding!"
   ]
  },
  {
   "cell_type": "markdown",
   "id": "8751a949",
   "metadata": {},
   "source": [
    "아래는 테스트를 위한 코드"
   ]
  },
  {
   "cell_type": "code",
   "execution_count": 15,
   "id": "02eae1c6",
   "metadata": {},
   "outputs": [
    {
     "name": "stderr",
     "output_type": "stream",
     "text": [
      "WARNING:absl:You are saving your model as an HDF5 file via `model.save()` or `keras.saving.save_model(model)`. This file format is considered legacy. We recommend using instead the native Keras format, e.g. `model.save('my_model.keras')` or `keras.saving.save_model(model, 'my_model.keras')`. \n"
     ]
    }
   ],
   "source": [
    "# 전체 모델 저장 (모델 아키텍처 + 가중치 + 옵티마이저 상태)\n",
    "model.save(\"model_name.h5\")  # HDF5 파일로 저장"
   ]
  },
  {
   "cell_type": "code",
   "execution_count": 16,
   "id": "367f7183",
   "metadata": {},
   "outputs": [
    {
     "name": "stderr",
     "output_type": "stream",
     "text": [
      "WARNING:absl:Compiled the loaded model, but the compiled metrics have yet to be built. `model.compile_metrics` will be empty until you train or evaluate the model.\n"
     ]
    }
   ],
   "source": [
    "from tensorflow.keras.models import load_model\n",
    "\n",
    "# 전체 모델 불러오기\n",
    "loaded_model = load_model(\"model_name.h5\")"
   ]
  },
  {
   "cell_type": "code",
   "execution_count": 17,
   "id": "996f5a82",
   "metadata": {},
   "outputs": [
    {
     "name": "stdout",
     "output_type": "stream",
     "text": [
      "\u001b[1m313/313\u001b[0m \u001b[32m━━━━━━━━━━━━━━━━━━━━\u001b[0m\u001b[37m\u001b[0m \u001b[1m7s\u001b[0m 21ms/step - accuracy: 0.8743 - loss: 0.3498\n",
      "Test set\n",
      "  Loss: 0.362\n",
      "  Accuracy: 0.876\n"
     ]
    }
   ],
   "source": [
    "# Validate the model\n",
    "accr = loaded_model.evaluate(X_test, Y_test)\n",
    "print(\"Test set\\n  Loss: {:0.3f}\\n  Accuracy: {:0.3f}\".format(accr[0], accr[1]))"
   ]
  },
  {
   "cell_type": "code",
   "execution_count": 21,
   "id": "6f0486a6",
   "metadata": {},
   "outputs": [
    {
     "name": "stdout",
     "output_type": "stream",
     "text": [
      "\u001b[1m313/313\u001b[0m \u001b[32m━━━━━━━━━━━━━━━━━━━━\u001b[0m\u001b[37m\u001b[0m \u001b[1m7s\u001b[0m 21ms/step\n",
      "Sample 1:\n",
      "  Actual: 1\n",
      "  Predicted: 0\n",
      "--------------------------------------------------\n",
      "Sample 2:\n",
      "  Actual: 1\n",
      "  Predicted: 1\n",
      "--------------------------------------------------\n",
      "Sample 3:\n",
      "  Actual: 0\n",
      "  Predicted: 0\n",
      "--------------------------------------------------\n",
      "Sample 4:\n",
      "  Actual: 1\n",
      "  Predicted: 1\n",
      "--------------------------------------------------\n",
      "Sample 5:\n",
      "  Actual: 0\n",
      "  Predicted: 0\n",
      "--------------------------------------------------\n",
      "Sample 6:\n",
      "  Actual: 1\n",
      "  Predicted: 1\n",
      "--------------------------------------------------\n",
      "Sample 7:\n",
      "  Actual: 1\n",
      "  Predicted: 1\n",
      "--------------------------------------------------\n",
      "Sample 8:\n",
      "  Actual: 1\n",
      "  Predicted: 0\n",
      "--------------------------------------------------\n",
      "Sample 9:\n",
      "  Actual: 0\n",
      "  Predicted: 1\n",
      "--------------------------------------------------\n",
      "Sample 10:\n",
      "  Actual: 0\n",
      "  Predicted: 0\n",
      "--------------------------------------------------\n"
     ]
    }
   ],
   "source": [
    "# 예측 값 계산\n",
    "predictions = loaded_model.predict(X_test)\n",
    "predicted_classes = np.argmax(predictions, axis=1)\n",
    "true_classes = np.argmax(Y_test, axis=1)\n",
    "\n",
    "# 실제 값과 예측 값 비교\n",
    "for i in range(10):  # 상위 10개 샘플만 출력\n",
    "    print(f\"Sample {i+1}:\")\n",
    "    print(f\"  Actual: {true_classes[i]}\")\n",
    "    print(f\"  Predicted: {predicted_classes[i]}\")\n",
    "    # print(f\"  Review: {data['review'].iloc[X_test.index[i]]}\")\n",
    "    print(\"-\" * 50)"
   ]
  },
  {
   "cell_type": "code",
   "execution_count": null,
   "id": "951fcd14",
   "metadata": {},
   "outputs": [
    {
     "data": {
      "image/png": "[encoded data removed]",
      "text/plain": [
       "<Figure size 800x600 with 2 Axes>"
      ]
     },
     "metadata": {},
     "output_type": "display_data"
    }
   ],
   "source": [
    "from sklearn.metrics import confusion_matrix\n",
    "import seaborn as sns\n",
    "import matplotlib.pyplot as plt\n",
    "\n",
    "# 혼동 행렬 계산\n",
    "cm = confusion_matrix(true_classes, predicted_classes)\n",
    "\n",
    "# 혼동 행렬 시각화\n",
    "plt.figure(figsize=(8, 6))\n",
    "sns.heatmap(\n",
    "    cm,\n",
    "    annot=True,\n",
    "    fmt=\"d\",\n",
    "    cmap=\"Blues\",\n",
    "    xticklabels=[\"Negative\", \"Positive\"],\n",
    "    yticklabels=[\"Negative\", \"Positive\"],\n",
    ")\n",
    "plt.ylabel(\"Actual\")\n",
    "plt.xlabel(\"Predicted\")\n",
    "plt.title(\"Confusion Matrix\")\n",
    "plt.show()"
   ]
  }
 ],
 "metadata": {
  "kernelspec": {
   "display_name": "lstm",
   "language": "python",
   "name": "python3"
  },
  "language_info": {
   "codemirror_mode": {
    "name": "ipython",
    "version": 3
   },
   "file_extension": ".py",
   "mimetype": "text/x-python",
   "name": "python",
   "nbconvert_exporter": "python",
   "pygments_lexer": "ipython3",
   "version": "3.10.15"
  },
  "papermill": {
   "default_parameters": {},
   "duration": 1672.059872,
   "end_time": "2023-06-01T11:45:52.110697",
   "environment_variables": {},
   "exception": null,
   "input_path": "__notebook__.ipynb",
   "output_path": "__notebook__.ipynb",
   "parameters": {},
   "start_time": "2023-06-01T11:18:00.050825",
   "version": "2.4.0"
  }
 },
 "nbformat": 4,
 "nbformat_minor": 5
}

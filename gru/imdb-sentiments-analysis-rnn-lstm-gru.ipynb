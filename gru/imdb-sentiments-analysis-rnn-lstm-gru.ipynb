{
 "cells": [
  {
   "cell_type": "markdown",
   "id": "7608a1b5",
   "metadata": {},
   "source": [
    "https://www.kaggle.com/code/getanmolgupta01/imdb-sentiments-analysis-rnn-lstm-gru#-Hypertuning-GRU"
   ]
  },
  {
   "cell_type": "code",
   "execution_count": 1,
   "id": "41a8fd65",
   "metadata": {
    "_cell_guid": "b1076dfc-b9ad-4769-8c92-a6c4dae69d19",
    "_uuid": "8f2839f25d086af736a60e9eeb907d3b93b6e0e5",
    "execution": {
     "iopub.execute_input": "2024-05-17T09:54:35.217607Z",
     "iopub.status.busy": "2024-05-17T09:54:35.216863Z",
     "iopub.status.idle": "2024-05-17T09:54:36.035082Z",
     "shell.execute_reply": "2024-05-17T09:54:36.034083Z"
    },
    "papermill": {
     "duration": 0.846698,
     "end_time": "2024-05-17T09:54:36.037357",
     "exception": false,
     "start_time": "2024-05-17T09:54:35.190659",
     "status": "completed"
    },
    "tags": []
   },
   "outputs": [],
   "source": [
    "# This Python 3 environment comes with many helpful analytics libraries installed\n",
    "# It is defined by the kaggle/python Docker image: https://github.com/kaggle/docker-python\n",
    "# For example, here's several helpful packages to load\n",
    "\n",
    "import numpy as np # linear algebra\n",
    "import pandas as pd # data processing, CSV file I/O (e.g. pd.read_csv)\n",
    "\n",
    "# Input data files are available in the read-only \"../input/\" directory\n",
    "# For example, running this (by clicking run or pressing Shift+Enter) will list all files under the input directory\n",
    "\n",
    "import os\n",
    "for dirname, _, filenames in os.walk('/kaggle/input'):\n",
    "    for filename in filenames:\n",
    "        print(os.path.join(dirname, filename))\n",
    "\n",
    "# You can write up to 20GB to the current directory (/kaggle/working/) that gets preserved as output when you create a version using \"Save & Run All\" \n",
    "# You can also write temporary files to /kaggle/temp/, but they won't be saved outside of the current session"
   ]
  },
  {
   "cell_type": "markdown",
   "id": "2a17a494",
   "metadata": {
    "papermill": {
     "duration": 0.023262,
     "end_time": "2024-05-17T09:54:36.086030",
     "exception": false,
     "start_time": "2024-05-17T09:54:36.062768",
     "status": "completed"
    },
    "tags": []
   },
   "source": [
    "## <div style=\"text-align: left; background-color:aliceblue ; font-family: Trebuchet MS; color: black; padding: 15px; line-height:1;border-radius:1px; margin-bottom: 0em; text-align: center; font-size: 25px;border-style: solid;border-color: dark green;\">  Importing Required Libraries </div> "
   ]
  },
  {
   "cell_type": "code",
   "execution_count": 2,
   "id": "3ba507cd",
   "metadata": {
    "execution": {
     "iopub.execute_input": "2024-05-17T09:54:36.134572Z",
     "iopub.status.busy": "2024-05-17T09:54:36.133693Z",
     "iopub.status.idle": "2024-05-17T09:54:50.028981Z",
     "shell.execute_reply": "2024-05-17T09:54:50.028066Z"
    },
    "papermill": {
     "duration": 13.921994,
     "end_time": "2024-05-17T09:54:50.031319",
     "exception": false,
     "start_time": "2024-05-17T09:54:36.109325",
     "status": "completed"
    },
    "tags": []
   },
   "outputs": [
    {
     "name": "stdout",
     "output_type": "stream",
     "text": [
      "Requirement already satisfied: contractions in c:\\users\\cpscc\\miniconda3\\envs\\lstm\\lib\\site-packages (0.1.73)\n",
      "Requirement already satisfied: textsearch>=0.0.21 in c:\\users\\cpscc\\miniconda3\\envs\\lstm\\lib\\site-packages (from contractions) (0.0.24)\n",
      "Requirement already satisfied: anyascii in c:\\users\\cpscc\\miniconda3\\envs\\lstm\\lib\\site-packages (from textsearch>=0.0.21->contractions) (0.3.2)\n",
      "Requirement already satisfied: pyahocorasick in c:\\users\\cpscc\\miniconda3\\envs\\lstm\\lib\\site-packages (from textsearch>=0.0.21->contractions) (2.1.0)\n"
     ]
    }
   ],
   "source": [
    "#use to fix to words like isn't to is not\n",
    "!pip install contractions"
   ]
  },
  {
   "cell_type": "code",
   "execution_count": 3,
   "id": "1e269e3e",
   "metadata": {
    "execution": {
     "iopub.execute_input": "2024-05-17T09:54:50.081848Z",
     "iopub.status.busy": "2024-05-17T09:54:50.081510Z",
     "iopub.status.idle": "2024-05-17T09:54:52.036540Z",
     "shell.execute_reply": "2024-05-17T09:54:52.035609Z"
    },
    "papermill": {
     "duration": 1.982221,
     "end_time": "2024-05-17T09:54:52.038432",
     "exception": false,
     "start_time": "2024-05-17T09:54:50.056211",
     "status": "completed"
    },
    "tags": []
   },
   "outputs": [],
   "source": [
    "from textblob import Word\n",
    "import nltk\n",
    "# nltk.data.path.append(\"/kaggle/working/\")\n",
    "# nltk.download('wordnet')"
   ]
  },
  {
   "cell_type": "code",
   "execution_count": 4,
   "id": "a2fdd84b",
   "metadata": {
    "execution": {
     "iopub.execute_input": "2024-05-17T09:55:58.940001Z",
     "iopub.status.busy": "2024-05-17T09:55:58.939658Z",
     "iopub.status.idle": "2024-05-17T09:56:27.259530Z",
     "shell.execute_reply": "2024-05-17T09:56:27.258528Z"
    },
    "papermill": {
     "duration": 28.364292,
     "end_time": "2024-05-17T09:56:27.261930",
     "exception": false,
     "start_time": "2024-05-17T09:55:58.897638",
     "status": "completed"
    },
    "tags": []
   },
   "outputs": [],
   "source": [
    "# Libraray for Data Manipulation\n",
    "import numpy as np\n",
    "import pandas as pd\n",
    "\n",
    "# Libraray for Data Visualisation\n",
    "import seaborn as sns \n",
    "import matplotlib.pyplot as plt \n",
    "sns.set(style=\"white\",font_scale=1.5)\n",
    "sns.set(rc={\"axes.facecolor\":\"#FFFAF0\",\"figure.facecolor\":\"#FFFAF0\"})\n",
    "sns.set_context(\"poster\",font_scale = .7)\n",
    "\n",
    "# Library for preprocessing \n",
    "import contractions\n",
    "from sklearn.feature_extraction.text import CountVectorizer\n",
    "from sklearn.preprocessing import LabelBinarizer\n",
    "from nltk.corpus import stopwords\n",
    "from nltk.stem.porter import PorterStemmer\n",
    "from wordcloud import WordCloud,STOPWORDS\n",
    "from nltk.stem import WordNetLemmatizer\n",
    "from nltk.tokenize import word_tokenize,sent_tokenize\n",
    "import spacy\n",
    "import math\n",
    "from gensim.models import Word2Vec\n",
    "from sklearn.feature_extraction.text import TfidfVectorizer\n",
    "from joblib import Parallel, delayed\n",
    "import re,string,unicodedata\n",
    "from sklearn.model_selection import train_test_split\n",
    "from textblob import TextBlob\n",
    "from scipy.sparse import lil_matrix\n",
    "from tensorflow.keras.preprocessing.sequence import pad_sequences\n",
    "from nltk import pos_tag\n",
    "\n",
    "# Library for model building\n",
    "from tensorflow.keras.regularizers import l2\n",
    "import tensorflow\n",
    "import keras\n",
    "from keras import layers\n",
    "from tensorflow.keras.preprocessing.text import Tokenizer\n",
    "from keras.models import Sequential\n",
    "#from attention import BahdanauAttention\n",
    "from keras.layers import SimpleRNN,LSTM,GRU, Embedding, Dense, SpatialDropout1D, Dropout, BatchNormalization, Bidirectional, Attention\n",
    "from sklearn.metrics import accuracy_score\n",
    "from tensorflow.keras.initializers import GlorotUniform\n",
    "from tensorflow.keras.optimizers import Adam\n",
    "#Library to overcome Warnings\n",
    "import warnings\n",
    "warnings.filterwarnings('ignore')"
   ]
  },
  {
   "cell_type": "markdown",
   "id": "6cf3319a",
   "metadata": {
    "papermill": {
     "duration": 0.040349,
     "end_time": "2024-05-17T09:56:27.343203",
     "exception": false,
     "start_time": "2024-05-17T09:56:27.302854",
     "status": "completed"
    },
    "tags": []
   },
   "source": [
    "## <div style=\"text-align: left; background-color:aliceblue ; font-family: Trebuchet MS; color: black; padding: 15px; line-height:1;border-radius:1px; margin-bottom: 0em; text-align: center; font-size: 25px;border-style: solid;border-color: dark green;\"> Loading Dataset </div> "
   ]
  },
  {
   "cell_type": "code",
   "execution_count": 5,
   "id": "8fb1899e",
   "metadata": {
    "execution": {
     "iopub.execute_input": "2024-05-17T09:56:27.466046Z",
     "iopub.status.busy": "2024-05-17T09:56:27.464875Z",
     "iopub.status.idle": "2024-05-17T09:56:28.693464Z",
     "shell.execute_reply": "2024-05-17T09:56:28.692605Z"
    },
    "papermill": {
     "duration": 1.312389,
     "end_time": "2024-05-17T09:56:28.695842",
     "exception": false,
     "start_time": "2024-05-17T09:56:27.383453",
     "status": "completed"
    },
    "tags": []
   },
   "outputs": [],
   "source": [
    "df = pd.read_csv('./IMDB Dataset.csv')"
   ]
  },
  {
   "cell_type": "code",
   "execution_count": 6,
   "id": "2e8b4417",
   "metadata": {
    "execution": {
     "iopub.execute_input": "2024-05-17T09:56:28.783381Z",
     "iopub.status.busy": "2024-05-17T09:56:28.782377Z",
     "iopub.status.idle": "2024-05-17T09:56:28.803579Z",
     "shell.execute_reply": "2024-05-17T09:56:28.802678Z"
    },
    "papermill": {
     "duration": 0.065801,
     "end_time": "2024-05-17T09:56:28.805499",
     "exception": false,
     "start_time": "2024-05-17T09:56:28.739698",
     "status": "completed"
    },
    "tags": []
   },
   "outputs": [
    {
     "data": {
      "text/html": [
       "<div>\n",
       "<style scoped>\n",
       "    .dataframe tbody tr th:only-of-type {\n",
       "        vertical-align: middle;\n",
       "    }\n",
       "\n",
       "    .dataframe tbody tr th {\n",
       "        vertical-align: top;\n",
       "    }\n",
       "\n",
       "    .dataframe thead th {\n",
       "        text-align: right;\n",
       "    }\n",
       "</style>\n",
       "<table border=\"1\" class=\"dataframe\">\n",
       "  <thead>\n",
       "    <tr style=\"text-align: right;\">\n",
       "      <th></th>\n",
       "      <th>review</th>\n",
       "      <th>sentiment</th>\n",
       "    </tr>\n",
       "  </thead>\n",
       "  <tbody>\n",
       "    <tr>\n",
       "      <th>0</th>\n",
       "      <td>One of the other reviewers has mentioned that ...</td>\n",
       "      <td>positive</td>\n",
       "    </tr>\n",
       "    <tr>\n",
       "      <th>1</th>\n",
       "      <td>A wonderful little production. &lt;br /&gt;&lt;br /&gt;The...</td>\n",
       "      <td>positive</td>\n",
       "    </tr>\n",
       "    <tr>\n",
       "      <th>2</th>\n",
       "      <td>I thought this was a wonderful way to spend ti...</td>\n",
       "      <td>positive</td>\n",
       "    </tr>\n",
       "    <tr>\n",
       "      <th>3</th>\n",
       "      <td>Basically there's a family where a little boy ...</td>\n",
       "      <td>negative</td>\n",
       "    </tr>\n",
       "    <tr>\n",
       "      <th>4</th>\n",
       "      <td>Petter Mattei's \"Love in the Time of Money\" is...</td>\n",
       "      <td>positive</td>\n",
       "    </tr>\n",
       "    <tr>\n",
       "      <th>...</th>\n",
       "      <td>...</td>\n",
       "      <td>...</td>\n",
       "    </tr>\n",
       "    <tr>\n",
       "      <th>49995</th>\n",
       "      <td>I thought this movie did a down right good job...</td>\n",
       "      <td>positive</td>\n",
       "    </tr>\n",
       "    <tr>\n",
       "      <th>49996</th>\n",
       "      <td>Bad plot, bad dialogue, bad acting, idiotic di...</td>\n",
       "      <td>negative</td>\n",
       "    </tr>\n",
       "    <tr>\n",
       "      <th>49997</th>\n",
       "      <td>I am a Catholic taught in parochial elementary...</td>\n",
       "      <td>negative</td>\n",
       "    </tr>\n",
       "    <tr>\n",
       "      <th>49998</th>\n",
       "      <td>I'm going to have to disagree with the previou...</td>\n",
       "      <td>negative</td>\n",
       "    </tr>\n",
       "    <tr>\n",
       "      <th>49999</th>\n",
       "      <td>No one expects the Star Trek movies to be high...</td>\n",
       "      <td>negative</td>\n",
       "    </tr>\n",
       "  </tbody>\n",
       "</table>\n",
       "<p>50000 rows × 2 columns</p>\n",
       "</div>"
      ],
      "text/plain": [
       "                                                  review sentiment\n",
       "0      One of the other reviewers has mentioned that ...  positive\n",
       "1      A wonderful little production. <br /><br />The...  positive\n",
       "2      I thought this was a wonderful way to spend ti...  positive\n",
       "3      Basically there's a family where a little boy ...  negative\n",
       "4      Petter Mattei's \"Love in the Time of Money\" is...  positive\n",
       "...                                                  ...       ...\n",
       "49995  I thought this movie did a down right good job...  positive\n",
       "49996  Bad plot, bad dialogue, bad acting, idiotic di...  negative\n",
       "49997  I am a Catholic taught in parochial elementary...  negative\n",
       "49998  I'm going to have to disagree with the previou...  negative\n",
       "49999  No one expects the Star Trek movies to be high...  negative\n",
       "\n",
       "[50000 rows x 2 columns]"
      ]
     },
     "execution_count": 6,
     "metadata": {},
     "output_type": "execute_result"
    }
   ],
   "source": [
    "df"
   ]
  },
  {
   "cell_type": "markdown",
   "id": "6ee0a95d",
   "metadata": {
    "execution": {
     "iopub.execute_input": "2024-05-15T09:42:34.335968Z",
     "iopub.status.busy": "2024-05-15T09:42:34.335586Z",
     "iopub.status.idle": "2024-05-15T09:42:34.360885Z",
     "shell.execute_reply": "2024-05-15T09:42:34.359551Z",
     "shell.execute_reply.started": "2024-05-15T09:42:34.335937Z"
    },
    "papermill": {
     "duration": 0.040567,
     "end_time": "2024-05-17T09:56:28.887374",
     "exception": false,
     "start_time": "2024-05-17T09:56:28.846807",
     "status": "completed"
    },
    "tags": []
   },
   "source": [
    "## <div style=\"text-align: left; background-color:aliceblue ; font-family: Trebuchet MS; color: black; padding: 15px; line-height:1;border-radius:1px; margin-bottom: 0em; text-align: center; font-size: 25px;border-style: solid;border-color: dark green;\"> Data Wrangling  </div> "
   ]
  },
  {
   "cell_type": "markdown",
   "id": "71162147",
   "metadata": {
    "papermill": {
     "duration": 0.04113,
     "end_time": "2024-05-17T09:56:28.969285",
     "exception": false,
     "start_time": "2024-05-17T09:56:28.928155",
     "status": "completed"
    },
    "tags": []
   },
   "source": [
    "#### 1. Computing Dimension of Dataset"
   ]
  },
  {
   "cell_type": "code",
   "execution_count": 7,
   "id": "36f48644",
   "metadata": {
    "execution": {
     "iopub.execute_input": "2024-05-17T09:56:29.052941Z",
     "iopub.status.busy": "2024-05-17T09:56:29.052215Z",
     "iopub.status.idle": "2024-05-17T09:56:29.057179Z",
     "shell.execute_reply": "2024-05-17T09:56:29.056307Z"
    },
    "papermill": {
     "duration": 0.048895,
     "end_time": "2024-05-17T09:56:29.059106",
     "exception": false,
     "start_time": "2024-05-17T09:56:29.010211",
     "status": "completed"
    },
    "tags": []
   },
   "outputs": [
    {
     "name": "stdout",
     "output_type": "stream",
     "text": [
      "dataset shape:  (50000, 2)\n"
     ]
    }
   ],
   "source": [
    "print('dataset shape: ',df.shape)"
   ]
  },
  {
   "cell_type": "markdown",
   "id": "5ddd45ec",
   "metadata": {
    "papermill": {
     "duration": 0.041317,
     "end_time": "2024-05-17T09:56:29.141518",
     "exception": false,
     "start_time": "2024-05-17T09:56:29.100201",
     "status": "completed"
    },
    "tags": []
   },
   "source": [
    "#### 2. Statistical Summary of Dataset"
   ]
  },
  {
   "cell_type": "code",
   "execution_count": 8,
   "id": "1fc3308e",
   "metadata": {
    "execution": {
     "iopub.execute_input": "2024-05-17T09:56:29.225368Z",
     "iopub.status.busy": "2024-05-17T09:56:29.224771Z",
     "iopub.status.idle": "2024-05-17T09:56:29.259520Z",
     "shell.execute_reply": "2024-05-17T09:56:29.258458Z"
    },
    "papermill": {
     "duration": 0.078587,
     "end_time": "2024-05-17T09:56:29.261519",
     "exception": false,
     "start_time": "2024-05-17T09:56:29.182932",
     "status": "completed"
    },
    "tags": []
   },
   "outputs": [
    {
     "name": "stdout",
     "output_type": "stream",
     "text": [
      "<class 'pandas.core.frame.DataFrame'>\n",
      "RangeIndex: 50000 entries, 0 to 49999\n",
      "Data columns (total 2 columns):\n",
      " #   Column     Non-Null Count  Dtype \n",
      "---  ------     --------------  ----- \n",
      " 0   review     50000 non-null  object\n",
      " 1   sentiment  50000 non-null  object\n",
      "dtypes: object(2)\n",
      "memory usage: 781.4+ KB\n"
     ]
    }
   ],
   "source": [
    "df.info()"
   ]
  },
  {
   "cell_type": "markdown",
   "id": "1d083ea6",
   "metadata": {
    "papermill": {
     "duration": 0.040951,
     "end_time": "2024-05-17T09:56:29.344169",
     "exception": false,
     "start_time": "2024-05-17T09:56:29.303218",
     "status": "completed"
    },
    "tags": []
   },
   "source": [
    "#### 3. Checking if There's Any Duplicate Records."
   ]
  },
  {
   "cell_type": "code",
   "execution_count": 9,
   "id": "54a7b3b5",
   "metadata": {
    "execution": {
     "iopub.execute_input": "2024-05-17T09:56:29.426589Z",
     "iopub.status.busy": "2024-05-17T09:56:29.426304Z",
     "iopub.status.idle": "2024-05-17T09:56:29.595725Z",
     "shell.execute_reply": "2024-05-17T09:56:29.594688Z"
    },
    "papermill": {
     "duration": 0.212839,
     "end_time": "2024-05-17T09:56:29.597696",
     "exception": false,
     "start_time": "2024-05-17T09:56:29.384857",
     "status": "completed"
    },
    "tags": []
   },
   "outputs": [
    {
     "name": "stdout",
     "output_type": "stream",
     "text": [
      "Duplicates in Dataset:  418\n"
     ]
    }
   ],
   "source": [
    "print(\"Duplicates in Dataset: \",df.duplicated().sum())"
   ]
  },
  {
   "cell_type": "code",
   "execution_count": 10,
   "id": "479a0e34",
   "metadata": {
    "execution": {
     "iopub.execute_input": "2024-05-17T09:56:29.683021Z",
     "iopub.status.busy": "2024-05-17T09:56:29.682729Z",
     "iopub.status.idle": "2024-05-17T09:56:29.832876Z",
     "shell.execute_reply": "2024-05-17T09:56:29.832158Z"
    },
    "papermill": {
     "duration": 0.194317,
     "end_time": "2024-05-17T09:56:29.834846",
     "exception": false,
     "start_time": "2024-05-17T09:56:29.640529",
     "status": "completed"
    },
    "tags": []
   },
   "outputs": [],
   "source": [
    "df.drop_duplicates(inplace = True)"
   ]
  },
  {
   "cell_type": "markdown",
   "id": "199f186c",
   "metadata": {
    "papermill": {
     "duration": 0.040463,
     "end_time": "2024-05-17T09:56:29.920606",
     "exception": false,
     "start_time": "2024-05-17T09:56:29.880143",
     "status": "completed"
    },
    "tags": []
   },
   "source": [
    "#### 4. Computing Total No. of Missing Values and the Percentage of Missing Values"
   ]
  },
  {
   "cell_type": "code",
   "execution_count": 11,
   "id": "e9eb48f4",
   "metadata": {
    "execution": {
     "iopub.execute_input": "2024-05-17T09:56:30.004290Z",
     "iopub.status.busy": "2024-05-17T09:56:30.003984Z",
     "iopub.status.idle": "2024-05-17T09:56:30.028642Z",
     "shell.execute_reply": "2024-05-17T09:56:30.027732Z"
    },
    "papermill": {
     "duration": 0.068383,
     "end_time": "2024-05-17T09:56:30.030607",
     "exception": false,
     "start_time": "2024-05-17T09:56:29.962224",
     "status": "completed"
    },
    "tags": []
   },
   "outputs": [
    {
     "data": {
      "text/html": [
       "<div>\n",
       "<style scoped>\n",
       "    .dataframe tbody tr th:only-of-type {\n",
       "        vertical-align: middle;\n",
       "    }\n",
       "\n",
       "    .dataframe tbody tr th {\n",
       "        vertical-align: top;\n",
       "    }\n",
       "\n",
       "    .dataframe thead th {\n",
       "        text-align: right;\n",
       "    }\n",
       "</style>\n",
       "<table border=\"1\" class=\"dataframe\">\n",
       "  <thead>\n",
       "    <tr style=\"text-align: right;\">\n",
       "      <th></th>\n",
       "      <th>Total No. of Missing Values</th>\n",
       "      <th>% of Missing Values</th>\n",
       "    </tr>\n",
       "  </thead>\n",
       "  <tbody>\n",
       "    <tr>\n",
       "      <th>review</th>\n",
       "      <td>0</td>\n",
       "      <td>0.0</td>\n",
       "    </tr>\n",
       "    <tr>\n",
       "      <th>sentiment</th>\n",
       "      <td>0</td>\n",
       "      <td>0.0</td>\n",
       "    </tr>\n",
       "  </tbody>\n",
       "</table>\n",
       "</div>"
      ],
      "text/plain": [
       "           Total No. of Missing Values  % of Missing Values\n",
       "review                               0                  0.0\n",
       "sentiment                            0                  0.0"
      ]
     },
     "execution_count": 11,
     "metadata": {},
     "output_type": "execute_result"
    }
   ],
   "source": [
    "missing_data = df.isnull().sum().to_frame().rename(columns={0:\"Total No. of Missing Values\"})\n",
    "missing_data[\"% of Missing Values\"] = round((missing_data[\"Total No. of Missing Values\"]/len(df))*100,2)\n",
    "missing_data"
   ]
  },
  {
   "cell_type": "markdown",
   "id": "11812193",
   "metadata": {
    "papermill": {
     "duration": 0.040703,
     "end_time": "2024-05-17T09:56:30.112764",
     "exception": false,
     "start_time": "2024-05-17T09:56:30.072061",
     "status": "completed"
    },
    "tags": []
   },
   "source": [
    "#### 5. Performing Descriptive Analysis"
   ]
  },
  {
   "cell_type": "code",
   "execution_count": 12,
   "id": "256845d0",
   "metadata": {
    "execution": {
     "iopub.execute_input": "2024-05-17T09:56:30.208185Z",
     "iopub.status.busy": "2024-05-17T09:56:30.207782Z",
     "iopub.status.idle": "2024-05-17T09:56:30.324625Z",
     "shell.execute_reply": "2024-05-17T09:56:30.323686Z"
    },
    "papermill": {
     "duration": 0.161938,
     "end_time": "2024-05-17T09:56:30.326606",
     "exception": false,
     "start_time": "2024-05-17T09:56:30.164668",
     "status": "completed"
    },
    "tags": []
   },
   "outputs": [
    {
     "data": {
      "text/html": [
       "<div>\n",
       "<style scoped>\n",
       "    .dataframe tbody tr th:only-of-type {\n",
       "        vertical-align: middle;\n",
       "    }\n",
       "\n",
       "    .dataframe tbody tr th {\n",
       "        vertical-align: top;\n",
       "    }\n",
       "\n",
       "    .dataframe thead th {\n",
       "        text-align: right;\n",
       "    }\n",
       "</style>\n",
       "<table border=\"1\" class=\"dataframe\">\n",
       "  <thead>\n",
       "    <tr style=\"text-align: right;\">\n",
       "      <th></th>\n",
       "      <th>count</th>\n",
       "      <th>unique</th>\n",
       "      <th>top</th>\n",
       "      <th>freq</th>\n",
       "    </tr>\n",
       "  </thead>\n",
       "  <tbody>\n",
       "    <tr>\n",
       "      <th>review</th>\n",
       "      <td>49582</td>\n",
       "      <td>49582</td>\n",
       "      <td>One of the other reviewers has mentioned that ...</td>\n",
       "      <td>1</td>\n",
       "    </tr>\n",
       "    <tr>\n",
       "      <th>sentiment</th>\n",
       "      <td>49582</td>\n",
       "      <td>2</td>\n",
       "      <td>positive</td>\n",
       "      <td>24884</td>\n",
       "    </tr>\n",
       "  </tbody>\n",
       "</table>\n",
       "</div>"
      ],
      "text/plain": [
       "           count unique                                                top  \\\n",
       "review     49582  49582  One of the other reviewers has mentioned that ...   \n",
       "sentiment  49582      2                                           positive   \n",
       "\n",
       "            freq  \n",
       "review         1  \n",
       "sentiment  24884  "
      ]
     },
     "execution_count": 12,
     "metadata": {},
     "output_type": "execute_result"
    }
   ],
   "source": [
    "round(df.describe(include=\"O\").T,2)"
   ]
  },
  {
   "cell_type": "markdown",
   "id": "a88a163c",
   "metadata": {
    "papermill": {
     "duration": 0.041465,
     "end_time": "2024-05-17T09:56:30.412428",
     "exception": false,
     "start_time": "2024-05-17T09:56:30.370963",
     "status": "completed"
    },
    "tags": []
   },
   "source": [
    "## <div style=\"text-align: left; background-color:aliceblue ; font-family: Trebuchet MS; color: black; padding: 15px; line-height:1;border-radius:1px; margin-bottom: 0em; text-align: center; font-size: 25px;border-style: solid;border-color: dark green;\"> Exploratory Data Analysis EDA  </div> "
   ]
  },
  {
   "cell_type": "markdown",
   "id": "e1122a3e",
   "metadata": {
    "execution": {
     "iopub.execute_input": "2024-05-15T10:05:49.527788Z",
     "iopub.status.busy": "2024-05-15T10:05:49.527349Z",
     "iopub.status.idle": "2024-05-15T10:05:49.534216Z",
     "shell.execute_reply": "2024-05-15T10:05:49.532318Z",
     "shell.execute_reply.started": "2024-05-15T10:05:49.527757Z"
    },
    "papermill": {
     "duration": 0.041412,
     "end_time": "2024-05-17T09:56:30.495220",
     "exception": false,
     "start_time": "2024-05-17T09:56:30.453808",
     "status": "completed"
    },
    "tags": []
   },
   "source": [
    "#### 1. Visualizing the Distribution of each sentiment class"
   ]
  },
  {
   "cell_type": "code",
   "execution_count": 13,
   "id": "529573ac",
   "metadata": {
    "execution": {
     "iopub.execute_input": "2024-05-17T09:56:30.580467Z",
     "iopub.status.busy": "2024-05-17T09:56:30.580132Z",
     "iopub.status.idle": "2024-05-17T09:56:31.062593Z",
     "shell.execute_reply": "2024-05-17T09:56:31.061445Z"
    },
    "papermill": {
     "duration": 0.528762,
     "end_time": "2024-05-17T09:56:31.065398",
     "exception": false,
     "start_time": "2024-05-17T09:56:30.536636",
     "status": "completed"
    },
    "tags": []
   },
   "outputs": [
    {
     "data": {
      "image/png": "[encoded data removed]",
      "text/plain": [
       "<Figure size 1700x600 with 2 Axes>"
      ]
     },
     "metadata": {},
     "output_type": "display_data"
    }
   ],
   "source": [
    "classes = ['positive','negative']\n",
    "\n",
    "plt.figure(figsize=(17, 6))\n",
    "plt.subplot(1, 2, 1)\n",
    "sentiment_counts = df[\"sentiment\"].value_counts()\n",
    "sns.barplot(x=sentiment_counts.index, y=sentiment_counts.values, palette='Set2', order=classes)\n",
    "plt.title(\"Distribution of NObeyesdad Classes\", fontweight=\"black\", size=14, pad=15)\n",
    "for i, v in enumerate(sentiment_counts.values):\n",
    "    plt.text(i, v, v, ha=\"center\", fontsize=14)\n",
    "plt.xticks(rotation=90)\n",
    "\n",
    "plt.subplot(1, 2, 2)\n",
    "colors = sns.color_palette('Set2', len(classes))\n",
    "plt.pie(sentiment_counts, labels=classes, autopct=\"%.2f%%\", textprops={\"size\": 14},\n",
    "        colors=colors, startangle=90)\n",
    "center_circle = plt.Circle((0, 0), 0.3, fc='white')\n",
    "fig = plt.gcf()\n",
    "fig.gca().add_artist(center_circle)\n",
    "plt.title(\"Distribution of sentiment Classes\", fontweight=\"black\", size=14, pad=15)\n",
    "plt.show()"
   ]
  },
  {
   "cell_type": "markdown",
   "id": "995cadc4",
   "metadata": {
    "papermill": {
     "duration": 0.043953,
     "end_time": "2024-05-17T09:56:31.156980",
     "exception": false,
     "start_time": "2024-05-17T09:56:31.113027",
     "status": "completed"
    },
    "tags": []
   },
   "source": [
    "## <div style=\"text-align: left; background-color:aliceblue ; font-family: Trebuchet MS; color: black; padding: 15px; line-height:1;border-radius:1px; margin-bottom: 0em; text-align: center; font-size: 25px;border-style: solid;border-color: dark green;\"> Preprocessing  </div> "
   ]
  },
  {
   "cell_type": "markdown",
   "id": "a3059fb8",
   "metadata": {
    "papermill": {
     "duration": 0.043475,
     "end_time": "2024-05-17T09:56:31.249658",
     "exception": false,
     "start_time": "2024-05-17T09:56:31.206183",
     "status": "completed"
    },
    "tags": []
   },
   "source": [
    "#### 1. Lowercasing "
   ]
  },
  {
   "cell_type": "code",
   "execution_count": 14,
   "id": "2e14f403",
   "metadata": {
    "execution": {
     "iopub.execute_input": "2024-05-17T09:56:31.338226Z",
     "iopub.status.busy": "2024-05-17T09:56:31.337872Z",
     "iopub.status.idle": "2024-05-17T09:56:31.527830Z",
     "shell.execute_reply": "2024-05-17T09:56:31.526827Z"
    },
    "papermill": {
     "duration": 0.236914,
     "end_time": "2024-05-17T09:56:31.530121",
     "exception": false,
     "start_time": "2024-05-17T09:56:31.293207",
     "status": "completed"
    },
    "tags": []
   },
   "outputs": [],
   "source": [
    "df['review'] = df['review'].str.lower()"
   ]
  },
  {
   "cell_type": "code",
   "execution_count": 15,
   "id": "a9cad8a8",
   "metadata": {
    "execution": {
     "iopub.execute_input": "2024-05-17T09:56:31.619939Z",
     "iopub.status.busy": "2024-05-17T09:56:31.619607Z",
     "iopub.status.idle": "2024-05-17T09:56:31.629374Z",
     "shell.execute_reply": "2024-05-17T09:56:31.628515Z"
    },
    "papermill": {
     "duration": 0.055976,
     "end_time": "2024-05-17T09:56:31.631429",
     "exception": false,
     "start_time": "2024-05-17T09:56:31.575453",
     "status": "completed"
    },
    "tags": []
   },
   "outputs": [
    {
     "data": {
      "text/plain": [
       "0        one of the other reviewers has mentioned that ...\n",
       "1        a wonderful little production. <br /><br />the...\n",
       "2        i thought this was a wonderful way to spend ti...\n",
       "3        basically there's a family where a little boy ...\n",
       "4        petter mattei's \"love in the time of money\" is...\n",
       "                               ...                        \n",
       "49995    i thought this movie did a down right good job...\n",
       "49996    bad plot, bad dialogue, bad acting, idiotic di...\n",
       "49997    i am a catholic taught in parochial elementary...\n",
       "49998    i'm going to have to disagree with the previou...\n",
       "49999    no one expects the star trek movies to be high...\n",
       "Name: review, Length: 49582, dtype: object"
      ]
     },
     "execution_count": 15,
     "metadata": {},
     "output_type": "execute_result"
    }
   ],
   "source": [
    "df['review']"
   ]
  },
  {
   "cell_type": "markdown",
   "id": "c4981f54",
   "metadata": {
    "papermill": {
     "duration": 0.042609,
     "end_time": "2024-05-17T09:56:31.717474",
     "exception": false,
     "start_time": "2024-05-17T09:56:31.674865",
     "status": "completed"
    },
    "tags": []
   },
   "source": [
    "#### 2. Removing Html tags"
   ]
  },
  {
   "cell_type": "code",
   "execution_count": 16,
   "id": "c1e12f75",
   "metadata": {
    "execution": {
     "iopub.execute_input": "2024-05-17T09:56:31.806571Z",
     "iopub.status.busy": "2024-05-17T09:56:31.805846Z",
     "iopub.status.idle": "2024-05-17T09:56:31.810623Z",
     "shell.execute_reply": "2024-05-17T09:56:31.809791Z"
    },
    "papermill": {
     "duration": 0.052176,
     "end_time": "2024-05-17T09:56:31.812492",
     "exception": false,
     "start_time": "2024-05-17T09:56:31.760316",
     "status": "completed"
    },
    "tags": []
   },
   "outputs": [],
   "source": [
    "import re\n",
    "def remove_html_tags(text):\n",
    "    pattern = r'[^a-zA-Z0-9\\s]'\n",
    "    text = re.sub(pattern,'',text)\n",
    "    return text"
   ]
  },
  {
   "cell_type": "code",
   "execution_count": 17,
   "id": "cd784c2d",
   "metadata": {
    "execution": {
     "iopub.execute_input": "2024-05-17T09:56:31.902831Z",
     "iopub.status.busy": "2024-05-17T09:56:31.902513Z",
     "iopub.status.idle": "2024-05-17T09:56:34.246396Z",
     "shell.execute_reply": "2024-05-17T09:56:34.245589Z"
    },
    "papermill": {
     "duration": 2.392486,
     "end_time": "2024-05-17T09:56:34.248709",
     "exception": false,
     "start_time": "2024-05-17T09:56:31.856223",
     "status": "completed"
    },
    "tags": []
   },
   "outputs": [],
   "source": [
    "df['review'] = df['review'].apply(remove_html_tags)"
   ]
  },
  {
   "cell_type": "markdown",
   "id": "75051b43",
   "metadata": {
    "execution": {
     "iopub.execute_input": "2024-05-15T14:02:23.745964Z",
     "iopub.status.busy": "2024-05-15T14:02:23.744770Z",
     "iopub.status.idle": "2024-05-15T14:02:23.752149Z",
     "shell.execute_reply": "2024-05-15T14:02:23.750777Z",
     "shell.execute_reply.started": "2024-05-15T14:02:23.745907Z"
    },
    "papermill": {
     "duration": 0.042941,
     "end_time": "2024-05-17T09:56:34.336202",
     "exception": false,
     "start_time": "2024-05-17T09:56:34.293261",
     "status": "completed"
    },
    "tags": []
   },
   "source": [
    "#### 3. Removing URLs"
   ]
  },
  {
   "cell_type": "code",
   "execution_count": 18,
   "id": "40aba3df",
   "metadata": {
    "execution": {
     "iopub.execute_input": "2024-05-17T09:56:34.423511Z",
     "iopub.status.busy": "2024-05-17T09:56:34.422567Z",
     "iopub.status.idle": "2024-05-17T09:56:35.788333Z",
     "shell.execute_reply": "2024-05-17T09:56:35.787530Z"
    },
    "papermill": {
     "duration": 1.411824,
     "end_time": "2024-05-17T09:56:35.790685",
     "exception": false,
     "start_time": "2024-05-17T09:56:34.378861",
     "status": "completed"
    },
    "tags": []
   },
   "outputs": [],
   "source": [
    "def remove_url(text):\n",
    "    pattern = re.compile(r'https?://\\S+|www\\.\\S+')\n",
    "    return pattern.sub(r'',text)\n",
    "\n",
    "df['review'] = df['review'].apply(remove_url)"
   ]
  },
  {
   "cell_type": "markdown",
   "id": "eca28d50",
   "metadata": {
    "papermill": {
     "duration": 0.046082,
     "end_time": "2024-05-17T09:56:35.883635",
     "exception": false,
     "start_time": "2024-05-17T09:56:35.837553",
     "status": "completed"
    },
    "tags": []
   },
   "source": [
    "#### 4. Remove Punctuation"
   ]
  },
  {
   "cell_type": "code",
   "execution_count": 19,
   "id": "71e0f259",
   "metadata": {
    "execution": {
     "iopub.execute_input": "2024-05-17T09:56:35.973085Z",
     "iopub.status.busy": "2024-05-17T09:56:35.972397Z",
     "iopub.status.idle": "2024-05-17T09:56:35.978025Z",
     "shell.execute_reply": "2024-05-17T09:56:35.977177Z"
    },
    "papermill": {
     "duration": 0.052372,
     "end_time": "2024-05-17T09:56:35.980030",
     "exception": false,
     "start_time": "2024-05-17T09:56:35.927658",
     "status": "completed"
    },
    "tags": []
   },
   "outputs": [
    {
     "data": {
      "text/plain": [
       "'!\"#$%&\\'()*+,-./:;<=>?@[\\\\]^_`{|}~'"
      ]
     },
     "execution_count": 19,
     "metadata": {},
     "output_type": "execute_result"
    }
   ],
   "source": [
    "import string,time\n",
    "string.punctuation"
   ]
  },
  {
   "cell_type": "code",
   "execution_count": 20,
   "id": "2f5a04b2",
   "metadata": {
    "execution": {
     "iopub.execute_input": "2024-05-17T09:56:36.070351Z",
     "iopub.status.busy": "2024-05-17T09:56:36.070078Z",
     "iopub.status.idle": "2024-05-17T09:56:36.074297Z",
     "shell.execute_reply": "2024-05-17T09:56:36.073478Z"
    },
    "papermill": {
     "duration": 0.052252,
     "end_time": "2024-05-17T09:56:36.076174",
     "exception": false,
     "start_time": "2024-05-17T09:56:36.023922",
     "status": "completed"
    },
    "tags": []
   },
   "outputs": [],
   "source": [
    "def remove_punctuation(text):\n",
    "    return text.translate(str.maketrans('','',string.punctuation))"
   ]
  },
  {
   "cell_type": "code",
   "execution_count": 21,
   "id": "68ce1595",
   "metadata": {
    "execution": {
     "iopub.execute_input": "2024-05-17T09:56:36.165818Z",
     "iopub.status.busy": "2024-05-17T09:56:36.165229Z",
     "iopub.status.idle": "2024-05-17T09:56:36.691459Z",
     "shell.execute_reply": "2024-05-17T09:56:36.690646Z"
    },
    "papermill": {
     "duration": 0.573028,
     "end_time": "2024-05-17T09:56:36.693655",
     "exception": false,
     "start_time": "2024-05-17T09:56:36.120627",
     "status": "completed"
    },
    "tags": []
   },
   "outputs": [],
   "source": [
    "df['review'] = df['review'].apply(remove_punctuation)"
   ]
  },
  {
   "cell_type": "markdown",
   "id": "562a2125",
   "metadata": {
    "papermill": {
     "duration": 0.043492,
     "end_time": "2024-05-17T09:56:36.782241",
     "exception": false,
     "start_time": "2024-05-17T09:56:36.738749",
     "status": "completed"
    },
    "tags": []
   },
   "source": [
    "#### 5. Chat word  treatment"
   ]
  },
  {
   "cell_type": "code",
   "execution_count": 22,
   "id": "b89ee448",
   "metadata": {
    "execution": {
     "iopub.execute_input": "2024-05-17T09:56:36.870569Z",
     "iopub.status.busy": "2024-05-17T09:56:36.870254Z",
     "iopub.status.idle": "2024-05-17T09:56:36.882423Z",
     "shell.execute_reply": "2024-05-17T09:56:36.881535Z"
    },
    "papermill": {
     "duration": 0.058729,
     "end_time": "2024-05-17T09:56:36.884315",
     "exception": false,
     "start_time": "2024-05-17T09:56:36.825586",
     "status": "completed"
    },
    "tags": []
   },
   "outputs": [],
   "source": [
    "chat_words = {\n",
    "    \"AFAIK\": \"As Far As I Know\",\n",
    "    \"AFK\": \"Away From Keyboard\",\n",
    "    \"ASAP\": \"As Soon As Possible\",\n",
    "    \"ATK\": \"At The Keyboard\",\n",
    "    \"ATM\": \"At The Moment\",\n",
    "    \"A3\": \"Anytime, Anywhere, Anyplace\",\n",
    "    \"BAK\": \"Back At Keyboard\",\n",
    "    \"BBL\": \"Be Back Later\",\n",
    "    \"BBS\": \"Be Back Soon\",\n",
    "    \"BFN\": \"Bye For Now\",\n",
    "    \"B4N\": \"Bye For Now\",\n",
    "    \"BRB\": \"Be Right Back\",\n",
    "    \"BRT\": \"Be Right There\",\n",
    "    \"BTW\": \"By The Way\",\n",
    "    \"B4\": \"Before\",\n",
    "    \"CU\": \"See You\",\n",
    "    \"CUL8R\": \"See You Later\",\n",
    "    \"CYA\": \"See You\",\n",
    "    \"FAQ\": \"Frequently Asked Questions\",\n",
    "    \"FC\": \"Fingers Crossed\",\n",
    "    \"FWIW\": \"For What It's Worth\",\n",
    "    \"FYI\": \"For Your Information\",\n",
    "    \"GAL\": \"Get A Life\",\n",
    "    \"GG\": \"Good Game\",\n",
    "    \"GN\": \"Good Night\",\n",
    "    \"GMTA\": \"Great Minds Think Alike\",\n",
    "    \"GR8\": \"Great!\",\n",
    "    \"G9\": \"Genius\",\n",
    "    \"IC\": \"I See\",\n",
    "    \"ICQ\": \"I Seek you (also a chat program)\",\n",
    "    \"ILU\": \"I Love You\",\n",
    "    \"IMHO\": \"In My Honest/Humble Opinion\",\n",
    "    \"IMO\": \"In My Opinion\",\n",
    "    \"IOW\": \"In Other Words\",\n",
    "    \"IRL\": \"In Real Life\",\n",
    "    \"KISS\": \"Keep It Simple, Stupid\",\n",
    "    \"LDR\": \"Long Distance Relationship\",\n",
    "    \"LMAO\": \"Laugh My A.. Off\",\n",
    "    \"LOL\": \"Laughing Out Loud\",\n",
    "    \"LTNS\": \"Long Time No See\",\n",
    "    \"L8R\": \"Later\",\n",
    "    \"MTE\": \"My Thoughts Exactly\",\n",
    "    \"M8\": \"Mate\",\n",
    "    \"NRN\": \"No Reply Necessary\",\n",
    "    \"OIC\": \"Oh I See\",\n",
    "    \"PITA\": \"Pain In The A..\",\n",
    "    \"PRT\": \"Party\",\n",
    "    \"PRW\": \"Parents Are Watching\",\n",
    "    \"QPSA\": \"Que Pasa?\",\n",
    "    \"ROFL\": \"Rolling On The Floor Laughing\",\n",
    "    \"ROFLOL\": \"Rolling On The Floor Laughing Out Loud\",\n",
    "    \"ROTFLMAO\": \"Rolling On The Floor Laughing My A.. Off\",\n",
    "    \"SK8\": \"Skate\",\n",
    "    \"STATS\": \"Your sex and age\",\n",
    "    \"ASL\": \"Age, Sex, Location\",\n",
    "    \"THX\": \"Thank You\",\n",
    "    \"TTFN\": \"Ta-Ta For Now!\",\n",
    "    \"TTYL\": \"Talk To You Later\",\n",
    "    \"U\": \"You\",\n",
    "    \"U2\": \"You Too\",\n",
    "    \"U4E\": \"Yours For Ever\",\n",
    "    \"WB\": \"Welcome Back\",\n",
    "    \"WTF\": \"What The F...\",\n",
    "    \"WTG\": \"Way To Go!\",\n",
    "    \"WUF\": \"Where Are You From?\",\n",
    "    \"W8\": \"Wait...\",\n",
    "    \"7K\": \"Sick:-D Laughter\",\n",
    "    \"TFW\": \"That feeling when\",\n",
    "    \"MFW\": \"My face when\",\n",
    "    \"MRW\": \"My reaction when\",\n",
    "    \"IFYP\": \"I feel your pain\",\n",
    "    \"LOL\": \"Laughing out loud\",\n",
    "    \"TNTL\": \"Trying not to laugh\",\n",
    "    \"JK\": \"Just kidding\",\n",
    "    \"IDC\": \"I don’t care\",\n",
    "    \"ILY\": \"I love you\",\n",
    "    \"IMU\": \"I miss you\",\n",
    "    \"ADIH\": \"Another day in hell\",\n",
    "    \"IDC\": \"I don’t care\",\n",
    "    \"ZZZ\": \"Sleeping, bored, tired\",\n",
    "    \"WYWH\": \"Wish you were here\",\n",
    "    \"TIME\": \"Tears in my eyes\",\n",
    "    \"BAE\": \"Before anyone else\",\n",
    "    \"FIMH\": \"Forever in my heart\",\n",
    "    \"BSAAW\": \"Big smile and a wink\",\n",
    "    \"BWL\": \"Bursting with laughter\",\n",
    "    \"LMAO\": \"Laughing my a** off\",\n",
    "    \"BFF\": \"Best friends forever\",\n",
    "    \"CSL\": \"Can’t stop laughing\",\n",
    "}\n"
   ]
  },
  {
   "cell_type": "code",
   "execution_count": 23,
   "id": "f51b1e78",
   "metadata": {
    "execution": {
     "iopub.execute_input": "2024-05-17T09:56:36.973420Z",
     "iopub.status.busy": "2024-05-17T09:56:36.973146Z",
     "iopub.status.idle": "2024-05-17T09:56:36.978010Z",
     "shell.execute_reply": "2024-05-17T09:56:36.977175Z"
    },
    "papermill": {
     "duration": 0.052176,
     "end_time": "2024-05-17T09:56:36.979930",
     "exception": false,
     "start_time": "2024-05-17T09:56:36.927754",
     "status": "completed"
    },
    "tags": []
   },
   "outputs": [],
   "source": [
    "def chat_conversion(text):\n",
    "    new_text=[]\n",
    "    for w in text.split():\n",
    "        if w.upper() in chat_words:\n",
    "            new_text.append(chat_words[w.upper()])\n",
    "        else:\n",
    "            new_text.append(w)\n",
    "    return \" \".join(new_text)"
   ]
  },
  {
   "cell_type": "code",
   "execution_count": 24,
   "id": "555b5552",
   "metadata": {
    "execution": {
     "iopub.execute_input": "2024-05-17T09:56:37.068411Z",
     "iopub.status.busy": "2024-05-17T09:56:37.068133Z",
     "iopub.status.idle": "2024-05-17T09:56:41.512664Z",
     "shell.execute_reply": "2024-05-17T09:56:41.511838Z"
    },
    "papermill": {
     "duration": 4.491211,
     "end_time": "2024-05-17T09:56:41.514906",
     "exception": false,
     "start_time": "2024-05-17T09:56:37.023695",
     "status": "completed"
    },
    "tags": []
   },
   "outputs": [],
   "source": [
    "df['review'] = df['review'].apply(chat_conversion)"
   ]
  },
  {
   "cell_type": "markdown",
   "id": "be4ca7d1",
   "metadata": {
    "papermill": {
     "duration": 0.043917,
     "end_time": "2024-05-17T09:56:41.603127",
     "exception": false,
     "start_time": "2024-05-17T09:56:41.559210",
     "status": "completed"
    },
    "tags": []
   },
   "source": [
    "#### 7. Removing Stopword"
   ]
  },
  {
   "cell_type": "code",
   "execution_count": 25,
   "id": "6f6f0a63",
   "metadata": {
    "execution": {
     "iopub.execute_input": "2024-05-17T09:56:41.692098Z",
     "iopub.status.busy": "2024-05-17T09:56:41.691748Z",
     "iopub.status.idle": "2024-05-17T09:56:41.704775Z",
     "shell.execute_reply": "2024-05-17T09:56:41.703949Z"
    },
    "papermill": {
     "duration": 0.060186,
     "end_time": "2024-05-17T09:56:41.706701",
     "exception": false,
     "start_time": "2024-05-17T09:56:41.646515",
     "status": "completed"
    },
    "tags": []
   },
   "outputs": [
    {
     "data": {
      "text/plain": [
       "['i',\n",
       " 'me',\n",
       " 'my',\n",
       " 'myself',\n",
       " 'we',\n",
       " 'our',\n",
       " 'ours',\n",
       " 'ourselves',\n",
       " 'you',\n",
       " \"you're\",\n",
       " \"you've\",\n",
       " \"you'll\",\n",
       " \"you'd\",\n",
       " 'your',\n",
       " 'yours',\n",
       " 'yourself',\n",
       " 'yourselves',\n",
       " 'he',\n",
       " 'him',\n",
       " 'his',\n",
       " 'himself',\n",
       " 'she',\n",
       " \"she's\",\n",
       " 'her',\n",
       " 'hers',\n",
       " 'herself',\n",
       " 'it',\n",
       " \"it's\",\n",
       " 'its',\n",
       " 'itself',\n",
       " 'they',\n",
       " 'them',\n",
       " 'their',\n",
       " 'theirs',\n",
       " 'themselves',\n",
       " 'what',\n",
       " 'which',\n",
       " 'who',\n",
       " 'whom',\n",
       " 'this',\n",
       " 'that',\n",
       " \"that'll\",\n",
       " 'these',\n",
       " 'those',\n",
       " 'am',\n",
       " 'is',\n",
       " 'are',\n",
       " 'was',\n",
       " 'were',\n",
       " 'be',\n",
       " 'been',\n",
       " 'being',\n",
       " 'have',\n",
       " 'has',\n",
       " 'had',\n",
       " 'having',\n",
       " 'do',\n",
       " 'does',\n",
       " 'did',\n",
       " 'doing',\n",
       " 'a',\n",
       " 'an',\n",
       " 'the',\n",
       " 'and',\n",
       " 'but',\n",
       " 'if',\n",
       " 'or',\n",
       " 'because',\n",
       " 'as',\n",
       " 'until',\n",
       " 'while',\n",
       " 'of',\n",
       " 'at',\n",
       " 'by',\n",
       " 'for',\n",
       " 'with',\n",
       " 'about',\n",
       " 'against',\n",
       " 'between',\n",
       " 'into',\n",
       " 'through',\n",
       " 'during',\n",
       " 'before',\n",
       " 'after',\n",
       " 'above',\n",
       " 'below',\n",
       " 'to',\n",
       " 'from',\n",
       " 'up',\n",
       " 'down',\n",
       " 'in',\n",
       " 'out',\n",
       " 'on',\n",
       " 'off',\n",
       " 'over',\n",
       " 'under',\n",
       " 'again',\n",
       " 'further',\n",
       " 'then',\n",
       " 'once',\n",
       " 'here',\n",
       " 'there',\n",
       " 'when',\n",
       " 'where',\n",
       " 'why',\n",
       " 'how',\n",
       " 'all',\n",
       " 'any',\n",
       " 'both',\n",
       " 'each',\n",
       " 'few',\n",
       " 'more',\n",
       " 'most',\n",
       " 'other',\n",
       " 'some',\n",
       " 'such',\n",
       " 'no',\n",
       " 'nor',\n",
       " 'not',\n",
       " 'only',\n",
       " 'own',\n",
       " 'same',\n",
       " 'so',\n",
       " 'than',\n",
       " 'too',\n",
       " 'very',\n",
       " 's',\n",
       " 't',\n",
       " 'can',\n",
       " 'will',\n",
       " 'just',\n",
       " 'don',\n",
       " \"don't\",\n",
       " 'should',\n",
       " \"should've\",\n",
       " 'now',\n",
       " 'd',\n",
       " 'll',\n",
       " 'm',\n",
       " 'o',\n",
       " 're',\n",
       " 've',\n",
       " 'y',\n",
       " 'ain',\n",
       " 'aren',\n",
       " \"aren't\",\n",
       " 'couldn',\n",
       " \"couldn't\",\n",
       " 'didn',\n",
       " \"didn't\",\n",
       " 'doesn',\n",
       " \"doesn't\",\n",
       " 'hadn',\n",
       " \"hadn't\",\n",
       " 'hasn',\n",
       " \"hasn't\",\n",
       " 'haven',\n",
       " \"haven't\",\n",
       " 'isn',\n",
       " \"isn't\",\n",
       " 'ma',\n",
       " 'mightn',\n",
       " \"mightn't\",\n",
       " 'mustn',\n",
       " \"mustn't\",\n",
       " 'needn',\n",
       " \"needn't\",\n",
       " 'shan',\n",
       " \"shan't\",\n",
       " 'shouldn',\n",
       " \"shouldn't\",\n",
       " 'wasn',\n",
       " \"wasn't\",\n",
       " 'weren',\n",
       " \"weren't\",\n",
       " 'won',\n",
       " \"won't\",\n",
       " 'wouldn',\n",
       " \"wouldn't\"]"
      ]
     },
     "execution_count": 25,
     "metadata": {},
     "output_type": "execute_result"
    }
   ],
   "source": [
    "from nltk.corpus import stopwords\n",
    "\n",
    "stop_words = stopwords.words('english')\n",
    "stop_words"
   ]
  },
  {
   "cell_type": "code",
   "execution_count": 26,
   "id": "e9cf4bf2",
   "metadata": {
    "execution": {
     "iopub.execute_input": "2024-05-17T09:56:41.795105Z",
     "iopub.status.busy": "2024-05-17T09:56:41.794822Z",
     "iopub.status.idle": "2024-05-17T09:56:41.800008Z",
     "shell.execute_reply": "2024-05-17T09:56:41.799072Z"
    },
    "papermill": {
     "duration": 0.051548,
     "end_time": "2024-05-17T09:56:41.801994",
     "exception": false,
     "start_time": "2024-05-17T09:56:41.750446",
     "status": "completed"
    },
    "tags": []
   },
   "outputs": [],
   "source": [
    "def stopwords_removal(text):\n",
    "    new_text=[]\n",
    "    for word in text.split():\n",
    "        if word in stop_words:\n",
    "            new_text.append('')\n",
    "        else:\n",
    "            new_text.append(word)\n",
    "    x=new_text[:]\n",
    "    new_text.clear()\n",
    "    return \" \".join(x)            "
   ]
  },
  {
   "cell_type": "code",
   "execution_count": 27,
   "id": "2cc4b88f",
   "metadata": {
    "execution": {
     "iopub.execute_input": "2024-05-17T09:56:41.890207Z",
     "iopub.status.busy": "2024-05-17T09:56:41.889943Z",
     "iopub.status.idle": "2024-05-17T09:57:02.939923Z",
     "shell.execute_reply": "2024-05-17T09:57:02.938826Z"
    },
    "papermill": {
     "duration": 21.096875,
     "end_time": "2024-05-17T09:57:02.942417",
     "exception": false,
     "start_time": "2024-05-17T09:56:41.845542",
     "status": "completed"
    },
    "tags": []
   },
   "outputs": [
    {
     "data": {
      "text/html": [
       "<div>\n",
       "<style scoped>\n",
       "    .dataframe tbody tr th:only-of-type {\n",
       "        vertical-align: middle;\n",
       "    }\n",
       "\n",
       "    .dataframe tbody tr th {\n",
       "        vertical-align: top;\n",
       "    }\n",
       "\n",
       "    .dataframe thead th {\n",
       "        text-align: right;\n",
       "    }\n",
       "</style>\n",
       "<table border=\"1\" class=\"dataframe\">\n",
       "  <thead>\n",
       "    <tr style=\"text-align: right;\">\n",
       "      <th></th>\n",
       "      <th>review</th>\n",
       "      <th>sentiment</th>\n",
       "    </tr>\n",
       "  </thead>\n",
       "  <tbody>\n",
       "    <tr>\n",
       "      <th>0</th>\n",
       "      <td>one    reviewers  mentioned   watching  1 oz e...</td>\n",
       "      <td>positive</td>\n",
       "    </tr>\n",
       "    <tr>\n",
       "      <th>1</th>\n",
       "      <td>wonderful little production br br  filming te...</td>\n",
       "      <td>positive</td>\n",
       "    </tr>\n",
       "    <tr>\n",
       "      <th>2</th>\n",
       "      <td>thought    wonderful way  spend Tears   eyes ...</td>\n",
       "      <td>positive</td>\n",
       "    </tr>\n",
       "    <tr>\n",
       "      <th>3</th>\n",
       "      <td>basically theres  family   little boy jake thi...</td>\n",
       "      <td>negative</td>\n",
       "    </tr>\n",
       "    <tr>\n",
       "      <th>4</th>\n",
       "      <td>petter matteis love   Tears   eyes  money   vi...</td>\n",
       "      <td>positive</td>\n",
       "    </tr>\n",
       "  </tbody>\n",
       "</table>\n",
       "</div>"
      ],
      "text/plain": [
       "                                              review sentiment\n",
       "0  one    reviewers  mentioned   watching  1 oz e...  positive\n",
       "1   wonderful little production br br  filming te...  positive\n",
       "2   thought    wonderful way  spend Tears   eyes ...  positive\n",
       "3  basically theres  family   little boy jake thi...  negative\n",
       "4  petter matteis love   Tears   eyes  money   vi...  positive"
      ]
     },
     "execution_count": 27,
     "metadata": {},
     "output_type": "execute_result"
    }
   ],
   "source": [
    "df['review']=df['review'].apply(stopwords_removal)\n",
    "df.head()"
   ]
  },
  {
   "cell_type": "markdown",
   "id": "9c553902",
   "metadata": {
    "papermill": {
     "duration": 0.044174,
     "end_time": "2024-05-17T09:57:03.035735",
     "exception": false,
     "start_time": "2024-05-17T09:57:02.991561",
     "status": "completed"
    },
    "tags": []
   },
   "source": [
    "#### 8. Removing Emojis"
   ]
  },
  {
   "cell_type": "code",
   "execution_count": 28,
   "id": "4e315e7c",
   "metadata": {
    "execution": {
     "iopub.execute_input": "2024-05-17T09:57:03.126327Z",
     "iopub.status.busy": "2024-05-17T09:57:03.125239Z",
     "iopub.status.idle": "2024-05-17T09:57:03.131940Z",
     "shell.execute_reply": "2024-05-17T09:57:03.130981Z"
    },
    "papermill": {
     "duration": 0.053829,
     "end_time": "2024-05-17T09:57:03.133834",
     "exception": false,
     "start_time": "2024-05-17T09:57:03.080005",
     "status": "completed"
    },
    "tags": []
   },
   "outputs": [],
   "source": [
    "def remove_emoji(text):\n",
    "    emoji_pattern = re.compile(\"[\"\n",
    "                           u\"\\U0001F600-\\U0001F64F\"  # emoticons\n",
    "                           u\"\\U0001F300-\\U0001F5FF\"  # symbols & pictographs\n",
    "                           u\"\\U0001F680-\\U0001F6FF\"  # transport & map symbols\n",
    "                           u\"\\U0001F1E0-\\U0001F1FF\"  # flags (iOS)\n",
    "                           u\"\\U00002702-\\U000027B0\"\n",
    "                           u\"\\U000024C2-\\U0001F251\"\n",
    "                           \"]+\", flags=re.UNICODE)\n",
    "    return emoji_pattern.sub(r'', text)"
   ]
  },
  {
   "cell_type": "code",
   "execution_count": 29,
   "id": "597f764d",
   "metadata": {
    "execution": {
     "iopub.execute_input": "2024-05-17T09:57:03.225971Z",
     "iopub.status.busy": "2024-05-17T09:57:03.225279Z",
     "iopub.status.idle": "2024-05-17T09:57:06.117860Z",
     "shell.execute_reply": "2024-05-17T09:57:06.117009Z"
    },
    "papermill": {
     "duration": 2.940472,
     "end_time": "2024-05-17T09:57:06.120287",
     "exception": false,
     "start_time": "2024-05-17T09:57:03.179815",
     "status": "completed"
    },
    "tags": []
   },
   "outputs": [],
   "source": [
    "df['review']=df['review'].apply(remove_emoji)"
   ]
  },
  {
   "cell_type": "markdown",
   "id": "710342e2",
   "metadata": {
    "papermill": {
     "duration": 0.045058,
     "end_time": "2024-05-17T09:57:06.214142",
     "exception": false,
     "start_time": "2024-05-17T09:57:06.169084",
     "status": "completed"
    },
    "tags": []
   },
   "source": [
    "#### 9. Removing contractions"
   ]
  },
  {
   "cell_type": "code",
   "execution_count": 30,
   "id": "db27a0fd",
   "metadata": {
    "execution": {
     "iopub.execute_input": "2024-05-17T09:57:06.304647Z",
     "iopub.status.busy": "2024-05-17T09:57:06.304107Z",
     "iopub.status.idle": "2024-05-17T09:57:10.889511Z",
     "shell.execute_reply": "2024-05-17T09:57:10.888733Z"
    },
    "papermill": {
     "duration": 4.632662,
     "end_time": "2024-05-17T09:57:10.891776",
     "exception": false,
     "start_time": "2024-05-17T09:57:06.259114",
     "status": "completed"
    },
    "tags": []
   },
   "outputs": [],
   "source": [
    "def expand_contractions(text):\n",
    "    expanded_text = contractions.fix(text)\n",
    "    return expanded_text\n",
    "\n",
    "df['review'] = df['review'].apply(expand_contractions)\n"
   ]
  },
  {
   "cell_type": "markdown",
   "id": "d604c8a4",
   "metadata": {
    "papermill": {
     "duration": 0.044229,
     "end_time": "2024-05-17T09:57:10.980537",
     "exception": false,
     "start_time": "2024-05-17T09:57:10.936308",
     "status": "completed"
    },
    "tags": []
   },
   "source": [
    "#### Lemmatize"
   ]
  },
  {
   "cell_type": "code",
   "execution_count": 33,
   "id": "85cea002",
   "metadata": {
    "execution": {
     "iopub.execute_input": "2024-05-17T09:57:11.070446Z",
     "iopub.status.busy": "2024-05-17T09:57:11.069870Z",
     "iopub.status.idle": "2024-05-17T09:57:12.221607Z",
     "shell.execute_reply": "2024-05-17T09:57:12.220826Z"
    },
    "papermill": {
     "duration": 1.198999,
     "end_time": "2024-05-17T09:57:12.223914",
     "exception": false,
     "start_time": "2024-05-17T09:57:11.024915",
     "status": "completed"
    },
    "tags": []
   },
   "outputs": [],
   "source": [
    "# Load SpaCy model\n",
    "nlp = spacy.load(\"en_core_web_sm\")"
   ]
  },
  {
   "cell_type": "code",
   "execution_count": 34,
   "id": "53ff0bbc",
   "metadata": {
    "execution": {
     "iopub.execute_input": "2024-05-17T09:57:12.314848Z",
     "iopub.status.busy": "2024-05-17T09:57:12.314288Z",
     "iopub.status.idle": "2024-05-17T09:57:12.319625Z",
     "shell.execute_reply": "2024-05-17T09:57:12.318790Z"
    },
    "papermill": {
     "duration": 0.05271,
     "end_time": "2024-05-17T09:57:12.321587",
     "exception": false,
     "start_time": "2024-05-17T09:57:12.268877",
     "status": "completed"
    },
    "tags": []
   },
   "outputs": [],
   "source": [
    "# Function to perform lemmatization on a single text\n",
    "def lemmatize_text(text):\n",
    "    doc = nlp(text)\n",
    "    lemmatized_text = ' '.join([token.lemma_ for token in doc])\n",
    "    return lemmatized_text\n",
    "\n",
    "# Function to lemmatize the 'review' column of the DataFrame\n",
    "def lemmatize_reviews(df):\n",
    "    df['review'] = df['review'].apply(lemmatize_text)\n",
    "    return df"
   ]
  },
  {
   "cell_type": "code",
   "execution_count": 35,
   "id": "ce4efe27",
   "metadata": {
    "execution": {
     "iopub.execute_input": "2024-05-17T09:57:12.412201Z",
     "iopub.status.busy": "2024-05-17T09:57:12.411842Z",
     "iopub.status.idle": "2024-05-17T10:23:15.002156Z",
     "shell.execute_reply": "2024-05-17T10:23:15.001302Z"
    },
    "papermill": {
     "duration": 1562.638376,
     "end_time": "2024-05-17T10:23:15.004655",
     "exception": false,
     "start_time": "2024-05-17T09:57:12.366279",
     "status": "completed"
    },
    "tags": []
   },
   "outputs": [],
   "source": [
    "# Lemmatize the 'review' column\n",
    "df = lemmatize_reviews(df)"
   ]
  },
  {
   "cell_type": "markdown",
   "id": "1d2f4bb2",
   "metadata": {
    "papermill": {
     "duration": 0.045254,
     "end_time": "2024-05-17T10:23:15.098113",
     "exception": false,
     "start_time": "2024-05-17T10:23:15.052859",
     "status": "completed"
    },
    "tags": []
   },
   "source": [
    "#### 10. Tokenize the text"
   ]
  },
  {
   "cell_type": "code",
   "execution_count": 36,
   "id": "4f5133e7",
   "metadata": {
    "execution": {
     "iopub.execute_input": "2024-05-17T10:23:15.187638Z",
     "iopub.status.busy": "2024-05-17T10:23:15.186956Z",
     "iopub.status.idle": "2024-05-17T10:24:19.609186Z",
     "shell.execute_reply": "2024-05-17T10:24:19.608120Z"
    },
    "papermill": {
     "duration": 64.46969,
     "end_time": "2024-05-17T10:24:19.611710",
     "exception": false,
     "start_time": "2024-05-17T10:23:15.142020",
     "status": "completed"
    },
    "tags": []
   },
   "outputs": [
    {
     "ename": "LookupError",
     "evalue": "\n**********************************************************************\n  Resource \u001b[93mpunkt_tab\u001b[0m not found.\n  Please use the NLTK Downloader to obtain the resource:\n\n  \u001b[31m>>> import nltk\n  >>> nltk.download('punkt_tab')\n  \u001b[0m\n  For more information see: https://www.nltk.org/data.html\n\n  Attempted to load \u001b[93mtokenizers/punkt_tab/english/\u001b[0m\n\n  Searched in:\n    - 'C:\\\\Users\\\\cpscc/nltk_data'\n    - 'c:\\\\Users\\\\cpscc\\\\miniconda3\\\\envs\\\\lstm\\\\nltk_data'\n    - 'c:\\\\Users\\\\cpscc\\\\miniconda3\\\\envs\\\\lstm\\\\share\\\\nltk_data'\n    - 'c:\\\\Users\\\\cpscc\\\\miniconda3\\\\envs\\\\lstm\\\\lib\\\\nltk_data'\n    - 'C:\\\\Users\\\\cpscc\\\\AppData\\\\Roaming\\\\nltk_data'\n    - 'C:\\\\nltk_data'\n    - 'D:\\\\nltk_data'\n    - 'E:\\\\nltk_data'\n**********************************************************************\n",
     "output_type": "error",
     "traceback": [
      "\u001b[1;31m---------------------------------------------------------------------------\u001b[0m",
      "\u001b[1;31mLookupError\u001b[0m                               Traceback (most recent call last)",
      "Cell \u001b[1;32mIn[36], line 6\u001b[0m\n\u001b[0;32m      3\u001b[0m     token_words \u001b[38;5;241m=\u001b[39m word_tokenize(text)\n\u001b[0;32m      4\u001b[0m     \u001b[38;5;28;01mreturn\u001b[39;00m token_words\n\u001b[1;32m----> 6\u001b[0m df[\u001b[38;5;124m'\u001b[39m\u001b[38;5;124mreview\u001b[39m\u001b[38;5;124m'\u001b[39m] \u001b[38;5;241m=\u001b[39m \u001b[43mdf\u001b[49m\u001b[43m[\u001b[49m\u001b[38;5;124;43m'\u001b[39;49m\u001b[38;5;124;43mreview\u001b[39;49m\u001b[38;5;124;43m'\u001b[39;49m\u001b[43m]\u001b[49m\u001b[38;5;241;43m.\u001b[39;49m\u001b[43mapply\u001b[49m\u001b[43m(\u001b[49m\u001b[43mdo_tokenization\u001b[49m\u001b[43m)\u001b[49m\n",
      "File \u001b[1;32mc:\\Users\\cpscc\\miniconda3\\envs\\lstm\\lib\\site-packages\\pandas\\core\\series.py:4924\u001b[0m, in \u001b[0;36mSeries.apply\u001b[1;34m(self, func, convert_dtype, args, by_row, **kwargs)\u001b[0m\n\u001b[0;32m   4789\u001b[0m \u001b[38;5;28;01mdef\u001b[39;00m \u001b[38;5;21mapply\u001b[39m(\n\u001b[0;32m   4790\u001b[0m     \u001b[38;5;28mself\u001b[39m,\n\u001b[0;32m   4791\u001b[0m     func: AggFuncType,\n\u001b[1;32m   (...)\u001b[0m\n\u001b[0;32m   4796\u001b[0m     \u001b[38;5;241m*\u001b[39m\u001b[38;5;241m*\u001b[39mkwargs,\n\u001b[0;32m   4797\u001b[0m ) \u001b[38;5;241m-\u001b[39m\u001b[38;5;241m>\u001b[39m DataFrame \u001b[38;5;241m|\u001b[39m Series:\n\u001b[0;32m   4798\u001b[0m \u001b[38;5;250m    \u001b[39m\u001b[38;5;124;03m\"\"\"\u001b[39;00m\n\u001b[0;32m   4799\u001b[0m \u001b[38;5;124;03m    Invoke function on values of Series.\u001b[39;00m\n\u001b[0;32m   4800\u001b[0m \n\u001b[1;32m   (...)\u001b[0m\n\u001b[0;32m   4915\u001b[0m \u001b[38;5;124;03m    dtype: float64\u001b[39;00m\n\u001b[0;32m   4916\u001b[0m \u001b[38;5;124;03m    \"\"\"\u001b[39;00m\n\u001b[0;32m   4917\u001b[0m     \u001b[38;5;28;01mreturn\u001b[39;00m \u001b[43mSeriesApply\u001b[49m\u001b[43m(\u001b[49m\n\u001b[0;32m   4918\u001b[0m \u001b[43m        \u001b[49m\u001b[38;5;28;43mself\u001b[39;49m\u001b[43m,\u001b[49m\n\u001b[0;32m   4919\u001b[0m \u001b[43m        \u001b[49m\u001b[43mfunc\u001b[49m\u001b[43m,\u001b[49m\n\u001b[0;32m   4920\u001b[0m \u001b[43m        \u001b[49m\u001b[43mconvert_dtype\u001b[49m\u001b[38;5;241;43m=\u001b[39;49m\u001b[43mconvert_dtype\u001b[49m\u001b[43m,\u001b[49m\n\u001b[0;32m   4921\u001b[0m \u001b[43m        \u001b[49m\u001b[43mby_row\u001b[49m\u001b[38;5;241;43m=\u001b[39;49m\u001b[43mby_row\u001b[49m\u001b[43m,\u001b[49m\n\u001b[0;32m   4922\u001b[0m \u001b[43m        \u001b[49m\u001b[43margs\u001b[49m\u001b[38;5;241;43m=\u001b[39;49m\u001b[43margs\u001b[49m\u001b[43m,\u001b[49m\n\u001b[0;32m   4923\u001b[0m \u001b[43m        \u001b[49m\u001b[43mkwargs\u001b[49m\u001b[38;5;241;43m=\u001b[39;49m\u001b[43mkwargs\u001b[49m\u001b[43m,\u001b[49m\n\u001b[1;32m-> 4924\u001b[0m \u001b[43m    \u001b[49m\u001b[43m)\u001b[49m\u001b[38;5;241;43m.\u001b[39;49m\u001b[43mapply\u001b[49m\u001b[43m(\u001b[49m\u001b[43m)\u001b[49m\n",
      "File \u001b[1;32mc:\\Users\\cpscc\\miniconda3\\envs\\lstm\\lib\\site-packages\\pandas\\core\\apply.py:1427\u001b[0m, in \u001b[0;36mSeriesApply.apply\u001b[1;34m(self)\u001b[0m\n\u001b[0;32m   1424\u001b[0m     \u001b[38;5;28;01mreturn\u001b[39;00m \u001b[38;5;28mself\u001b[39m\u001b[38;5;241m.\u001b[39mapply_compat()\n\u001b[0;32m   1426\u001b[0m \u001b[38;5;66;03m# self.func is Callable\u001b[39;00m\n\u001b[1;32m-> 1427\u001b[0m \u001b[38;5;28;01mreturn\u001b[39;00m \u001b[38;5;28;43mself\u001b[39;49m\u001b[38;5;241;43m.\u001b[39;49m\u001b[43mapply_standard\u001b[49m\u001b[43m(\u001b[49m\u001b[43m)\u001b[49m\n",
      "File \u001b[1;32mc:\\Users\\cpscc\\miniconda3\\envs\\lstm\\lib\\site-packages\\pandas\\core\\apply.py:1507\u001b[0m, in \u001b[0;36mSeriesApply.apply_standard\u001b[1;34m(self)\u001b[0m\n\u001b[0;32m   1501\u001b[0m \u001b[38;5;66;03m# row-wise access\u001b[39;00m\n\u001b[0;32m   1502\u001b[0m \u001b[38;5;66;03m# apply doesn't have a `na_action` keyword and for backward compat reasons\u001b[39;00m\n\u001b[0;32m   1503\u001b[0m \u001b[38;5;66;03m# we need to give `na_action=\"ignore\"` for categorical data.\u001b[39;00m\n\u001b[0;32m   1504\u001b[0m \u001b[38;5;66;03m# TODO: remove the `na_action=\"ignore\"` when that default has been changed in\u001b[39;00m\n\u001b[0;32m   1505\u001b[0m \u001b[38;5;66;03m#  Categorical (GH51645).\u001b[39;00m\n\u001b[0;32m   1506\u001b[0m action \u001b[38;5;241m=\u001b[39m \u001b[38;5;124m\"\u001b[39m\u001b[38;5;124mignore\u001b[39m\u001b[38;5;124m\"\u001b[39m \u001b[38;5;28;01mif\u001b[39;00m \u001b[38;5;28misinstance\u001b[39m(obj\u001b[38;5;241m.\u001b[39mdtype, CategoricalDtype) \u001b[38;5;28;01melse\u001b[39;00m \u001b[38;5;28;01mNone\u001b[39;00m\n\u001b[1;32m-> 1507\u001b[0m mapped \u001b[38;5;241m=\u001b[39m \u001b[43mobj\u001b[49m\u001b[38;5;241;43m.\u001b[39;49m\u001b[43m_map_values\u001b[49m\u001b[43m(\u001b[49m\n\u001b[0;32m   1508\u001b[0m \u001b[43m    \u001b[49m\u001b[43mmapper\u001b[49m\u001b[38;5;241;43m=\u001b[39;49m\u001b[43mcurried\u001b[49m\u001b[43m,\u001b[49m\u001b[43m \u001b[49m\u001b[43mna_action\u001b[49m\u001b[38;5;241;43m=\u001b[39;49m\u001b[43maction\u001b[49m\u001b[43m,\u001b[49m\u001b[43m \u001b[49m\u001b[43mconvert\u001b[49m\u001b[38;5;241;43m=\u001b[39;49m\u001b[38;5;28;43mself\u001b[39;49m\u001b[38;5;241;43m.\u001b[39;49m\u001b[43mconvert_dtype\u001b[49m\n\u001b[0;32m   1509\u001b[0m \u001b[43m\u001b[49m\u001b[43m)\u001b[49m\n\u001b[0;32m   1511\u001b[0m \u001b[38;5;28;01mif\u001b[39;00m \u001b[38;5;28mlen\u001b[39m(mapped) \u001b[38;5;129;01mand\u001b[39;00m \u001b[38;5;28misinstance\u001b[39m(mapped[\u001b[38;5;241m0\u001b[39m], ABCSeries):\n\u001b[0;32m   1512\u001b[0m     \u001b[38;5;66;03m# GH#43986 Need to do list(mapped) in order to get treated as nested\u001b[39;00m\n\u001b[0;32m   1513\u001b[0m     \u001b[38;5;66;03m#  See also GH#25959 regarding EA support\u001b[39;00m\n\u001b[0;32m   1514\u001b[0m     \u001b[38;5;28;01mreturn\u001b[39;00m obj\u001b[38;5;241m.\u001b[39m_constructor_expanddim(\u001b[38;5;28mlist\u001b[39m(mapped), index\u001b[38;5;241m=\u001b[39mobj\u001b[38;5;241m.\u001b[39mindex)\n",
      "File \u001b[1;32mc:\\Users\\cpscc\\miniconda3\\envs\\lstm\\lib\\site-packages\\pandas\\core\\base.py:921\u001b[0m, in \u001b[0;36mIndexOpsMixin._map_values\u001b[1;34m(self, mapper, na_action, convert)\u001b[0m\n\u001b[0;32m    918\u001b[0m \u001b[38;5;28;01mif\u001b[39;00m \u001b[38;5;28misinstance\u001b[39m(arr, ExtensionArray):\n\u001b[0;32m    919\u001b[0m     \u001b[38;5;28;01mreturn\u001b[39;00m arr\u001b[38;5;241m.\u001b[39mmap(mapper, na_action\u001b[38;5;241m=\u001b[39mna_action)\n\u001b[1;32m--> 921\u001b[0m \u001b[38;5;28;01mreturn\u001b[39;00m \u001b[43malgorithms\u001b[49m\u001b[38;5;241;43m.\u001b[39;49m\u001b[43mmap_array\u001b[49m\u001b[43m(\u001b[49m\u001b[43marr\u001b[49m\u001b[43m,\u001b[49m\u001b[43m \u001b[49m\u001b[43mmapper\u001b[49m\u001b[43m,\u001b[49m\u001b[43m \u001b[49m\u001b[43mna_action\u001b[49m\u001b[38;5;241;43m=\u001b[39;49m\u001b[43mna_action\u001b[49m\u001b[43m,\u001b[49m\u001b[43m \u001b[49m\u001b[43mconvert\u001b[49m\u001b[38;5;241;43m=\u001b[39;49m\u001b[43mconvert\u001b[49m\u001b[43m)\u001b[49m\n",
      "File \u001b[1;32mc:\\Users\\cpscc\\miniconda3\\envs\\lstm\\lib\\site-packages\\pandas\\core\\algorithms.py:1743\u001b[0m, in \u001b[0;36mmap_array\u001b[1;34m(arr, mapper, na_action, convert)\u001b[0m\n\u001b[0;32m   1741\u001b[0m values \u001b[38;5;241m=\u001b[39m arr\u001b[38;5;241m.\u001b[39mastype(\u001b[38;5;28mobject\u001b[39m, copy\u001b[38;5;241m=\u001b[39m\u001b[38;5;28;01mFalse\u001b[39;00m)\n\u001b[0;32m   1742\u001b[0m \u001b[38;5;28;01mif\u001b[39;00m na_action \u001b[38;5;129;01mis\u001b[39;00m \u001b[38;5;28;01mNone\u001b[39;00m:\n\u001b[1;32m-> 1743\u001b[0m     \u001b[38;5;28;01mreturn\u001b[39;00m \u001b[43mlib\u001b[49m\u001b[38;5;241;43m.\u001b[39;49m\u001b[43mmap_infer\u001b[49m\u001b[43m(\u001b[49m\u001b[43mvalues\u001b[49m\u001b[43m,\u001b[49m\u001b[43m \u001b[49m\u001b[43mmapper\u001b[49m\u001b[43m,\u001b[49m\u001b[43m \u001b[49m\u001b[43mconvert\u001b[49m\u001b[38;5;241;43m=\u001b[39;49m\u001b[43mconvert\u001b[49m\u001b[43m)\u001b[49m\n\u001b[0;32m   1744\u001b[0m \u001b[38;5;28;01melse\u001b[39;00m:\n\u001b[0;32m   1745\u001b[0m     \u001b[38;5;28;01mreturn\u001b[39;00m lib\u001b[38;5;241m.\u001b[39mmap_infer_mask(\n\u001b[0;32m   1746\u001b[0m         values, mapper, mask\u001b[38;5;241m=\u001b[39misna(values)\u001b[38;5;241m.\u001b[39mview(np\u001b[38;5;241m.\u001b[39muint8), convert\u001b[38;5;241m=\u001b[39mconvert\n\u001b[0;32m   1747\u001b[0m     )\n",
      "File \u001b[1;32mlib.pyx:2972\u001b[0m, in \u001b[0;36mpandas._libs.lib.map_infer\u001b[1;34m()\u001b[0m\n",
      "Cell \u001b[1;32mIn[36], line 3\u001b[0m, in \u001b[0;36mdo_tokenization\u001b[1;34m(text)\u001b[0m\n\u001b[0;32m      1\u001b[0m \u001b[38;5;28;01mdef\u001b[39;00m \u001b[38;5;21mdo_tokenization\u001b[39m(text):\n\u001b[1;32m----> 3\u001b[0m     token_words \u001b[38;5;241m=\u001b[39m \u001b[43mword_tokenize\u001b[49m\u001b[43m(\u001b[49m\u001b[43mtext\u001b[49m\u001b[43m)\u001b[49m\n\u001b[0;32m      4\u001b[0m     \u001b[38;5;28;01mreturn\u001b[39;00m token_words\n",
      "File \u001b[1;32mc:\\Users\\cpscc\\miniconda3\\envs\\lstm\\lib\\site-packages\\nltk\\tokenize\\__init__.py:142\u001b[0m, in \u001b[0;36mword_tokenize\u001b[1;34m(text, language, preserve_line)\u001b[0m\n\u001b[0;32m    127\u001b[0m \u001b[38;5;28;01mdef\u001b[39;00m \u001b[38;5;21mword_tokenize\u001b[39m(text, language\u001b[38;5;241m=\u001b[39m\u001b[38;5;124m\"\u001b[39m\u001b[38;5;124menglish\u001b[39m\u001b[38;5;124m\"\u001b[39m, preserve_line\u001b[38;5;241m=\u001b[39m\u001b[38;5;28;01mFalse\u001b[39;00m):\n\u001b[0;32m    128\u001b[0m \u001b[38;5;250m    \u001b[39m\u001b[38;5;124;03m\"\"\"\u001b[39;00m\n\u001b[0;32m    129\u001b[0m \u001b[38;5;124;03m    Return a tokenized copy of *text*,\u001b[39;00m\n\u001b[0;32m    130\u001b[0m \u001b[38;5;124;03m    using NLTK's recommended word tokenizer\u001b[39;00m\n\u001b[1;32m   (...)\u001b[0m\n\u001b[0;32m    140\u001b[0m \u001b[38;5;124;03m    :type preserve_line: bool\u001b[39;00m\n\u001b[0;32m    141\u001b[0m \u001b[38;5;124;03m    \"\"\"\u001b[39;00m\n\u001b[1;32m--> 142\u001b[0m     sentences \u001b[38;5;241m=\u001b[39m [text] \u001b[38;5;28;01mif\u001b[39;00m preserve_line \u001b[38;5;28;01melse\u001b[39;00m \u001b[43msent_tokenize\u001b[49m\u001b[43m(\u001b[49m\u001b[43mtext\u001b[49m\u001b[43m,\u001b[49m\u001b[43m \u001b[49m\u001b[43mlanguage\u001b[49m\u001b[43m)\u001b[49m\n\u001b[0;32m    143\u001b[0m     \u001b[38;5;28;01mreturn\u001b[39;00m [\n\u001b[0;32m    144\u001b[0m         token \u001b[38;5;28;01mfor\u001b[39;00m sent \u001b[38;5;129;01min\u001b[39;00m sentences \u001b[38;5;28;01mfor\u001b[39;00m token \u001b[38;5;129;01min\u001b[39;00m _treebank_word_tokenizer\u001b[38;5;241m.\u001b[39mtokenize(sent)\n\u001b[0;32m    145\u001b[0m     ]\n",
      "File \u001b[1;32mc:\\Users\\cpscc\\miniconda3\\envs\\lstm\\lib\\site-packages\\nltk\\tokenize\\__init__.py:119\u001b[0m, in \u001b[0;36msent_tokenize\u001b[1;34m(text, language)\u001b[0m\n\u001b[0;32m    109\u001b[0m \u001b[38;5;28;01mdef\u001b[39;00m \u001b[38;5;21msent_tokenize\u001b[39m(text, language\u001b[38;5;241m=\u001b[39m\u001b[38;5;124m\"\u001b[39m\u001b[38;5;124menglish\u001b[39m\u001b[38;5;124m\"\u001b[39m):\n\u001b[0;32m    110\u001b[0m \u001b[38;5;250m    \u001b[39m\u001b[38;5;124;03m\"\"\"\u001b[39;00m\n\u001b[0;32m    111\u001b[0m \u001b[38;5;124;03m    Return a sentence-tokenized copy of *text*,\u001b[39;00m\n\u001b[0;32m    112\u001b[0m \u001b[38;5;124;03m    using NLTK's recommended sentence tokenizer\u001b[39;00m\n\u001b[1;32m   (...)\u001b[0m\n\u001b[0;32m    117\u001b[0m \u001b[38;5;124;03m    :param language: the model name in the Punkt corpus\u001b[39;00m\n\u001b[0;32m    118\u001b[0m \u001b[38;5;124;03m    \"\"\"\u001b[39;00m\n\u001b[1;32m--> 119\u001b[0m     tokenizer \u001b[38;5;241m=\u001b[39m \u001b[43m_get_punkt_tokenizer\u001b[49m\u001b[43m(\u001b[49m\u001b[43mlanguage\u001b[49m\u001b[43m)\u001b[49m\n\u001b[0;32m    120\u001b[0m     \u001b[38;5;28;01mreturn\u001b[39;00m tokenizer\u001b[38;5;241m.\u001b[39mtokenize(text)\n",
      "File \u001b[1;32mc:\\Users\\cpscc\\miniconda3\\envs\\lstm\\lib\\site-packages\\nltk\\tokenize\\__init__.py:105\u001b[0m, in \u001b[0;36m_get_punkt_tokenizer\u001b[1;34m(language)\u001b[0m\n\u001b[0;32m     96\u001b[0m \u001b[38;5;129m@functools\u001b[39m\u001b[38;5;241m.\u001b[39mlru_cache\n\u001b[0;32m     97\u001b[0m \u001b[38;5;28;01mdef\u001b[39;00m \u001b[38;5;21m_get_punkt_tokenizer\u001b[39m(language\u001b[38;5;241m=\u001b[39m\u001b[38;5;124m\"\u001b[39m\u001b[38;5;124menglish\u001b[39m\u001b[38;5;124m\"\u001b[39m):\n\u001b[0;32m     98\u001b[0m \u001b[38;5;250m    \u001b[39m\u001b[38;5;124;03m\"\"\"\u001b[39;00m\n\u001b[0;32m     99\u001b[0m \u001b[38;5;124;03m    A constructor for the PunktTokenizer that utilizes\u001b[39;00m\n\u001b[0;32m    100\u001b[0m \u001b[38;5;124;03m    a lru cache for performance.\u001b[39;00m\n\u001b[1;32m   (...)\u001b[0m\n\u001b[0;32m    103\u001b[0m \u001b[38;5;124;03m    :type language: str\u001b[39;00m\n\u001b[0;32m    104\u001b[0m \u001b[38;5;124;03m    \"\"\"\u001b[39;00m\n\u001b[1;32m--> 105\u001b[0m     \u001b[38;5;28;01mreturn\u001b[39;00m \u001b[43mPunktTokenizer\u001b[49m\u001b[43m(\u001b[49m\u001b[43mlanguage\u001b[49m\u001b[43m)\u001b[49m\n",
      "File \u001b[1;32mc:\\Users\\cpscc\\miniconda3\\envs\\lstm\\lib\\site-packages\\nltk\\tokenize\\punkt.py:1744\u001b[0m, in \u001b[0;36mPunktTokenizer.__init__\u001b[1;34m(self, lang)\u001b[0m\n\u001b[0;32m   1742\u001b[0m \u001b[38;5;28;01mdef\u001b[39;00m \u001b[38;5;21m__init__\u001b[39m(\u001b[38;5;28mself\u001b[39m, lang\u001b[38;5;241m=\u001b[39m\u001b[38;5;124m\"\u001b[39m\u001b[38;5;124menglish\u001b[39m\u001b[38;5;124m\"\u001b[39m):\n\u001b[0;32m   1743\u001b[0m     PunktSentenceTokenizer\u001b[38;5;241m.\u001b[39m\u001b[38;5;21m__init__\u001b[39m(\u001b[38;5;28mself\u001b[39m)\n\u001b[1;32m-> 1744\u001b[0m     \u001b[38;5;28;43mself\u001b[39;49m\u001b[38;5;241;43m.\u001b[39;49m\u001b[43mload_lang\u001b[49m\u001b[43m(\u001b[49m\u001b[43mlang\u001b[49m\u001b[43m)\u001b[49m\n",
      "File \u001b[1;32mc:\\Users\\cpscc\\miniconda3\\envs\\lstm\\lib\\site-packages\\nltk\\tokenize\\punkt.py:1749\u001b[0m, in \u001b[0;36mPunktTokenizer.load_lang\u001b[1;34m(self, lang)\u001b[0m\n\u001b[0;32m   1746\u001b[0m \u001b[38;5;28;01mdef\u001b[39;00m \u001b[38;5;21mload_lang\u001b[39m(\u001b[38;5;28mself\u001b[39m, lang\u001b[38;5;241m=\u001b[39m\u001b[38;5;124m\"\u001b[39m\u001b[38;5;124menglish\u001b[39m\u001b[38;5;124m\"\u001b[39m):\n\u001b[0;32m   1747\u001b[0m     \u001b[38;5;28;01mfrom\u001b[39;00m \u001b[38;5;21;01mnltk\u001b[39;00m\u001b[38;5;21;01m.\u001b[39;00m\u001b[38;5;21;01mdata\u001b[39;00m \u001b[38;5;28;01mimport\u001b[39;00m find\n\u001b[1;32m-> 1749\u001b[0m     lang_dir \u001b[38;5;241m=\u001b[39m \u001b[43mfind\u001b[49m\u001b[43m(\u001b[49m\u001b[38;5;124;43mf\u001b[39;49m\u001b[38;5;124;43m\"\u001b[39;49m\u001b[38;5;124;43mtokenizers/punkt_tab/\u001b[39;49m\u001b[38;5;132;43;01m{\u001b[39;49;00m\u001b[43mlang\u001b[49m\u001b[38;5;132;43;01m}\u001b[39;49;00m\u001b[38;5;124;43m/\u001b[39;49m\u001b[38;5;124;43m\"\u001b[39;49m\u001b[43m)\u001b[49m\n\u001b[0;32m   1750\u001b[0m     \u001b[38;5;28mself\u001b[39m\u001b[38;5;241m.\u001b[39m_params \u001b[38;5;241m=\u001b[39m load_punkt_params(lang_dir)\n\u001b[0;32m   1751\u001b[0m     \u001b[38;5;28mself\u001b[39m\u001b[38;5;241m.\u001b[39m_lang \u001b[38;5;241m=\u001b[39m lang\n",
      "File \u001b[1;32mc:\\Users\\cpscc\\miniconda3\\envs\\lstm\\lib\\site-packages\\nltk\\data.py:579\u001b[0m, in \u001b[0;36mfind\u001b[1;34m(resource_name, paths)\u001b[0m\n\u001b[0;32m    577\u001b[0m sep \u001b[38;5;241m=\u001b[39m \u001b[38;5;124m\"\u001b[39m\u001b[38;5;124m*\u001b[39m\u001b[38;5;124m\"\u001b[39m \u001b[38;5;241m*\u001b[39m \u001b[38;5;241m70\u001b[39m\n\u001b[0;32m    578\u001b[0m resource_not_found \u001b[38;5;241m=\u001b[39m \u001b[38;5;124mf\u001b[39m\u001b[38;5;124m\"\u001b[39m\u001b[38;5;130;01m\\n\u001b[39;00m\u001b[38;5;132;01m{\u001b[39;00msep\u001b[38;5;132;01m}\u001b[39;00m\u001b[38;5;130;01m\\n\u001b[39;00m\u001b[38;5;132;01m{\u001b[39;00mmsg\u001b[38;5;132;01m}\u001b[39;00m\u001b[38;5;130;01m\\n\u001b[39;00m\u001b[38;5;132;01m{\u001b[39;00msep\u001b[38;5;132;01m}\u001b[39;00m\u001b[38;5;130;01m\\n\u001b[39;00m\u001b[38;5;124m\"\u001b[39m\n\u001b[1;32m--> 579\u001b[0m \u001b[38;5;28;01mraise\u001b[39;00m \u001b[38;5;167;01mLookupError\u001b[39;00m(resource_not_found)\n",
      "\u001b[1;31mLookupError\u001b[0m: \n**********************************************************************\n  Resource \u001b[93mpunkt_tab\u001b[0m not found.\n  Please use the NLTK Downloader to obtain the resource:\n\n  \u001b[31m>>> import nltk\n  >>> nltk.download('punkt_tab')\n  \u001b[0m\n  For more information see: https://www.nltk.org/data.html\n\n  Attempted to load \u001b[93mtokenizers/punkt_tab/english/\u001b[0m\n\n  Searched in:\n    - 'C:\\\\Users\\\\cpscc/nltk_data'\n    - 'c:\\\\Users\\\\cpscc\\\\miniconda3\\\\envs\\\\lstm\\\\nltk_data'\n    - 'c:\\\\Users\\\\cpscc\\\\miniconda3\\\\envs\\\\lstm\\\\share\\\\nltk_data'\n    - 'c:\\\\Users\\\\cpscc\\\\miniconda3\\\\envs\\\\lstm\\\\lib\\\\nltk_data'\n    - 'C:\\\\Users\\\\cpscc\\\\AppData\\\\Roaming\\\\nltk_data'\n    - 'C:\\\\nltk_data'\n    - 'D:\\\\nltk_data'\n    - 'E:\\\\nltk_data'\n**********************************************************************\n"
     ]
    }
   ],
   "source": [
    "def do_tokenization(text):\n",
    "    \n",
    "    token_words = word_tokenize(text)\n",
    "    return token_words\n",
    "\n",
    "df['review'] = df['review'].apply(do_tokenization)"
   ]
  },
  {
   "cell_type": "code",
   "execution_count": null,
   "id": "bf56c349",
   "metadata": {
    "execution": {
     "iopub.execute_input": "2024-05-17T10:24:19.703292Z",
     "iopub.status.busy": "2024-05-17T10:24:19.702653Z",
     "iopub.status.idle": "2024-05-17T10:24:19.725077Z",
     "shell.execute_reply": "2024-05-17T10:24:19.724228Z"
    },
    "papermill": {
     "duration": 0.07057,
     "end_time": "2024-05-17T10:24:19.727123",
     "exception": false,
     "start_time": "2024-05-17T10:24:19.656553",
     "status": "completed"
    },
    "tags": []
   },
   "outputs": [
    {
     "data": {
      "text/html": [
       "<div>\n",
       "<style scoped>\n",
       "    .dataframe tbody tr th:only-of-type {\n",
       "        vertical-align: middle;\n",
       "    }\n",
       "\n",
       "    .dataframe tbody tr th {\n",
       "        vertical-align: top;\n",
       "    }\n",
       "\n",
       "    .dataframe thead th {\n",
       "        text-align: right;\n",
       "    }\n",
       "</style>\n",
       "<table border=\"1\" class=\"dataframe\">\n",
       "  <thead>\n",
       "    <tr style=\"text-align: right;\">\n",
       "      <th></th>\n",
       "      <th>review</th>\n",
       "      <th>sentiment</th>\n",
       "    </tr>\n",
       "  </thead>\n",
       "  <tbody>\n",
       "    <tr>\n",
       "      <th>0</th>\n",
       "      <td>[one, reviewer, mention, watch, 1, oz, episode...</td>\n",
       "      <td>positive</td>\n",
       "    </tr>\n",
       "    <tr>\n",
       "      <th>1</th>\n",
       "      <td>[wonderful, little, production, br, br, film, ...</td>\n",
       "      <td>positive</td>\n",
       "    </tr>\n",
       "    <tr>\n",
       "      <th>2</th>\n",
       "      <td>[think, wonderful, way, spend, Tears, eye, hot...</td>\n",
       "      <td>positive</td>\n",
       "    </tr>\n",
       "    <tr>\n",
       "      <th>3</th>\n",
       "      <td>[basically, there, be, family, little, boy, ja...</td>\n",
       "      <td>negative</td>\n",
       "    </tr>\n",
       "    <tr>\n",
       "      <th>4</th>\n",
       "      <td>[petter, matteis, love, tear, eye, money, visu...</td>\n",
       "      <td>positive</td>\n",
       "    </tr>\n",
       "    <tr>\n",
       "      <th>...</th>\n",
       "      <td>...</td>\n",
       "      <td>...</td>\n",
       "    </tr>\n",
       "    <tr>\n",
       "      <th>49995</th>\n",
       "      <td>[think, movie, right, good, job, be, not, crea...</td>\n",
       "      <td>positive</td>\n",
       "    </tr>\n",
       "    <tr>\n",
       "      <th>49996</th>\n",
       "      <td>[bad, plot, bad, dialogue, bad, act, idiotic, ...</td>\n",
       "      <td>negative</td>\n",
       "    </tr>\n",
       "    <tr>\n",
       "      <th>49997</th>\n",
       "      <td>[catholic, teach, parochial, elementary, schoo...</td>\n",
       "      <td>negative</td>\n",
       "    </tr>\n",
       "    <tr>\n",
       "      <th>49998</th>\n",
       "      <td>[I, be, go, disagree, previous, comment, side,...</td>\n",
       "      <td>negative</td>\n",
       "    </tr>\n",
       "    <tr>\n",
       "      <th>49999</th>\n",
       "      <td>[one, expect, star, trek, movie, high, art, fa...</td>\n",
       "      <td>negative</td>\n",
       "    </tr>\n",
       "  </tbody>\n",
       "</table>\n",
       "<p>49582 rows × 2 columns</p>\n",
       "</div>"
      ],
      "text/plain": [
       "                                                  review sentiment\n",
       "0      [one, reviewer, mention, watch, 1, oz, episode...  positive\n",
       "1      [wonderful, little, production, br, br, film, ...  positive\n",
       "2      [think, wonderful, way, spend, Tears, eye, hot...  positive\n",
       "3      [basically, there, be, family, little, boy, ja...  negative\n",
       "4      [petter, matteis, love, tear, eye, money, visu...  positive\n",
       "...                                                  ...       ...\n",
       "49995  [think, movie, right, good, job, be, not, crea...  positive\n",
       "49996  [bad, plot, bad, dialogue, bad, act, idiotic, ...  negative\n",
       "49997  [catholic, teach, parochial, elementary, schoo...  negative\n",
       "49998  [I, be, go, disagree, previous, comment, side,...  negative\n",
       "49999  [one, expect, star, trek, movie, high, art, fa...  negative\n",
       "\n",
       "[49582 rows x 2 columns]"
      ]
     },
     "execution_count": 36,
     "metadata": {},
     "output_type": "execute_result"
    }
   ],
   "source": [
    "df"
   ]
  },
  {
   "cell_type": "markdown",
   "id": "de5011ad",
   "metadata": {
    "papermill": {
     "duration": 0.046046,
     "end_time": "2024-05-17T10:24:19.821228",
     "exception": false,
     "start_time": "2024-05-17T10:24:19.775182",
     "status": "completed"
    },
    "tags": []
   },
   "source": [
    "## <div style=\"text-align: left; background-color:aliceblue ; font-family: Trebuchet MS; color: black; padding: 15px; line-height:1;border-radius:1px; margin-bottom: 0em; text-align: center; font-size: 25px;border-style: solid;border-color: dark green;\"> Split the Data into Independent and Dependent Variable </div> "
   ]
  },
  {
   "cell_type": "code",
   "execution_count": null,
   "id": "9c9d2b69",
   "metadata": {
    "execution": {
     "iopub.execute_input": "2024-05-17T10:24:19.911989Z",
     "iopub.status.busy": "2024-05-17T10:24:19.911666Z",
     "iopub.status.idle": "2024-05-17T10:24:19.916274Z",
     "shell.execute_reply": "2024-05-17T10:24:19.915198Z"
    },
    "papermill": {
     "duration": 0.052436,
     "end_time": "2024-05-17T10:24:19.918310",
     "exception": false,
     "start_time": "2024-05-17T10:24:19.865874",
     "status": "completed"
    },
    "tags": []
   },
   "outputs": [],
   "source": [
    "x = df['review']\n",
    "y = df['sentiment']"
   ]
  },
  {
   "cell_type": "code",
   "execution_count": null,
   "id": "e5068e11",
   "metadata": {
    "execution": {
     "iopub.execute_input": "2024-05-17T10:24:20.011425Z",
     "iopub.status.busy": "2024-05-17T10:24:20.010691Z",
     "iopub.status.idle": "2024-05-17T10:24:20.027385Z",
     "shell.execute_reply": "2024-05-17T10:24:20.026561Z"
    },
    "papermill": {
     "duration": 0.064215,
     "end_time": "2024-05-17T10:24:20.029218",
     "exception": false,
     "start_time": "2024-05-17T10:24:19.965003",
     "status": "completed"
    },
    "tags": []
   },
   "outputs": [],
   "source": [
    "from sklearn.preprocessing import LabelEncoder\n",
    "encoder = LabelEncoder()\n",
    "\n",
    "y = encoder.fit_transform(y)"
   ]
  },
  {
   "cell_type": "code",
   "execution_count": null,
   "id": "72d7f88f",
   "metadata": {
    "execution": {
     "iopub.execute_input": "2024-05-17T10:24:20.121748Z",
     "iopub.status.busy": "2024-05-17T10:24:20.120667Z",
     "iopub.status.idle": "2024-05-17T10:24:20.134237Z",
     "shell.execute_reply": "2024-05-17T10:24:20.133497Z"
    },
    "papermill": {
     "duration": 0.062114,
     "end_time": "2024-05-17T10:24:20.136172",
     "exception": false,
     "start_time": "2024-05-17T10:24:20.074058",
     "status": "completed"
    },
    "tags": []
   },
   "outputs": [],
   "source": [
    "from sklearn.model_selection import train_test_split\n",
    "X_train,X_test,y_train,y_test = train_test_split(x,y,test_size=0.2,random_state=1)"
   ]
  },
  {
   "cell_type": "code",
   "execution_count": null,
   "id": "a1694a72",
   "metadata": {
    "execution": {
     "iopub.execute_input": "2024-05-17T10:24:20.234345Z",
     "iopub.status.busy": "2024-05-17T10:24:20.233998Z",
     "iopub.status.idle": "2024-05-17T10:24:20.241701Z",
     "shell.execute_reply": "2024-05-17T10:24:20.239111Z"
    },
    "papermill": {
     "duration": 0.061959,
     "end_time": "2024-05-17T10:24:20.244716",
     "exception": false,
     "start_time": "2024-05-17T10:24:20.182757",
     "status": "completed"
    },
    "tags": []
   },
   "outputs": [
    {
     "data": {
      "text/plain": [
       "(39665,)"
      ]
     },
     "execution_count": 40,
     "metadata": {},
     "output_type": "execute_result"
    }
   ],
   "source": [
    "X_train.shape"
   ]
  },
  {
   "cell_type": "markdown",
   "id": "5aff888f",
   "metadata": {
    "papermill": {
     "duration": 0.045322,
     "end_time": "2024-05-17T10:24:20.343381",
     "exception": false,
     "start_time": "2024-05-17T10:24:20.298059",
     "status": "completed"
    },
    "tags": []
   },
   "source": [
    "\n",
    "## <div style=\"text-align: left; background-color:aliceblue ; font-family: Trebuchet MS; color: black; padding: 15px; line-height:1;border-radius:1px; margin-bottom: 0em; text-align: center; font-size: 25px;border-style: solid;border-color: dark green;\"> Tokenize the data </div> "
   ]
  },
  {
   "cell_type": "code",
   "execution_count": null,
   "id": "e1aa7807",
   "metadata": {
    "execution": {
     "iopub.execute_input": "2024-05-17T10:24:20.437306Z",
     "iopub.status.busy": "2024-05-17T10:24:20.436993Z",
     "iopub.status.idle": "2024-05-17T10:24:20.441215Z",
     "shell.execute_reply": "2024-05-17T10:24:20.440313Z"
    },
    "papermill": {
     "duration": 0.053201,
     "end_time": "2024-05-17T10:24:20.443203",
     "exception": false,
     "start_time": "2024-05-17T10:24:20.390002",
     "status": "completed"
    },
    "tags": []
   },
   "outputs": [],
   "source": [
    "tokenizer = Tokenizer()"
   ]
  },
  {
   "cell_type": "code",
   "execution_count": null,
   "id": "533c4077",
   "metadata": {
    "execution": {
     "iopub.execute_input": "2024-05-17T10:24:20.534245Z",
     "iopub.status.busy": "2024-05-17T10:24:20.533959Z",
     "iopub.status.idle": "2024-05-17T10:24:24.594836Z",
     "shell.execute_reply": "2024-05-17T10:24:24.593834Z"
    },
    "papermill": {
     "duration": 4.109284,
     "end_time": "2024-05-17T10:24:24.597269",
     "exception": false,
     "start_time": "2024-05-17T10:24:20.487985",
     "status": "completed"
    },
    "tags": []
   },
   "outputs": [],
   "source": [
    "tokenizer.fit_on_texts(X_train)"
   ]
  },
  {
   "cell_type": "code",
   "execution_count": null,
   "id": "abe558e7",
   "metadata": {
    "execution": {
     "iopub.execute_input": "2024-05-17T10:24:24.691378Z",
     "iopub.status.busy": "2024-05-17T10:24:24.690527Z",
     "iopub.status.idle": "2024-05-17T10:24:24.696566Z",
     "shell.execute_reply": "2024-05-17T10:24:24.695624Z"
    },
    "papermill": {
     "duration": 0.055091,
     "end_time": "2024-05-17T10:24:24.698575",
     "exception": false,
     "start_time": "2024-05-17T10:24:24.643484",
     "status": "completed"
    },
    "tags": []
   },
   "outputs": [
    {
     "data": {
      "text/plain": [
       "142120"
      ]
     },
     "execution_count": 43,
     "metadata": {},
     "output_type": "execute_result"
    }
   ],
   "source": [
    "len(tokenizer.word_index)"
   ]
  },
  {
   "cell_type": "code",
   "execution_count": null,
   "id": "4790f50b",
   "metadata": {
    "execution": {
     "iopub.execute_input": "2024-05-17T10:24:24.835150Z",
     "iopub.status.busy": "2024-05-17T10:24:24.834500Z",
     "iopub.status.idle": "2024-05-17T10:24:24.840299Z",
     "shell.execute_reply": "2024-05-17T10:24:24.839460Z"
    },
    "papermill": {
     "duration": 0.096384,
     "end_time": "2024-05-17T10:24:24.842228",
     "exception": false,
     "start_time": "2024-05-17T10:24:24.745844",
     "status": "completed"
    },
    "tags": []
   },
   "outputs": [
    {
     "data": {
      "text/plain": [
       "39665"
      ]
     },
     "execution_count": 44,
     "metadata": {},
     "output_type": "execute_result"
    }
   ],
   "source": [
    "tokenizer.document_count"
   ]
  },
  {
   "cell_type": "code",
   "execution_count": null,
   "id": "878da90a",
   "metadata": {
    "execution": {
     "iopub.execute_input": "2024-05-17T10:24:24.935889Z",
     "iopub.status.busy": "2024-05-17T10:24:24.935304Z",
     "iopub.status.idle": "2024-05-17T10:24:27.985507Z",
     "shell.execute_reply": "2024-05-17T10:24:27.984721Z"
    },
    "papermill": {
     "duration": 3.099405,
     "end_time": "2024-05-17T10:24:27.987751",
     "exception": false,
     "start_time": "2024-05-17T10:24:24.888346",
     "status": "completed"
    },
    "tags": []
   },
   "outputs": [],
   "source": [
    "X_train = tokenizer.texts_to_sequences(X_train)\n",
    "X_test = tokenizer.texts_to_sequences(X_test)"
   ]
  },
  {
   "cell_type": "code",
   "execution_count": null,
   "id": "b8085540",
   "metadata": {
    "execution": {
     "iopub.execute_input": "2024-05-17T10:24:28.082508Z",
     "iopub.status.busy": "2024-05-17T10:24:28.081939Z",
     "iopub.status.idle": "2024-05-17T10:24:28.087312Z",
     "shell.execute_reply": "2024-05-17T10:24:28.086483Z"
    },
    "papermill": {
     "duration": 0.054489,
     "end_time": "2024-05-17T10:24:28.089307",
     "exception": false,
     "start_time": "2024-05-17T10:24:28.034818",
     "status": "completed"
    },
    "tags": []
   },
   "outputs": [
    {
     "name": "stdout",
     "output_type": "stream",
     "text": [
      "12 2 2910 2522 68 51 9 44933 10250 3101 5885 2808 4903 462 12 17 176 10250 716 89 152 38 5632 718 44 635 105 181 26 16 257 204 246 9 2 2067 1016 15 1040 54 2545 36 5 19 1361 61 7 77 64 95 6 430 168 2 56 2047 18 3452 68 10 4 56 214 226 16 1234 34 31 77 7762 6 4 430 168 44934 "
     ]
    }
   ],
   "source": [
    "for num in X_train[0]:\n",
    "    print(num, end=' ')"
   ]
  },
  {
   "cell_type": "code",
   "execution_count": null,
   "id": "549897c0",
   "metadata": {
    "execution": {
     "iopub.execute_input": "2024-05-17T10:24:28.184514Z",
     "iopub.status.busy": "2024-05-17T10:24:28.184194Z",
     "iopub.status.idle": "2024-05-17T10:24:28.189547Z",
     "shell.execute_reply": "2024-05-17T10:24:28.188770Z"
    },
    "papermill": {
     "duration": 0.05518,
     "end_time": "2024-05-17T10:24:28.191843",
     "exception": false,
     "start_time": "2024-05-17T10:24:28.136663",
     "status": "completed"
    },
    "tags": []
   },
   "outputs": [
    {
     "name": "stdout",
     "output_type": "stream",
     "text": [
      "get movie library saw lot actor like itjohn cleese ian holm ralph richardson etc get watch expect cleese large role since first billing surprised find five minute screen tear eye along everyone else like movie amazingly pointless character nobody plot nonexistent end one bad ending ever see funny part that be stay away movie want prevent go huh lot do not want waste tears eye ignore people say funny movieit be not stay away costsplease "
     ]
    }
   ],
   "source": [
    "# Print corresponding words horizontally\n",
    "for num in X_train[0]:\n",
    "    word = tokenizer.index_word.get(num, 'UNK')  \n",
    "    print(word, end=' ')"
   ]
  },
  {
   "cell_type": "markdown",
   "id": "deef5a58",
   "metadata": {
    "papermill": {
     "duration": 0.046517,
     "end_time": "2024-05-17T10:24:28.285729",
     "exception": false,
     "start_time": "2024-05-17T10:24:28.239212",
     "status": "completed"
    },
    "tags": []
   },
   "source": [
    "## <div style=\"text-align: left; background-color:aliceblue ; font-family: Trebuchet MS; color: black; padding: 15px; line-height:1;border-radius:1px; margin-bottom: 0em; text-align: center; font-size: 25px;border-style: solid;border-color: dark green;\"> Padding the data </div> "
   ]
  },
  {
   "cell_type": "code",
   "execution_count": null,
   "id": "d3f77ad9",
   "metadata": {
    "execution": {
     "iopub.execute_input": "2024-05-17T10:24:28.381423Z",
     "iopub.status.busy": "2024-05-17T10:24:28.380657Z",
     "iopub.status.idle": "2024-05-17T10:24:28.396991Z",
     "shell.execute_reply": "2024-05-17T10:24:28.395988Z"
    },
    "papermill": {
     "duration": 0.066099,
     "end_time": "2024-05-17T10:24:28.398812",
     "exception": false,
     "start_time": "2024-05-17T10:24:28.332713",
     "status": "completed"
    },
    "tags": []
   },
   "outputs": [
    {
     "name": "stdout",
     "output_type": "stream",
     "text": [
      "Maximum sequence length: 1466\n"
     ]
    }
   ],
   "source": [
    "max_length = 0\n",
    "for sequence in X_train:\n",
    "    # Calculate the length of the sequence\n",
    "    sequence_length = len(sequence)\n",
    "    # Update max_length if the current sequence length is greater\n",
    "    if sequence_length > max_length:\n",
    "        max_length = sequence_length\n",
    "\n",
    "print(\"Maximum sequence length:\", max_length)"
   ]
  },
  {
   "cell_type": "code",
   "execution_count": null,
   "id": "8521b792",
   "metadata": {
    "execution": {
     "iopub.execute_input": "2024-05-17T10:24:28.497143Z",
     "iopub.status.busy": "2024-05-17T10:24:28.496607Z",
     "iopub.status.idle": "2024-05-17T10:24:28.979378Z",
     "shell.execute_reply": "2024-05-17T10:24:28.978552Z"
    },
    "papermill": {
     "duration": 0.533563,
     "end_time": "2024-05-17T10:24:28.981617",
     "exception": false,
     "start_time": "2024-05-17T10:24:28.448054",
     "status": "completed"
    },
    "tags": []
   },
   "outputs": [],
   "source": [
    "X_train=pad_sequences(X_train,maxlen=100,padding=\"post\")\n",
    "X_test=pad_sequences(X_test,maxlen=100,padding=\"post\")"
   ]
  },
  {
   "cell_type": "code",
   "execution_count": null,
   "id": "adbcbdac",
   "metadata": {
    "execution": {
     "iopub.execute_input": "2024-05-17T10:24:29.077556Z",
     "iopub.status.busy": "2024-05-17T10:24:29.077227Z",
     "iopub.status.idle": "2024-05-17T10:24:29.083670Z",
     "shell.execute_reply": "2024-05-17T10:24:29.082838Z"
    },
    "papermill": {
     "duration": 0.056422,
     "end_time": "2024-05-17T10:24:29.085888",
     "exception": false,
     "start_time": "2024-05-17T10:24:29.029466",
     "status": "completed"
    },
    "tags": []
   },
   "outputs": [
    {
     "data": {
      "text/plain": [
       "array([   12,     2,  2910,  2522,    68,    51,     9, 44933, 10250,\n",
       "        3101,  5885,  2808,  4903,   462,    12,    17,   176, 10250,\n",
       "         716,    89,   152,    38,  5632,   718,    44,   635,   105,\n",
       "         181,    26,    16,   257,   204,   246,     9,     2,  2067,\n",
       "        1016,    15,  1040,    54,  2545,    36,     5,    19,  1361,\n",
       "          61,     7,    77,    64,    95,     6,   430,   168,     2,\n",
       "          56,  2047,    18,  3452,    68,    10,     4,    56,   214,\n",
       "         226,    16,  1234,    34,    31,    77,  7762,     6,     4,\n",
       "         430,   168, 44934,     0,     0,     0,     0,     0,     0,\n",
       "           0,     0,     0,     0,     0,     0,     0,     0,     0,\n",
       "           0,     0,     0,     0,     0,     0,     0,     0,     0,\n",
       "           0], dtype=int32)"
      ]
     },
     "execution_count": 50,
     "metadata": {},
     "output_type": "execute_result"
    }
   ],
   "source": [
    "X_train[0]"
   ]
  },
  {
   "cell_type": "code",
   "execution_count": null,
   "id": "2d131d83",
   "metadata": {
    "execution": {
     "iopub.execute_input": "2024-05-17T10:24:29.182719Z",
     "iopub.status.busy": "2024-05-17T10:24:29.182425Z",
     "iopub.status.idle": "2024-05-17T10:24:29.188094Z",
     "shell.execute_reply": "2024-05-17T10:24:29.187262Z"
    },
    "papermill": {
     "duration": 0.054796,
     "end_time": "2024-05-17T10:24:29.190006",
     "exception": false,
     "start_time": "2024-05-17T10:24:29.135210",
     "status": "completed"
    },
    "tags": []
   },
   "outputs": [
    {
     "data": {
      "text/plain": [
       "array([0, 0, 1, ..., 0, 0, 1])"
      ]
     },
     "execution_count": 51,
     "metadata": {},
     "output_type": "execute_result"
    }
   ],
   "source": [
    "y_train"
   ]
  },
  {
   "cell_type": "markdown",
   "id": "9b216532",
   "metadata": {
    "papermill": {
     "duration": 0.045943,
     "end_time": "2024-05-17T10:24:29.282002",
     "exception": false,
     "start_time": "2024-05-17T10:24:29.236059",
     "status": "completed"
    },
    "tags": []
   },
   "source": [
    "\n",
    "## <div style=\"text-align: left; background-color:aliceblue ; font-family: Trebuchet MS; color: black; padding: 15px; line-height:1;border-radius:1px; margin-bottom: 0em; text-align: center; font-size: 25px;border-style: solid;border-color: dark green;\"> Modelling </div> "
   ]
  },
  {
   "cell_type": "markdown",
   "id": "4f126f5c",
   "metadata": {
    "papermill": {
     "duration": 0.04642,
     "end_time": "2024-05-17T10:24:29.374491",
     "exception": false,
     "start_time": "2024-05-17T10:24:29.328071",
     "status": "completed"
    },
    "tags": []
   },
   "source": [
    "## <div style=\"text-align: left; background-color:aliceblue ; font-family: Trebuchet MS; color: black; padding: 15px; line-height:1;border-radius:1px; margin-bottom: 0em; text-align: center; font-size: 25px;border-style: solid;border-color: dark green;\"> Bidirectional RNN</div> "
   ]
  },
  {
   "cell_type": "code",
   "execution_count": null,
   "id": "ca3e5b97",
   "metadata": {
    "execution": {
     "iopub.execute_input": "2024-05-17T10:24:29.468828Z",
     "iopub.status.busy": "2024-05-17T10:24:29.468490Z",
     "iopub.status.idle": "2024-05-17T10:24:30.134304Z",
     "shell.execute_reply": "2024-05-17T10:24:30.132964Z"
    },
    "papermill": {
     "duration": 0.717218,
     "end_time": "2024-05-17T10:24:30.138762",
     "exception": false,
     "start_time": "2024-05-17T10:24:29.421544",
     "status": "completed"
    },
    "tags": []
   },
   "outputs": [
    {
     "data": {
      "text/html": [
       "<pre style=\"white-space:pre;overflow-x:auto;line-height:normal;font-family:Menlo,'DejaVu Sans Mono',consolas,'Courier New',monospace\"><span style=\"font-weight: bold\">Model: \"sequential\"</span>\n",
       "</pre>\n"
      ],
      "text/plain": [
       "\u001b[1mModel: \"sequential\"\u001b[0m\n"
      ]
     },
     "metadata": {},
     "output_type": "display_data"
    },
    {
     "data": {
      "text/html": [
       "<pre style=\"white-space:pre;overflow-x:auto;line-height:normal;font-family:Menlo,'DejaVu Sans Mono',consolas,'Courier New',monospace\">┏━━━━━━━━━━━━━━━━━━━━━━━━━━━━━━━━━┳━━━━━━━━━━━━━━━━━━━━━━━━┳━━━━━━━━━━━━━━━┓\n",
       "┃<span style=\"font-weight: bold\"> Layer (type)                    </span>┃<span style=\"font-weight: bold\"> Output Shape           </span>┃<span style=\"font-weight: bold\">       Param # </span>┃\n",
       "┡━━━━━━━━━━━━━━━━━━━━━━━━━━━━━━━━━╇━━━━━━━━━━━━━━━━━━━━━━━━╇━━━━━━━━━━━━━━━┩\n",
       "│ embedding (<span style=\"color: #0087ff; text-decoration-color: #0087ff\">Embedding</span>)           │ ?                      │   <span style=\"color: #00af00; text-decoration-color: #00af00\">0</span> (unbuilt) │\n",
       "├─────────────────────────────────┼────────────────────────┼───────────────┤\n",
       "│ spatial_dropout1d               │ ?                      │             <span style=\"color: #00af00; text-decoration-color: #00af00\">0</span> │\n",
       "│ (<span style=\"color: #0087ff; text-decoration-color: #0087ff\">SpatialDropout1D</span>)              │                        │               │\n",
       "├─────────────────────────────────┼────────────────────────┼───────────────┤\n",
       "│ bidirectional (<span style=\"color: #0087ff; text-decoration-color: #0087ff\">Bidirectional</span>)   │ ?                      │   <span style=\"color: #00af00; text-decoration-color: #00af00\">0</span> (unbuilt) │\n",
       "├─────────────────────────────────┼────────────────────────┼───────────────┤\n",
       "│ dropout (<span style=\"color: #0087ff; text-decoration-color: #0087ff\">Dropout</span>)               │ ?                      │             <span style=\"color: #00af00; text-decoration-color: #00af00\">0</span> │\n",
       "├─────────────────────────────────┼────────────────────────┼───────────────┤\n",
       "│ batch_normalization             │ ?                      │   <span style=\"color: #00af00; text-decoration-color: #00af00\">0</span> (unbuilt) │\n",
       "│ (<span style=\"color: #0087ff; text-decoration-color: #0087ff\">BatchNormalization</span>)            │                        │               │\n",
       "├─────────────────────────────────┼────────────────────────┼───────────────┤\n",
       "│ bidirectional_1 (<span style=\"color: #0087ff; text-decoration-color: #0087ff\">Bidirectional</span>) │ ?                      │   <span style=\"color: #00af00; text-decoration-color: #00af00\">0</span> (unbuilt) │\n",
       "├─────────────────────────────────┼────────────────────────┼───────────────┤\n",
       "│ dropout_1 (<span style=\"color: #0087ff; text-decoration-color: #0087ff\">Dropout</span>)             │ ?                      │             <span style=\"color: #00af00; text-decoration-color: #00af00\">0</span> │\n",
       "├─────────────────────────────────┼────────────────────────┼───────────────┤\n",
       "│ batch_normalization_1           │ ?                      │   <span style=\"color: #00af00; text-decoration-color: #00af00\">0</span> (unbuilt) │\n",
       "│ (<span style=\"color: #0087ff; text-decoration-color: #0087ff\">BatchNormalization</span>)            │                        │               │\n",
       "├─────────────────────────────────┼────────────────────────┼───────────────┤\n",
       "│ simple_rnn_2 (<span style=\"color: #0087ff; text-decoration-color: #0087ff\">SimpleRNN</span>)        │ ?                      │   <span style=\"color: #00af00; text-decoration-color: #00af00\">0</span> (unbuilt) │\n",
       "├─────────────────────────────────┼────────────────────────┼───────────────┤\n",
       "│ dense (<span style=\"color: #0087ff; text-decoration-color: #0087ff\">Dense</span>)                   │ ?                      │   <span style=\"color: #00af00; text-decoration-color: #00af00\">0</span> (unbuilt) │\n",
       "├─────────────────────────────────┼────────────────────────┼───────────────┤\n",
       "│ dense_1 (<span style=\"color: #0087ff; text-decoration-color: #0087ff\">Dense</span>)                 │ ?                      │   <span style=\"color: #00af00; text-decoration-color: #00af00\">0</span> (unbuilt) │\n",
       "└─────────────────────────────────┴────────────────────────┴───────────────┘\n",
       "</pre>\n"
      ],
      "text/plain": [
       "┏━━━━━━━━━━━━━━━━━━━━━━━━━━━━━━━━━┳━━━━━━━━━━━━━━━━━━━━━━━━┳━━━━━━━━━━━━━━━┓\n",
       "┃\u001b[1m \u001b[0m\u001b[1mLayer (type)                   \u001b[0m\u001b[1m \u001b[0m┃\u001b[1m \u001b[0m\u001b[1mOutput Shape          \u001b[0m\u001b[1m \u001b[0m┃\u001b[1m \u001b[0m\u001b[1m      Param #\u001b[0m\u001b[1m \u001b[0m┃\n",
       "┡━━━━━━━━━━━━━━━━━━━━━━━━━━━━━━━━━╇━━━━━━━━━━━━━━━━━━━━━━━━╇━━━━━━━━━━━━━━━┩\n",
       "│ embedding (\u001b[38;5;33mEmbedding\u001b[0m)           │ ?                      │   \u001b[38;5;34m0\u001b[0m (unbuilt) │\n",
       "├─────────────────────────────────┼────────────────────────┼───────────────┤\n",
       "│ spatial_dropout1d               │ ?                      │             \u001b[38;5;34m0\u001b[0m │\n",
       "│ (\u001b[38;5;33mSpatialDropout1D\u001b[0m)              │                        │               │\n",
       "├─────────────────────────────────┼────────────────────────┼───────────────┤\n",
       "│ bidirectional (\u001b[38;5;33mBidirectional\u001b[0m)   │ ?                      │   \u001b[38;5;34m0\u001b[0m (unbuilt) │\n",
       "├─────────────────────────────────┼────────────────────────┼───────────────┤\n",
       "│ dropout (\u001b[38;5;33mDropout\u001b[0m)               │ ?                      │             \u001b[38;5;34m0\u001b[0m │\n",
       "├─────────────────────────────────┼────────────────────────┼───────────────┤\n",
       "│ batch_normalization             │ ?                      │   \u001b[38;5;34m0\u001b[0m (unbuilt) │\n",
       "│ (\u001b[38;5;33mBatchNormalization\u001b[0m)            │                        │               │\n",
       "├─────────────────────────────────┼────────────────────────┼───────────────┤\n",
       "│ bidirectional_1 (\u001b[38;5;33mBidirectional\u001b[0m) │ ?                      │   \u001b[38;5;34m0\u001b[0m (unbuilt) │\n",
       "├─────────────────────────────────┼────────────────────────┼───────────────┤\n",
       "│ dropout_1 (\u001b[38;5;33mDropout\u001b[0m)             │ ?                      │             \u001b[38;5;34m0\u001b[0m │\n",
       "├─────────────────────────────────┼────────────────────────┼───────────────┤\n",
       "│ batch_normalization_1           │ ?                      │   \u001b[38;5;34m0\u001b[0m (unbuilt) │\n",
       "│ (\u001b[38;5;33mBatchNormalization\u001b[0m)            │                        │               │\n",
       "├─────────────────────────────────┼────────────────────────┼───────────────┤\n",
       "│ simple_rnn_2 (\u001b[38;5;33mSimpleRNN\u001b[0m)        │ ?                      │   \u001b[38;5;34m0\u001b[0m (unbuilt) │\n",
       "├─────────────────────────────────┼────────────────────────┼───────────────┤\n",
       "│ dense (\u001b[38;5;33mDense\u001b[0m)                   │ ?                      │   \u001b[38;5;34m0\u001b[0m (unbuilt) │\n",
       "├─────────────────────────────────┼────────────────────────┼───────────────┤\n",
       "│ dense_1 (\u001b[38;5;33mDense\u001b[0m)                 │ ?                      │   \u001b[38;5;34m0\u001b[0m (unbuilt) │\n",
       "└─────────────────────────────────┴────────────────────────┴───────────────┘\n"
      ]
     },
     "metadata": {},
     "output_type": "display_data"
    },
    {
     "data": {
      "text/html": [
       "<pre style=\"white-space:pre;overflow-x:auto;line-height:normal;font-family:Menlo,'DejaVu Sans Mono',consolas,'Courier New',monospace\"><span style=\"font-weight: bold\"> Total params: </span><span style=\"color: #00af00; text-decoration-color: #00af00\">0</span> (0.00 B)\n",
       "</pre>\n"
      ],
      "text/plain": [
       "\u001b[1m Total params: \u001b[0m\u001b[38;5;34m0\u001b[0m (0.00 B)\n"
      ]
     },
     "metadata": {},
     "output_type": "display_data"
    },
    {
     "data": {
      "text/html": [
       "<pre style=\"white-space:pre;overflow-x:auto;line-height:normal;font-family:Menlo,'DejaVu Sans Mono',consolas,'Courier New',monospace\"><span style=\"font-weight: bold\"> Trainable params: </span><span style=\"color: #00af00; text-decoration-color: #00af00\">0</span> (0.00 B)\n",
       "</pre>\n"
      ],
      "text/plain": [
       "\u001b[1m Trainable params: \u001b[0m\u001b[38;5;34m0\u001b[0m (0.00 B)\n"
      ]
     },
     "metadata": {},
     "output_type": "display_data"
    },
    {
     "data": {
      "text/html": [
       "<pre style=\"white-space:pre;overflow-x:auto;line-height:normal;font-family:Menlo,'DejaVu Sans Mono',consolas,'Courier New',monospace\"><span style=\"font-weight: bold\"> Non-trainable params: </span><span style=\"color: #00af00; text-decoration-color: #00af00\">0</span> (0.00 B)\n",
       "</pre>\n"
      ],
      "text/plain": [
       "\u001b[1m Non-trainable params: \u001b[0m\u001b[38;5;34m0\u001b[0m (0.00 B)\n"
      ]
     },
     "metadata": {},
     "output_type": "display_data"
    }
   ],
   "source": [
    "# Define the model\n",
    "RNN_model = Sequential()\n",
    "RNN_model.add(Embedding(input_dim=len(tokenizer.word_index)+1, output_dim=100, input_length=100))\n",
    "RNN_model.add(SpatialDropout1D(0.2))\n",
    "RNN_model.add(Bidirectional(SimpleRNN(64, return_sequences=True)))\n",
    "RNN_model.add(Dropout(0.2))\n",
    "RNN_model.add(BatchNormalization())\n",
    "RNN_model.add(Bidirectional(SimpleRNN(32, return_sequences=True)))\n",
    "RNN_model.add(Dropout(0.2))\n",
    "RNN_model.add(BatchNormalization())\n",
    "RNN_model.add(SimpleRNN(16, return_sequences=False))\n",
    "\n",
    "# Continue with other layers\n",
    "RNN_model.add(Dense(64, activation='relu', kernel_regularizer=l2(0.01)))\n",
    "RNN_model.add(Dense(1, activation='sigmoid'))\n",
    "\n",
    "# Summarize the model\n",
    "RNN_model.summary()\n"
   ]
  },
  {
   "cell_type": "code",
   "execution_count": null,
   "id": "620183e0",
   "metadata": {
    "execution": {
     "iopub.execute_input": "2024-05-17T10:24:30.256600Z",
     "iopub.status.busy": "2024-05-17T10:24:30.255840Z",
     "iopub.status.idle": "2024-05-17T10:34:22.799475Z",
     "shell.execute_reply": "2024-05-17T10:34:22.798677Z"
    },
    "papermill": {
     "duration": 592.609573,
     "end_time": "2024-05-17T10:34:22.801617",
     "exception": false,
     "start_time": "2024-05-17T10:24:30.192044",
     "status": "completed"
    },
    "tags": []
   },
   "outputs": [
    {
     "name": "stdout",
     "output_type": "stream",
     "text": [
      "Epoch 1/10\n"
     ]
    },
    {
     "name": "stderr",
     "output_type": "stream",
     "text": [
      "WARNING: All log messages before absl::InitializeLog() is called are written to STDERR\n",
      "I0000 00:00:1715941477.310529      89 service.cc:145] XLA service 0x7a71dc138430 initialized for platform CUDA (this does not guarantee that XLA will be used). Devices:\n",
      "I0000 00:00:1715941477.310576      89 service.cc:153]   StreamExecutor device (0): Tesla T4, Compute Capability 7.5\n",
      "I0000 00:00:1715941477.310581      89 service.cc:153]   StreamExecutor device (1): Tesla T4, Compute Capability 7.5\n"
     ]
    },
    {
     "name": "stdout",
     "output_type": "stream",
     "text": [
      "\u001b[1m   2/1240\u001b[0m \u001b[37m━━━━━━━━━━━━━━━━━━━━\u001b[0m \u001b[1m1:39\u001b[0m 80ms/step - accuracy: 0.5312 - loss: 0.9687  "
     ]
    },
    {
     "name": "stderr",
     "output_type": "stream",
     "text": [
      "I0000 00:00:1715941484.186305      89 device_compiler.h:188] Compiled cluster using XLA!  This line is logged at most once for the lifetime of the process.\n"
     ]
    },
    {
     "name": "stdout",
     "output_type": "stream",
     "text": [
      "\u001b[1m1240/1240\u001b[0m \u001b[32m━━━━━━━━━━━━━━━━━━━━\u001b[0m\u001b[37m\u001b[0m \u001b[1m76s\u001b[0m 50ms/step - accuracy: 0.5055 - loss: 0.7820 - val_accuracy: 0.5827 - val_loss: 0.6807\n",
      "Epoch 2/10\n",
      "\u001b[1m1240/1240\u001b[0m \u001b[32m━━━━━━━━━━━━━━━━━━━━\u001b[0m\u001b[37m\u001b[0m \u001b[1m54s\u001b[0m 44ms/step - accuracy: 0.6069 - loss: 0.6420 - val_accuracy: 0.5944 - val_loss: 0.6463\n",
      "Epoch 3/10\n",
      "\u001b[1m1240/1240\u001b[0m \u001b[32m━━━━━━━━━━━━━━━━━━━━\u001b[0m\u001b[37m\u001b[0m \u001b[1m54s\u001b[0m 44ms/step - accuracy: 0.6550 - loss: 0.5760 - val_accuracy: 0.6264 - val_loss: 0.6524\n",
      "Epoch 4/10\n",
      "\u001b[1m1240/1240\u001b[0m \u001b[32m━━━━━━━━━━━━━━━━━━━━\u001b[0m\u001b[37m\u001b[0m \u001b[1m54s\u001b[0m 44ms/step - accuracy: 0.7035 - loss: 0.5308 - val_accuracy: 0.6351 - val_loss: 0.6903\n",
      "Epoch 5/10\n",
      "\u001b[1m1240/1240\u001b[0m \u001b[32m━━━━━━━━━━━━━━━━━━━━\u001b[0m\u001b[37m\u001b[0m \u001b[1m54s\u001b[0m 44ms/step - accuracy: 0.6959 - loss: 0.5375 - val_accuracy: 0.6920 - val_loss: 0.7149\n",
      "Epoch 6/10\n",
      "\u001b[1m1240/1240\u001b[0m \u001b[32m━━━━━━━━━━━━━━━━━━━━\u001b[0m\u001b[37m\u001b[0m \u001b[1m54s\u001b[0m 44ms/step - accuracy: 0.7139 - loss: 0.5311 - val_accuracy: 0.7366 - val_loss: 0.5589\n",
      "Epoch 7/10\n",
      "\u001b[1m1240/1240\u001b[0m \u001b[32m━━━━━━━━━━━━━━━━━━━━\u001b[0m\u001b[37m\u001b[0m \u001b[1m54s\u001b[0m 44ms/step - accuracy: 0.6957 - loss: 0.5347 - val_accuracy: 0.5887 - val_loss: 0.6931\n",
      "Epoch 8/10\n",
      "\u001b[1m1240/1240\u001b[0m \u001b[32m━━━━━━━━━━━━━━━━━━━━\u001b[0m\u001b[37m\u001b[0m \u001b[1m54s\u001b[0m 44ms/step - accuracy: 0.7163 - loss: 0.5232 - val_accuracy: 0.6799 - val_loss: 0.6562\n",
      "Epoch 9/10\n",
      "\u001b[1m1240/1240\u001b[0m \u001b[32m━━━━━━━━━━━━━━━━━━━━\u001b[0m\u001b[37m\u001b[0m \u001b[1m82s\u001b[0m 44ms/step - accuracy: 0.7230 - loss: 0.5223 - val_accuracy: 0.5919 - val_loss: 0.6850\n",
      "Epoch 10/10\n",
      "\u001b[1m1240/1240\u001b[0m \u001b[32m━━━━━━━━━━━━━━━━━━━━\u001b[0m\u001b[37m\u001b[0m \u001b[1m54s\u001b[0m 44ms/step - accuracy: 0.6710 - loss: 0.5780 - val_accuracy: 0.6208 - val_loss: 0.6731\n"
     ]
    }
   ],
   "source": [
    "RNN_model.compile(loss='binary_crossentropy', optimizer='adam', metrics=['accuracy'])\n",
    "\n",
    "history = RNN_model.fit(X_train, y_train, epochs=10, batch_size=32, validation_data=(X_test, y_test))\n"
   ]
  },
  {
   "cell_type": "code",
   "execution_count": null,
   "id": "cbc68504",
   "metadata": {
    "execution": {
     "iopub.execute_input": "2024-05-17T10:34:23.972909Z",
     "iopub.status.busy": "2024-05-17T10:34:23.972232Z",
     "iopub.status.idle": "2024-05-17T10:34:24.304529Z",
     "shell.execute_reply": "2024-05-17T10:34:24.303613Z"
    },
    "papermill": {
     "duration": 0.892246,
     "end_time": "2024-05-17T10:34:24.306560",
     "exception": false,
     "start_time": "2024-05-17T10:34:23.414314",
     "status": "completed"
    },
    "tags": []
   },
   "outputs": [
    {
     "data": {
      "image/png": "[encoded data removed]",
      "text/plain": [
       "<Figure size 640x480 with 1 Axes>"
      ]
     },
     "metadata": {},
     "output_type": "display_data"
    }
   ],
   "source": [
    "# Plot training & validation accuracy values\n",
    "plt.plot(history.history['accuracy'])\n",
    "plt.plot(history.history['val_accuracy'])\n",
    "plt.title('Model accuracy')\n",
    "plt.ylabel('Accuracy')\n",
    "plt.xlabel('Epoch')\n",
    "plt.legend(['Train', 'Validation'], loc='upper left')\n",
    "plt.show()"
   ]
  },
  {
   "cell_type": "code",
   "execution_count": null,
   "id": "7232ea40",
   "metadata": {
    "execution": {
     "iopub.execute_input": "2024-05-17T10:34:25.424814Z",
     "iopub.status.busy": "2024-05-17T10:34:25.423949Z",
     "iopub.status.idle": "2024-05-17T10:34:25.765376Z",
     "shell.execute_reply": "2024-05-17T10:34:25.764492Z"
    },
    "papermill": {
     "duration": 0.905733,
     "end_time": "2024-05-17T10:34:25.767375",
     "exception": false,
     "start_time": "2024-05-17T10:34:24.861642",
     "status": "completed"
    },
    "tags": []
   },
   "outputs": [
    {
     "data": {
      "image/png": "[encoded data removed]",
      "text/plain": [
       "<Figure size 640x480 with 1 Axes>"
      ]
     },
     "metadata": {},
     "output_type": "display_data"
    }
   ],
   "source": [
    "# Plot training & validation accuracy values\n",
    "plt.plot(history.history['loss'])\n",
    "plt.plot(history.history['val_loss'])\n",
    "plt.title('Model loss')\n",
    "plt.ylabel('loss')\n",
    "plt.xlabel('Epoch')\n",
    "plt.legend(['Train', 'Validation'], loc='upper left')\n",
    "plt.show()"
   ]
  },
  {
   "cell_type": "markdown",
   "id": "b2d11e09",
   "metadata": {
    "papermill": {
     "duration": 0.596649,
     "end_time": "2024-05-17T10:34:26.922479",
     "exception": false,
     "start_time": "2024-05-17T10:34:26.325830",
     "status": "completed"
    },
    "tags": []
   },
   "source": [
    "## <div style=\"text-align: left; background-color:aliceblue ; font-family: Trebuchet MS; color: black; padding: 15px; line-height:1;border-radius:1px; margin-bottom: 0em; text-align: center; font-size: 25px;border-style: solid;border-color: dark green;\"> LSTM </div> "
   ]
  },
  {
   "cell_type": "code",
   "execution_count": null,
   "id": "2f5106c2",
   "metadata": {
    "execution": {
     "iopub.execute_input": "2024-05-17T10:34:28.029755Z",
     "iopub.status.busy": "2024-05-17T10:34:28.029380Z",
     "iopub.status.idle": "2024-05-17T10:34:28.060833Z",
     "shell.execute_reply": "2024-05-17T10:34:28.059937Z"
    },
    "papermill": {
     "duration": 0.586453,
     "end_time": "2024-05-17T10:34:28.062869",
     "exception": false,
     "start_time": "2024-05-17T10:34:27.476416",
     "status": "completed"
    },
    "tags": []
   },
   "outputs": [
    {
     "data": {
      "text/html": [
       "<pre style=\"white-space:pre;overflow-x:auto;line-height:normal;font-family:Menlo,'DejaVu Sans Mono',consolas,'Courier New',monospace\"><span style=\"font-weight: bold\">Model: \"sequential_1\"</span>\n",
       "</pre>\n"
      ],
      "text/plain": [
       "\u001b[1mModel: \"sequential_1\"\u001b[0m\n"
      ]
     },
     "metadata": {},
     "output_type": "display_data"
    },
    {
     "data": {
      "text/html": [
       "<pre style=\"white-space:pre;overflow-x:auto;line-height:normal;font-family:Menlo,'DejaVu Sans Mono',consolas,'Courier New',monospace\">┏━━━━━━━━━━━━━━━━━━━━━━━━━━━━━━━━━┳━━━━━━━━━━━━━━━━━━━━━━━━┳━━━━━━━━━━━━━━━┓\n",
       "┃<span style=\"font-weight: bold\"> Layer (type)                    </span>┃<span style=\"font-weight: bold\"> Output Shape           </span>┃<span style=\"font-weight: bold\">       Param # </span>┃\n",
       "┡━━━━━━━━━━━━━━━━━━━━━━━━━━━━━━━━━╇━━━━━━━━━━━━━━━━━━━━━━━━╇━━━━━━━━━━━━━━━┩\n",
       "│ embedding_1 (<span style=\"color: #0087ff; text-decoration-color: #0087ff\">Embedding</span>)         │ ?                      │   <span style=\"color: #00af00; text-decoration-color: #00af00\">0</span> (unbuilt) │\n",
       "├─────────────────────────────────┼────────────────────────┼───────────────┤\n",
       "│ spatial_dropout1d_1             │ ?                      │             <span style=\"color: #00af00; text-decoration-color: #00af00\">0</span> │\n",
       "│ (<span style=\"color: #0087ff; text-decoration-color: #0087ff\">SpatialDropout1D</span>)              │                        │               │\n",
       "├─────────────────────────────────┼────────────────────────┼───────────────┤\n",
       "│ lstm (<span style=\"color: #0087ff; text-decoration-color: #0087ff\">LSTM</span>)                     │ ?                      │   <span style=\"color: #00af00; text-decoration-color: #00af00\">0</span> (unbuilt) │\n",
       "├─────────────────────────────────┼────────────────────────┼───────────────┤\n",
       "│ dropout_2 (<span style=\"color: #0087ff; text-decoration-color: #0087ff\">Dropout</span>)             │ ?                      │             <span style=\"color: #00af00; text-decoration-color: #00af00\">0</span> │\n",
       "├─────────────────────────────────┼────────────────────────┼───────────────┤\n",
       "│ batch_normalization_2           │ ?                      │   <span style=\"color: #00af00; text-decoration-color: #00af00\">0</span> (unbuilt) │\n",
       "│ (<span style=\"color: #0087ff; text-decoration-color: #0087ff\">BatchNormalization</span>)            │                        │               │\n",
       "├─────────────────────────────────┼────────────────────────┼───────────────┤\n",
       "│ dense_2 (<span style=\"color: #0087ff; text-decoration-color: #0087ff\">Dense</span>)                 │ ?                      │   <span style=\"color: #00af00; text-decoration-color: #00af00\">0</span> (unbuilt) │\n",
       "└─────────────────────────────────┴────────────────────────┴───────────────┘\n",
       "</pre>\n"
      ],
      "text/plain": [
       "┏━━━━━━━━━━━━━━━━━━━━━━━━━━━━━━━━━┳━━━━━━━━━━━━━━━━━━━━━━━━┳━━━━━━━━━━━━━━━┓\n",
       "┃\u001b[1m \u001b[0m\u001b[1mLayer (type)                   \u001b[0m\u001b[1m \u001b[0m┃\u001b[1m \u001b[0m\u001b[1mOutput Shape          \u001b[0m\u001b[1m \u001b[0m┃\u001b[1m \u001b[0m\u001b[1m      Param #\u001b[0m\u001b[1m \u001b[0m┃\n",
       "┡━━━━━━━━━━━━━━━━━━━━━━━━━━━━━━━━━╇━━━━━━━━━━━━━━━━━━━━━━━━╇━━━━━━━━━━━━━━━┩\n",
       "│ embedding_1 (\u001b[38;5;33mEmbedding\u001b[0m)         │ ?                      │   \u001b[38;5;34m0\u001b[0m (unbuilt) │\n",
       "├─────────────────────────────────┼────────────────────────┼───────────────┤\n",
       "│ spatial_dropout1d_1             │ ?                      │             \u001b[38;5;34m0\u001b[0m │\n",
       "│ (\u001b[38;5;33mSpatialDropout1D\u001b[0m)              │                        │               │\n",
       "├─────────────────────────────────┼────────────────────────┼───────────────┤\n",
       "│ lstm (\u001b[38;5;33mLSTM\u001b[0m)                     │ ?                      │   \u001b[38;5;34m0\u001b[0m (unbuilt) │\n",
       "├─────────────────────────────────┼────────────────────────┼───────────────┤\n",
       "│ dropout_2 (\u001b[38;5;33mDropout\u001b[0m)             │ ?                      │             \u001b[38;5;34m0\u001b[0m │\n",
       "├─────────────────────────────────┼────────────────────────┼───────────────┤\n",
       "│ batch_normalization_2           │ ?                      │   \u001b[38;5;34m0\u001b[0m (unbuilt) │\n",
       "│ (\u001b[38;5;33mBatchNormalization\u001b[0m)            │                        │               │\n",
       "├─────────────────────────────────┼────────────────────────┼───────────────┤\n",
       "│ dense_2 (\u001b[38;5;33mDense\u001b[0m)                 │ ?                      │   \u001b[38;5;34m0\u001b[0m (unbuilt) │\n",
       "└─────────────────────────────────┴────────────────────────┴───────────────┘\n"
      ]
     },
     "metadata": {},
     "output_type": "display_data"
    },
    {
     "data": {
      "text/html": [
       "<pre style=\"white-space:pre;overflow-x:auto;line-height:normal;font-family:Menlo,'DejaVu Sans Mono',consolas,'Courier New',monospace\"><span style=\"font-weight: bold\"> Total params: </span><span style=\"color: #00af00; text-decoration-color: #00af00\">0</span> (0.00 B)\n",
       "</pre>\n"
      ],
      "text/plain": [
       "\u001b[1m Total params: \u001b[0m\u001b[38;5;34m0\u001b[0m (0.00 B)\n"
      ]
     },
     "metadata": {},
     "output_type": "display_data"
    },
    {
     "data": {
      "text/html": [
       "<pre style=\"white-space:pre;overflow-x:auto;line-height:normal;font-family:Menlo,'DejaVu Sans Mono',consolas,'Courier New',monospace\"><span style=\"font-weight: bold\"> Trainable params: </span><span style=\"color: #00af00; text-decoration-color: #00af00\">0</span> (0.00 B)\n",
       "</pre>\n"
      ],
      "text/plain": [
       "\u001b[1m Trainable params: \u001b[0m\u001b[38;5;34m0\u001b[0m (0.00 B)\n"
      ]
     },
     "metadata": {},
     "output_type": "display_data"
    },
    {
     "data": {
      "text/html": [
       "<pre style=\"white-space:pre;overflow-x:auto;line-height:normal;font-family:Menlo,'DejaVu Sans Mono',consolas,'Courier New',monospace\"><span style=\"font-weight: bold\"> Non-trainable params: </span><span style=\"color: #00af00; text-decoration-color: #00af00\">0</span> (0.00 B)\n",
       "</pre>\n"
      ],
      "text/plain": [
       "\u001b[1m Non-trainable params: \u001b[0m\u001b[38;5;34m0\u001b[0m (0.00 B)\n"
      ]
     },
     "metadata": {},
     "output_type": "display_data"
    }
   ],
   "source": [
    "# Define the model\n",
    "lstm_model = Sequential()\n",
    "lstm_model.add(Embedding(input_dim=len(tokenizer.word_index)+1, output_dim=100, input_length=100))\n",
    "lstm_model.add(SpatialDropout1D(0.5))\n",
    "lstm_model.add(LSTM(5, return_sequences=False))\n",
    "lstm_model.add(Dropout(0.5))\n",
    "lstm_model.add(BatchNormalization())\n",
    "\n",
    "\n",
    "lstm_model.add(Dense(1, activation='sigmoid'))\n",
    "\n",
    "# Summarize the model\n",
    "lstm_model.summary()"
   ]
  },
  {
   "cell_type": "code",
   "execution_count": null,
   "id": "8a43c1fd",
   "metadata": {
    "execution": {
     "iopub.execute_input": "2024-05-17T10:34:29.228592Z",
     "iopub.status.busy": "2024-05-17T10:34:29.227820Z",
     "iopub.status.idle": "2024-05-17T10:35:22.609684Z",
     "shell.execute_reply": "2024-05-17T10:35:22.608609Z"
    },
    "papermill": {
     "duration": 53.945132,
     "end_time": "2024-05-17T10:35:22.611915",
     "exception": false,
     "start_time": "2024-05-17T10:34:28.666783",
     "status": "completed"
    },
    "tags": []
   },
   "outputs": [
    {
     "name": "stdout",
     "output_type": "stream",
     "text": [
      "Epoch 1/10\n",
      "\u001b[1m310/310\u001b[0m \u001b[32m━━━━━━━━━━━━━━━━━━━━\u001b[0m\u001b[37m\u001b[0m \u001b[1m10s\u001b[0m 16ms/step - accuracy: 0.5753 - loss: 0.6706 - val_accuracy: 0.8543 - val_loss: 0.3932\n",
      "Epoch 2/10\n",
      "\u001b[1m310/310\u001b[0m \u001b[32m━━━━━━━━━━━━━━━━━━━━\u001b[0m\u001b[37m\u001b[0m \u001b[1m5s\u001b[0m 16ms/step - accuracy: 0.8278 - loss: 0.4402 - val_accuracy: 0.8194 - val_loss: 0.4606\n",
      "Epoch 3/10\n",
      "\u001b[1m310/310\u001b[0m \u001b[32m━━━━━━━━━━━━━━━━━━━━\u001b[0m\u001b[37m\u001b[0m \u001b[1m5s\u001b[0m 15ms/step - accuracy: 0.8394 - loss: 0.4404 - val_accuracy: 0.8215 - val_loss: 0.4273\n",
      "Epoch 4/10\n",
      "\u001b[1m310/310\u001b[0m \u001b[32m━━━━━━━━━━━━━━━━━━━━\u001b[0m\u001b[37m\u001b[0m \u001b[1m5s\u001b[0m 15ms/step - accuracy: 0.8735 - loss: 0.3697 - val_accuracy: 0.8621 - val_loss: 0.3774\n",
      "Epoch 5/10\n",
      "\u001b[1m310/310\u001b[0m \u001b[32m━━━━━━━━━━━━━━━━━━━━\u001b[0m\u001b[37m\u001b[0m \u001b[1m5s\u001b[0m 15ms/step - accuracy: 0.9048 - loss: 0.3205 - val_accuracy: 0.8562 - val_loss: 0.3870\n",
      "Epoch 6/10\n",
      "\u001b[1m310/310\u001b[0m \u001b[32m━━━━━━━━━━━━━━━━━━━━\u001b[0m\u001b[37m\u001b[0m \u001b[1m5s\u001b[0m 15ms/step - accuracy: 0.9080 - loss: 0.3158 - val_accuracy: 0.8586 - val_loss: 0.3899\n",
      "Epoch 7/10\n",
      "\u001b[1m310/310\u001b[0m \u001b[32m━━━━━━━━━━━━━━━━━━━━\u001b[0m\u001b[37m\u001b[0m \u001b[1m5s\u001b[0m 15ms/step - accuracy: 0.9025 - loss: 0.3183 - val_accuracy: 0.8655 - val_loss: 0.3660\n",
      "Epoch 8/10\n",
      "\u001b[1m310/310\u001b[0m \u001b[32m━━━━━━━━━━━━━━━━━━━━\u001b[0m\u001b[37m\u001b[0m \u001b[1m5s\u001b[0m 15ms/step - accuracy: 0.9115 - loss: 0.2962 - val_accuracy: 0.8642 - val_loss: 0.3908\n",
      "Epoch 9/10\n",
      "\u001b[1m310/310\u001b[0m \u001b[32m━━━━━━━━━━━━━━━━━━━━\u001b[0m\u001b[37m\u001b[0m \u001b[1m5s\u001b[0m 16ms/step - accuracy: 0.9228 - loss: 0.2717 - val_accuracy: 0.8578 - val_loss: 0.4159\n",
      "Epoch 10/10\n",
      "\u001b[1m310/310\u001b[0m \u001b[32m━━━━━━━━━━━━━━━━━━━━\u001b[0m\u001b[37m\u001b[0m \u001b[1m5s\u001b[0m 15ms/step - accuracy: 0.9184 - loss: 0.2732 - val_accuracy: 0.8119 - val_loss: 0.5087\n"
     ]
    }
   ],
   "source": [
    "lstm_model.compile(loss='binary_crossentropy', optimizer='adam', metrics=['accuracy'])\n",
    "\n",
    "history = lstm_model.fit(X_train, y_train, epochs=10, batch_size=128, validation_data=(X_test, y_test))\n"
   ]
  },
  {
   "cell_type": "code",
   "execution_count": null,
   "id": "49713a5a",
   "metadata": {
    "execution": {
     "iopub.execute_input": "2024-05-17T10:35:23.895697Z",
     "iopub.status.busy": "2024-05-17T10:35:23.895332Z",
     "iopub.status.idle": "2024-05-17T10:35:24.248313Z",
     "shell.execute_reply": "2024-05-17T10:35:24.247388Z"
    },
    "papermill": {
     "duration": 1.02186,
     "end_time": "2024-05-17T10:35:24.250715",
     "exception": false,
     "start_time": "2024-05-17T10:35:23.228855",
     "status": "completed"
    },
    "tags": []
   },
   "outputs": [
    {
     "data": {
      "image/png": "[encoded data removed]",
      "text/plain": [
       "<Figure size 640x480 with 1 Axes>"
      ]
     },
     "metadata": {},
     "output_type": "display_data"
    }
   ],
   "source": [
    "# Plot training & validation accuracy values\n",
    "plt.plot(history.history['accuracy'])\n",
    "plt.plot(history.history['val_accuracy'])\n",
    "plt.title('Model accuracy')\n",
    "plt.ylabel('Accuracy')\n",
    "plt.xlabel('Epoch')\n",
    "plt.legend(['Train', 'Validation'], loc='upper left')\n",
    "plt.show()"
   ]
  },
  {
   "cell_type": "code",
   "execution_count": null,
   "id": "a9699fe3",
   "metadata": {
    "execution": {
     "iopub.execute_input": "2024-05-17T10:35:25.494403Z",
     "iopub.status.busy": "2024-05-17T10:35:25.494044Z",
     "iopub.status.idle": "2024-05-17T10:35:25.785379Z",
     "shell.execute_reply": "2024-05-17T10:35:25.784484Z"
    },
    "papermill": {
     "duration": 0.91833,
     "end_time": "2024-05-17T10:35:25.787315",
     "exception": false,
     "start_time": "2024-05-17T10:35:24.868985",
     "status": "completed"
    },
    "tags": []
   },
   "outputs": [
    {
     "data": {
      "image/png": "[encoded data removed]",
      "text/plain": [
       "<Figure size 640x480 with 1 Axes>"
      ]
     },
     "metadata": {},
     "output_type": "display_data"
    }
   ],
   "source": [
    "# Plot training & validation accuracy values\n",
    "plt.plot(history.history['loss'])\n",
    "plt.plot(history.history['val_loss'])\n",
    "plt.title('Model loss')\n",
    "plt.ylabel('loss')\n",
    "plt.xlabel('Epoch')\n",
    "plt.legend(['Train', 'Validation'], loc='upper left')\n",
    "plt.show()"
   ]
  },
  {
   "cell_type": "markdown",
   "id": "65f5505b",
   "metadata": {
    "papermill": {
     "duration": 0.671477,
     "end_time": "2024-05-17T10:35:27.080779",
     "exception": false,
     "start_time": "2024-05-17T10:35:26.409302",
     "status": "completed"
    },
    "tags": []
   },
   "source": [
    "## <div style=\"text-align: left; background-color:aliceblue ; font-family: Trebuchet MS; color: black; padding: 15px; line-height:1;border-radius:1px; margin-bottom: 0em; text-align: center; font-size: 25px;border-style: solid;border-color: dark green;\"> GRU</div> "
   ]
  },
  {
   "cell_type": "code",
   "execution_count": null,
   "id": "7b795331",
   "metadata": {
    "execution": {
     "iopub.execute_input": "2024-05-17T10:35:28.337665Z",
     "iopub.status.busy": "2024-05-17T10:35:28.337240Z",
     "iopub.status.idle": "2024-05-17T10:35:28.368795Z",
     "shell.execute_reply": "2024-05-17T10:35:28.367850Z"
    },
    "papermill": {
     "duration": 0.668798,
     "end_time": "2024-05-17T10:35:28.370639",
     "exception": false,
     "start_time": "2024-05-17T10:35:27.701841",
     "status": "completed"
    },
    "tags": []
   },
   "outputs": [
    {
     "data": {
      "text/html": [
       "<pre style=\"white-space:pre;overflow-x:auto;line-height:normal;font-family:Menlo,'DejaVu Sans Mono',consolas,'Courier New',monospace\"><span style=\"font-weight: bold\">Model: \"sequential_2\"</span>\n",
       "</pre>\n"
      ],
      "text/plain": [
       "\u001b[1mModel: \"sequential_2\"\u001b[0m\n"
      ]
     },
     "metadata": {},
     "output_type": "display_data"
    },
    {
     "data": {
      "text/html": [
       "<pre style=\"white-space:pre;overflow-x:auto;line-height:normal;font-family:Menlo,'DejaVu Sans Mono',consolas,'Courier New',monospace\">┏━━━━━━━━━━━━━━━━━━━━━━━━━━━━━━━━━┳━━━━━━━━━━━━━━━━━━━━━━━━┳━━━━━━━━━━━━━━━┓\n",
       "┃<span style=\"font-weight: bold\"> Layer (type)                    </span>┃<span style=\"font-weight: bold\"> Output Shape           </span>┃<span style=\"font-weight: bold\">       Param # </span>┃\n",
       "┡━━━━━━━━━━━━━━━━━━━━━━━━━━━━━━━━━╇━━━━━━━━━━━━━━━━━━━━━━━━╇━━━━━━━━━━━━━━━┩\n",
       "│ embedding_2 (<span style=\"color: #0087ff; text-decoration-color: #0087ff\">Embedding</span>)         │ ?                      │   <span style=\"color: #00af00; text-decoration-color: #00af00\">0</span> (unbuilt) │\n",
       "├─────────────────────────────────┼────────────────────────┼───────────────┤\n",
       "│ spatial_dropout1d_2             │ ?                      │             <span style=\"color: #00af00; text-decoration-color: #00af00\">0</span> │\n",
       "│ (<span style=\"color: #0087ff; text-decoration-color: #0087ff\">SpatialDropout1D</span>)              │                        │               │\n",
       "├─────────────────────────────────┼────────────────────────┼───────────────┤\n",
       "│ gru (<span style=\"color: #0087ff; text-decoration-color: #0087ff\">GRU</span>)                       │ ?                      │   <span style=\"color: #00af00; text-decoration-color: #00af00\">0</span> (unbuilt) │\n",
       "├─────────────────────────────────┼────────────────────────┼───────────────┤\n",
       "│ dropout_3 (<span style=\"color: #0087ff; text-decoration-color: #0087ff\">Dropout</span>)             │ ?                      │             <span style=\"color: #00af00; text-decoration-color: #00af00\">0</span> │\n",
       "├─────────────────────────────────┼────────────────────────┼───────────────┤\n",
       "│ dense_3 (<span style=\"color: #0087ff; text-decoration-color: #0087ff\">Dense</span>)                 │ ?                      │   <span style=\"color: #00af00; text-decoration-color: #00af00\">0</span> (unbuilt) │\n",
       "└─────────────────────────────────┴────────────────────────┴───────────────┘\n",
       "</pre>\n"
      ],
      "text/plain": [
       "┏━━━━━━━━━━━━━━━━━━━━━━━━━━━━━━━━━┳━━━━━━━━━━━━━━━━━━━━━━━━┳━━━━━━━━━━━━━━━┓\n",
       "┃\u001b[1m \u001b[0m\u001b[1mLayer (type)                   \u001b[0m\u001b[1m \u001b[0m┃\u001b[1m \u001b[0m\u001b[1mOutput Shape          \u001b[0m\u001b[1m \u001b[0m┃\u001b[1m \u001b[0m\u001b[1m      Param #\u001b[0m\u001b[1m \u001b[0m┃\n",
       "┡━━━━━━━━━━━━━━━━━━━━━━━━━━━━━━━━━╇━━━━━━━━━━━━━━━━━━━━━━━━╇━━━━━━━━━━━━━━━┩\n",
       "│ embedding_2 (\u001b[38;5;33mEmbedding\u001b[0m)         │ ?                      │   \u001b[38;5;34m0\u001b[0m (unbuilt) │\n",
       "├─────────────────────────────────┼────────────────────────┼───────────────┤\n",
       "│ spatial_dropout1d_2             │ ?                      │             \u001b[38;5;34m0\u001b[0m │\n",
       "│ (\u001b[38;5;33mSpatialDropout1D\u001b[0m)              │                        │               │\n",
       "├─────────────────────────────────┼────────────────────────┼───────────────┤\n",
       "│ gru (\u001b[38;5;33mGRU\u001b[0m)                       │ ?                      │   \u001b[38;5;34m0\u001b[0m (unbuilt) │\n",
       "├─────────────────────────────────┼────────────────────────┼───────────────┤\n",
       "│ dropout_3 (\u001b[38;5;33mDropout\u001b[0m)             │ ?                      │             \u001b[38;5;34m0\u001b[0m │\n",
       "├─────────────────────────────────┼────────────────────────┼───────────────┤\n",
       "│ dense_3 (\u001b[38;5;33mDense\u001b[0m)                 │ ?                      │   \u001b[38;5;34m0\u001b[0m (unbuilt) │\n",
       "└─────────────────────────────────┴────────────────────────┴───────────────┘\n"
      ]
     },
     "metadata": {},
     "output_type": "display_data"
    },
    {
     "data": {
      "text/html": [
       "<pre style=\"white-space:pre;overflow-x:auto;line-height:normal;font-family:Menlo,'DejaVu Sans Mono',consolas,'Courier New',monospace\"><span style=\"font-weight: bold\"> Total params: </span><span style=\"color: #00af00; text-decoration-color: #00af00\">0</span> (0.00 B)\n",
       "</pre>\n"
      ],
      "text/plain": [
       "\u001b[1m Total params: \u001b[0m\u001b[38;5;34m0\u001b[0m (0.00 B)\n"
      ]
     },
     "metadata": {},
     "output_type": "display_data"
    },
    {
     "data": {
      "text/html": [
       "<pre style=\"white-space:pre;overflow-x:auto;line-height:normal;font-family:Menlo,'DejaVu Sans Mono',consolas,'Courier New',monospace\"><span style=\"font-weight: bold\"> Trainable params: </span><span style=\"color: #00af00; text-decoration-color: #00af00\">0</span> (0.00 B)\n",
       "</pre>\n"
      ],
      "text/plain": [
       "\u001b[1m Trainable params: \u001b[0m\u001b[38;5;34m0\u001b[0m (0.00 B)\n"
      ]
     },
     "metadata": {},
     "output_type": "display_data"
    },
    {
     "data": {
      "text/html": [
       "<pre style=\"white-space:pre;overflow-x:auto;line-height:normal;font-family:Menlo,'DejaVu Sans Mono',consolas,'Courier New',monospace\"><span style=\"font-weight: bold\"> Non-trainable params: </span><span style=\"color: #00af00; text-decoration-color: #00af00\">0</span> (0.00 B)\n",
       "</pre>\n"
      ],
      "text/plain": [
       "\u001b[1m Non-trainable params: \u001b[0m\u001b[38;5;34m0\u001b[0m (0.00 B)\n"
      ]
     },
     "metadata": {},
     "output_type": "display_data"
    }
   ],
   "source": [
    "# Define the model\n",
    "GRU_model = Sequential()\n",
    "GRU_model.add(Embedding(input_dim=len(tokenizer.word_index)+1, output_dim=100, input_length=100))\n",
    "GRU_model.add(SpatialDropout1D(0.5))\n",
    "GRU_model.add(GRU(5, return_sequences=False))\n",
    "GRU_model.add(Dropout(0.5))\n",
    "#GRU_model.add(BatchNormalization())\n",
    "\n",
    "\n",
    "GRU_model.add(Dense(1, activation='sigmoid'))\n",
    "\n",
    "# Summarize the model\n",
    "GRU_model.summary()"
   ]
  },
  {
   "cell_type": "code",
   "execution_count": null,
   "id": "5fd7810b",
   "metadata": {
    "execution": {
     "iopub.execute_input": "2024-05-17T10:35:29.667747Z",
     "iopub.status.busy": "2024-05-17T10:35:29.667379Z",
     "iopub.status.idle": "2024-05-17T10:35:43.675756Z",
     "shell.execute_reply": "2024-05-17T10:35:43.674846Z"
    },
    "papermill": {
     "duration": 14.684649,
     "end_time": "2024-05-17T10:35:43.678322",
     "exception": false,
     "start_time": "2024-05-17T10:35:28.993673",
     "status": "completed"
    },
    "tags": []
   },
   "outputs": [
    {
     "name": "stdout",
     "output_type": "stream",
     "text": [
      "Epoch 1/5\n",
      "\u001b[1m155/155\u001b[0m \u001b[32m━━━━━━━━━━━━━━━━━━━━\u001b[0m\u001b[37m\u001b[0m \u001b[1m4s\u001b[0m 17ms/step - accuracy: 0.5365 - loss: 0.6887 - val_accuracy: 0.5963 - val_loss: 0.6565\n",
      "Epoch 2/5\n",
      "\u001b[1m155/155\u001b[0m \u001b[32m━━━━━━━━━━━━━━━━━━━━\u001b[0m\u001b[37m\u001b[0m \u001b[1m2s\u001b[0m 15ms/step - accuracy: 0.6918 - loss: 0.5901 - val_accuracy: 0.8506 - val_loss: 0.3894\n",
      "Epoch 3/5\n",
      "\u001b[1m155/155\u001b[0m \u001b[32m━━━━━━━━━━━━━━━━━━━━\u001b[0m\u001b[37m\u001b[0m \u001b[1m2s\u001b[0m 15ms/step - accuracy: 0.8682 - loss: 0.3867 - val_accuracy: 0.8597 - val_loss: 0.3571\n",
      "Epoch 4/5\n",
      "\u001b[1m155/155\u001b[0m \u001b[32m━━━━━━━━━━━━━━━━━━━━\u001b[0m\u001b[37m\u001b[0m \u001b[1m2s\u001b[0m 15ms/step - accuracy: 0.9023 - loss: 0.3031 - val_accuracy: 0.8748 - val_loss: 0.3209\n",
      "Epoch 5/5\n",
      "\u001b[1m155/155\u001b[0m \u001b[32m━━━━━━━━━━━━━━━━━━━━\u001b[0m\u001b[37m\u001b[0m \u001b[1m2s\u001b[0m 15ms/step - accuracy: 0.9260 - loss: 0.2416 - val_accuracy: 0.8722 - val_loss: 0.3242\n"
     ]
    }
   ],
   "source": [
    "GRU_model.compile(loss='binary_crossentropy', optimizer='adam', metrics=['accuracy'])\n",
    "\n",
    "history = GRU_model.fit(X_train, y_train, epochs=5, batch_size=256, validation_data=(X_test, y_test))\n"
   ]
  },
  {
   "cell_type": "code",
   "execution_count": null,
   "id": "d26bf9f4",
   "metadata": {
    "execution": {
     "iopub.execute_input": "2024-05-17T10:35:45.013463Z",
     "iopub.status.busy": "2024-05-17T10:35:45.013068Z",
     "iopub.status.idle": "2024-05-17T10:35:45.358148Z",
     "shell.execute_reply": "2024-05-17T10:35:45.357316Z"
    },
    "papermill": {
     "duration": 1.000007,
     "end_time": "2024-05-17T10:35:45.360402",
     "exception": false,
     "start_time": "2024-05-17T10:35:44.360395",
     "status": "completed"
    },
    "tags": []
   },
   "outputs": [
    {
     "data": {
      "image/png": "[encoded data removed]",
      "text/plain": [
       "<Figure size 640x480 with 1 Axes>"
      ]
     },
     "metadata": {},
     "output_type": "display_data"
    }
   ],
   "source": [
    "# Plot training & validation accuracy values\n",
    "plt.plot(history.history['accuracy'])\n",
    "plt.plot(history.history['val_accuracy'])\n",
    "plt.title('Model accuracy')\n",
    "plt.ylabel('Accuracy')\n",
    "plt.xlabel('Epoch')\n",
    "plt.legend(['Train', 'Validation'], loc='upper left')\n",
    "plt.show()"
   ]
  },
  {
   "cell_type": "code",
   "execution_count": null,
   "id": "ab07c7c2",
   "metadata": {
    "execution": {
     "iopub.execute_input": "2024-05-17T10:35:46.716523Z",
     "iopub.status.busy": "2024-05-17T10:35:46.716100Z",
     "iopub.status.idle": "2024-05-17T10:35:47.081954Z",
     "shell.execute_reply": "2024-05-17T10:35:47.080855Z"
    },
    "papermill": {
     "duration": 1.03238,
     "end_time": "2024-05-17T10:35:47.084120",
     "exception": false,
     "start_time": "2024-05-17T10:35:46.051740",
     "status": "completed"
    },
    "tags": []
   },
   "outputs": [
    {
     "data": {
      "image/png": "[encoded data removed]",
      "text/plain": [
       "<Figure size 640x480 with 1 Axes>"
      ]
     },
     "metadata": {},
     "output_type": "display_data"
    }
   ],
   "source": [
    "# Plot training & validation accuracy values\n",
    "plt.plot(history.history['loss'])\n",
    "plt.plot(history.history['val_loss'])\n",
    "plt.title('Model loss')\n",
    "plt.ylabel('loss')\n",
    "plt.xlabel('Epoch')\n",
    "plt.legend(['Train', 'Validation'], loc='upper left')\n",
    "plt.show()"
   ]
  },
  {
   "cell_type": "markdown",
   "id": "3bc78b8d",
   "metadata": {
    "papermill": {
     "duration": 0.645484,
     "end_time": "2024-05-17T10:35:48.392043",
     "exception": false,
     "start_time": "2024-05-17T10:35:47.746559",
     "status": "completed"
    },
    "tags": []
   },
   "source": [
    "## <div style=\"text-align: left; background-color:aliceblue ; font-family: Trebuchet MS; color: black; padding: 15px; line-height:1;border-radius:1px; margin-bottom: 0em; text-align: center; font-size: 25px;border-style: solid;border-color: dark green;\"> Hypertuning GRU</div>"
   ]
  },
  {
   "cell_type": "code",
   "execution_count": null,
   "id": "7a51e5b3",
   "metadata": {
    "execution": {
     "iopub.execute_input": "2024-05-17T10:35:49.725725Z",
     "iopub.status.busy": "2024-05-17T10:35:49.725379Z",
     "iopub.status.idle": "2024-05-17T10:35:49.735790Z",
     "shell.execute_reply": "2024-05-17T10:35:49.734943Z"
    },
    "papermill": {
     "duration": 0.655945,
     "end_time": "2024-05-17T10:35:49.737552",
     "exception": false,
     "start_time": "2024-05-17T10:35:49.081607",
     "status": "completed"
    },
    "tags": []
   },
   "outputs": [],
   "source": [
    "import keras\n",
    "\n",
    "def Hyper_GRU_model(hp):\n",
    "    model = keras.Sequential()\n",
    "    model.add(keras.layers.Embedding(input_dim=len(tokenizer.word_index) + 1, output_dim=100, input_shape=(X_train.shape[1],)))\n",
    "    \n",
    "    units = hp.Int('units', min_value=1, max_value=10, step=2)\n",
    "    model.add(keras.layers.GRU(units, return_sequences=True))\n",
    "    model.add(keras.layers.Dropout(rate=hp.Float('dropout_rate', min_value=0.1, max_value=0.5, step=0.1)))\n",
    "    \n",
    "    for i in range(hp.Int('num_layers', 1, 5)):\n",
    "        model.add(keras.layers.GRU(units, return_sequences=True))\n",
    "        model.add(keras.layers.Dropout(rate=hp.Float(f'dropout_rate_{i}', min_value=0.1, max_value=0.5, step=0.1)))\n",
    "        \n",
    "    model.add(keras.layers.GRU(units))\n",
    "    model.add(keras.layers.Dropout(rate=hp.Float('final_dropout_rate', min_value=0.1, max_value=0.5, step=0.1)))\n",
    "    \n",
    "    model.add(keras.layers.Dense(1, activation='sigmoid'))\n",
    "    \n",
    "    model.compile(optimizer=keras.optimizers.Adam(learning_rate=hp.Choice('learning_rate', values=[1e-2, 1e-3, 1e-4])),\n",
    "                  loss='binary_crossentropy',\n",
    "                  metrics=['accuracy'])\n",
    "    \n",
    "    print(\"Model built with the following architecture:\")\n",
    "    model.summary()\n",
    "    \n",
    "    return model"
   ]
  },
  {
   "cell_type": "code",
   "execution_count": null,
   "id": "6a3bd205",
   "metadata": {
    "execution": {
     "iopub.execute_input": "2024-05-17T10:35:51.081975Z",
     "iopub.status.busy": "2024-05-17T10:35:51.081580Z",
     "iopub.status.idle": "2024-05-17T10:35:51.457324Z",
     "shell.execute_reply": "2024-05-17T10:35:51.456468Z"
    },
    "papermill": {
     "duration": 1.06099,
     "end_time": "2024-05-17T10:35:51.459185",
     "exception": false,
     "start_time": "2024-05-17T10:35:50.398195",
     "status": "completed"
    },
    "tags": []
   },
   "outputs": [
    {
     "name": "stdout",
     "output_type": "stream",
     "text": [
      "Model built with the following architecture:\n"
     ]
    },
    {
     "data": {
      "text/html": [
       "<pre style=\"white-space:pre;overflow-x:auto;line-height:normal;font-family:Menlo,'DejaVu Sans Mono',consolas,'Courier New',monospace\"><span style=\"font-weight: bold\">Model: \"sequential_3\"</span>\n",
       "</pre>\n"
      ],
      "text/plain": [
       "\u001b[1mModel: \"sequential_3\"\u001b[0m\n"
      ]
     },
     "metadata": {},
     "output_type": "display_data"
    },
    {
     "data": {
      "text/html": [
       "<pre style=\"white-space:pre;overflow-x:auto;line-height:normal;font-family:Menlo,'DejaVu Sans Mono',consolas,'Courier New',monospace\">┏━━━━━━━━━━━━━━━━━━━━━━━━━━━━━━━━━┳━━━━━━━━━━━━━━━━━━━━━━━━┳━━━━━━━━━━━━━━━┓\n",
       "┃<span style=\"font-weight: bold\"> Layer (type)                    </span>┃<span style=\"font-weight: bold\"> Output Shape           </span>┃<span style=\"font-weight: bold\">       Param # </span>┃\n",
       "┡━━━━━━━━━━━━━━━━━━━━━━━━━━━━━━━━━╇━━━━━━━━━━━━━━━━━━━━━━━━╇━━━━━━━━━━━━━━━┩\n",
       "│ embedding_3 (<span style=\"color: #0087ff; text-decoration-color: #0087ff\">Embedding</span>)         │ (<span style=\"color: #00d7ff; text-decoration-color: #00d7ff\">None</span>, <span style=\"color: #00af00; text-decoration-color: #00af00\">100</span>, <span style=\"color: #00af00; text-decoration-color: #00af00\">100</span>)       │    <span style=\"color: #00af00; text-decoration-color: #00af00\">14,212,100</span> │\n",
       "├─────────────────────────────────┼────────────────────────┼───────────────┤\n",
       "│ gru_1 (<span style=\"color: #0087ff; text-decoration-color: #0087ff\">GRU</span>)                     │ (<span style=\"color: #00d7ff; text-decoration-color: #00d7ff\">None</span>, <span style=\"color: #00af00; text-decoration-color: #00af00\">100</span>, <span style=\"color: #00af00; text-decoration-color: #00af00\">1</span>)         │           <span style=\"color: #00af00; text-decoration-color: #00af00\">309</span> │\n",
       "├─────────────────────────────────┼────────────────────────┼───────────────┤\n",
       "│ dropout_4 (<span style=\"color: #0087ff; text-decoration-color: #0087ff\">Dropout</span>)             │ (<span style=\"color: #00d7ff; text-decoration-color: #00d7ff\">None</span>, <span style=\"color: #00af00; text-decoration-color: #00af00\">100</span>, <span style=\"color: #00af00; text-decoration-color: #00af00\">1</span>)         │             <span style=\"color: #00af00; text-decoration-color: #00af00\">0</span> │\n",
       "├─────────────────────────────────┼────────────────────────┼───────────────┤\n",
       "│ gru_2 (<span style=\"color: #0087ff; text-decoration-color: #0087ff\">GRU</span>)                     │ (<span style=\"color: #00d7ff; text-decoration-color: #00d7ff\">None</span>, <span style=\"color: #00af00; text-decoration-color: #00af00\">100</span>, <span style=\"color: #00af00; text-decoration-color: #00af00\">1</span>)         │            <span style=\"color: #00af00; text-decoration-color: #00af00\">12</span> │\n",
       "├─────────────────────────────────┼────────────────────────┼───────────────┤\n",
       "│ dropout_5 (<span style=\"color: #0087ff; text-decoration-color: #0087ff\">Dropout</span>)             │ (<span style=\"color: #00d7ff; text-decoration-color: #00d7ff\">None</span>, <span style=\"color: #00af00; text-decoration-color: #00af00\">100</span>, <span style=\"color: #00af00; text-decoration-color: #00af00\">1</span>)         │             <span style=\"color: #00af00; text-decoration-color: #00af00\">0</span> │\n",
       "├─────────────────────────────────┼────────────────────────┼───────────────┤\n",
       "│ gru_3 (<span style=\"color: #0087ff; text-decoration-color: #0087ff\">GRU</span>)                     │ (<span style=\"color: #00d7ff; text-decoration-color: #00d7ff\">None</span>, <span style=\"color: #00af00; text-decoration-color: #00af00\">1</span>)              │            <span style=\"color: #00af00; text-decoration-color: #00af00\">12</span> │\n",
       "├─────────────────────────────────┼────────────────────────┼───────────────┤\n",
       "│ dropout_6 (<span style=\"color: #0087ff; text-decoration-color: #0087ff\">Dropout</span>)             │ (<span style=\"color: #00d7ff; text-decoration-color: #00d7ff\">None</span>, <span style=\"color: #00af00; text-decoration-color: #00af00\">1</span>)              │             <span style=\"color: #00af00; text-decoration-color: #00af00\">0</span> │\n",
       "├─────────────────────────────────┼────────────────────────┼───────────────┤\n",
       "│ dense_4 (<span style=\"color: #0087ff; text-decoration-color: #0087ff\">Dense</span>)                 │ (<span style=\"color: #00d7ff; text-decoration-color: #00d7ff\">None</span>, <span style=\"color: #00af00; text-decoration-color: #00af00\">1</span>)              │             <span style=\"color: #00af00; text-decoration-color: #00af00\">2</span> │\n",
       "└─────────────────────────────────┴────────────────────────┴───────────────┘\n",
       "</pre>\n"
      ],
      "text/plain": [
       "┏━━━━━━━━━━━━━━━━━━━━━━━━━━━━━━━━━┳━━━━━━━━━━━━━━━━━━━━━━━━┳━━━━━━━━━━━━━━━┓\n",
       "┃\u001b[1m \u001b[0m\u001b[1mLayer (type)                   \u001b[0m\u001b[1m \u001b[0m┃\u001b[1m \u001b[0m\u001b[1mOutput Shape          \u001b[0m\u001b[1m \u001b[0m┃\u001b[1m \u001b[0m\u001b[1m      Param #\u001b[0m\u001b[1m \u001b[0m┃\n",
       "┡━━━━━━━━━━━━━━━━━━━━━━━━━━━━━━━━━╇━━━━━━━━━━━━━━━━━━━━━━━━╇━━━━━━━━━━━━━━━┩\n",
       "│ embedding_3 (\u001b[38;5;33mEmbedding\u001b[0m)         │ (\u001b[38;5;45mNone\u001b[0m, \u001b[38;5;34m100\u001b[0m, \u001b[38;5;34m100\u001b[0m)       │    \u001b[38;5;34m14,212,100\u001b[0m │\n",
       "├─────────────────────────────────┼────────────────────────┼───────────────┤\n",
       "│ gru_1 (\u001b[38;5;33mGRU\u001b[0m)                     │ (\u001b[38;5;45mNone\u001b[0m, \u001b[38;5;34m100\u001b[0m, \u001b[38;5;34m1\u001b[0m)         │           \u001b[38;5;34m309\u001b[0m │\n",
       "├─────────────────────────────────┼────────────────────────┼───────────────┤\n",
       "│ dropout_4 (\u001b[38;5;33mDropout\u001b[0m)             │ (\u001b[38;5;45mNone\u001b[0m, \u001b[38;5;34m100\u001b[0m, \u001b[38;5;34m1\u001b[0m)         │             \u001b[38;5;34m0\u001b[0m │\n",
       "├─────────────────────────────────┼────────────────────────┼───────────────┤\n",
       "│ gru_2 (\u001b[38;5;33mGRU\u001b[0m)                     │ (\u001b[38;5;45mNone\u001b[0m, \u001b[38;5;34m100\u001b[0m, \u001b[38;5;34m1\u001b[0m)         │            \u001b[38;5;34m12\u001b[0m │\n",
       "├─────────────────────────────────┼────────────────────────┼───────────────┤\n",
       "│ dropout_5 (\u001b[38;5;33mDropout\u001b[0m)             │ (\u001b[38;5;45mNone\u001b[0m, \u001b[38;5;34m100\u001b[0m, \u001b[38;5;34m1\u001b[0m)         │             \u001b[38;5;34m0\u001b[0m │\n",
       "├─────────────────────────────────┼────────────────────────┼───────────────┤\n",
       "│ gru_3 (\u001b[38;5;33mGRU\u001b[0m)                     │ (\u001b[38;5;45mNone\u001b[0m, \u001b[38;5;34m1\u001b[0m)              │            \u001b[38;5;34m12\u001b[0m │\n",
       "├─────────────────────────────────┼────────────────────────┼───────────────┤\n",
       "│ dropout_6 (\u001b[38;5;33mDropout\u001b[0m)             │ (\u001b[38;5;45mNone\u001b[0m, \u001b[38;5;34m1\u001b[0m)              │             \u001b[38;5;34m0\u001b[0m │\n",
       "├─────────────────────────────────┼────────────────────────┼───────────────┤\n",
       "│ dense_4 (\u001b[38;5;33mDense\u001b[0m)                 │ (\u001b[38;5;45mNone\u001b[0m, \u001b[38;5;34m1\u001b[0m)              │             \u001b[38;5;34m2\u001b[0m │\n",
       "└─────────────────────────────────┴────────────────────────┴───────────────┘\n"
      ]
     },
     "metadata": {},
     "output_type": "display_data"
    },
    {
     "data": {
      "text/html": [
       "<pre style=\"white-space:pre;overflow-x:auto;line-height:normal;font-family:Menlo,'DejaVu Sans Mono',consolas,'Courier New',monospace\"><span style=\"font-weight: bold\"> Total params: </span><span style=\"color: #00af00; text-decoration-color: #00af00\">14,212,435</span> (54.22 MB)\n",
       "</pre>\n"
      ],
      "text/plain": [
       "\u001b[1m Total params: \u001b[0m\u001b[38;5;34m14,212,435\u001b[0m (54.22 MB)\n"
      ]
     },
     "metadata": {},
     "output_type": "display_data"
    },
    {
     "data": {
      "text/html": [
       "<pre style=\"white-space:pre;overflow-x:auto;line-height:normal;font-family:Menlo,'DejaVu Sans Mono',consolas,'Courier New',monospace\"><span style=\"font-weight: bold\"> Trainable params: </span><span style=\"color: #00af00; text-decoration-color: #00af00\">14,212,435</span> (54.22 MB)\n",
       "</pre>\n"
      ],
      "text/plain": [
       "\u001b[1m Trainable params: \u001b[0m\u001b[38;5;34m14,212,435\u001b[0m (54.22 MB)\n"
      ]
     },
     "metadata": {},
     "output_type": "display_data"
    },
    {
     "data": {
      "text/html": [
       "<pre style=\"white-space:pre;overflow-x:auto;line-height:normal;font-family:Menlo,'DejaVu Sans Mono',consolas,'Courier New',monospace\"><span style=\"font-weight: bold\"> Non-trainable params: </span><span style=\"color: #00af00; text-decoration-color: #00af00\">0</span> (0.00 B)\n",
       "</pre>\n"
      ],
      "text/plain": [
       "\u001b[1m Non-trainable params: \u001b[0m\u001b[38;5;34m0\u001b[0m (0.00 B)\n"
      ]
     },
     "metadata": {},
     "output_type": "display_data"
    }
   ],
   "source": [
    "import kerastuner as kt\n",
    "tuner = kt.RandomSearch(Hyper_GRU_model,objective = 'val_accuracy',\n",
    "                       max_trials = 5,\n",
    "                       directory = '/kaggle/working/',\n",
    "                       project_name='GRU_hyperparameter')"
   ]
  },
  {
   "cell_type": "code",
   "execution_count": null,
   "id": "e3f0378e",
   "metadata": {
    "execution": {
     "iopub.execute_input": "2024-05-17T10:35:52.727482Z",
     "iopub.status.busy": "2024-05-17T10:35:52.727152Z",
     "iopub.status.idle": "2024-05-17T10:35:52.731693Z",
     "shell.execute_reply": "2024-05-17T10:35:52.730854Z"
    },
    "papermill": {
     "duration": 0.639291,
     "end_time": "2024-05-17T10:35:52.733591",
     "exception": false,
     "start_time": "2024-05-17T10:35:52.094300",
     "status": "completed"
    },
    "tags": []
   },
   "outputs": [],
   "source": [
    "import tensorflow\n",
    "early_stopping = tensorflow.keras.callbacks.EarlyStopping(\n",
    "    monitor='val_loss', \n",
    "    patience=3, \n",
    "    restore_best_weights=True\n",
    ")"
   ]
  },
  {
   "cell_type": "code",
   "execution_count": null,
   "id": "628dd897",
   "metadata": {
    "execution": {
     "iopub.execute_input": "2024-05-17T10:35:54.064659Z",
     "iopub.status.busy": "2024-05-17T10:35:54.063972Z",
     "iopub.status.idle": "2024-05-17T11:01:56.543405Z",
     "shell.execute_reply": "2024-05-17T11:01:56.542484Z"
    },
    "papermill": {
     "duration": 1563.124698,
     "end_time": "2024-05-17T11:01:56.545598",
     "exception": false,
     "start_time": "2024-05-17T10:35:53.420900",
     "status": "completed"
    },
    "tags": []
   },
   "outputs": [
    {
     "name": "stdout",
     "output_type": "stream",
     "text": [
      "Trial 5 Complete [00h 03m 03s]\n",
      "val_accuracy: 0.8634667992591858\n",
      "\n",
      "Best val_accuracy So Far: 0.8723404407501221\n",
      "Total elapsed time: 00h 26m 02s\n"
     ]
    }
   ],
   "source": [
    "X_train_reshaped = X_train.reshape(X_train.shape[0], X_train.shape[1], 1)\n",
    "X_test_reshaped = X_test.reshape(X_test.shape[0], X_test.shape[1], 1)\n",
    "tuner.search(X_train_reshaped, y_train, epochs=100, validation_data=(X_test_reshaped, y_test), callbacks=[early_stopping])"
   ]
  },
  {
   "cell_type": "code",
   "execution_count": null,
   "id": "8d22d8e5",
   "metadata": {
    "execution": {
     "iopub.execute_input": "2024-05-17T11:01:57.865239Z",
     "iopub.status.busy": "2024-05-17T11:01:57.864895Z",
     "iopub.status.idle": "2024-05-17T11:01:59.532918Z",
     "shell.execute_reply": "2024-05-17T11:01:59.532055Z"
    },
    "papermill": {
     "duration": 2.306679,
     "end_time": "2024-05-17T11:01:59.535220",
     "exception": false,
     "start_time": "2024-05-17T11:01:57.228541",
     "status": "completed"
    },
    "tags": []
   },
   "outputs": [
    {
     "name": "stdout",
     "output_type": "stream",
     "text": [
      "Model built with the following architecture:\n"
     ]
    },
    {
     "data": {
      "text/html": [
       "<pre style=\"white-space:pre;overflow-x:auto;line-height:normal;font-family:Menlo,'DejaVu Sans Mono',consolas,'Courier New',monospace\"><span style=\"font-weight: bold\">Model: \"sequential\"</span>\n",
       "</pre>\n"
      ],
      "text/plain": [
       "\u001b[1mModel: \"sequential\"\u001b[0m\n"
      ]
     },
     "metadata": {},
     "output_type": "display_data"
    },
    {
     "data": {
      "text/html": [
       "<pre style=\"white-space:pre;overflow-x:auto;line-height:normal;font-family:Menlo,'DejaVu Sans Mono',consolas,'Courier New',monospace\">┏━━━━━━━━━━━━━━━━━━━━━━━━━━━━━━━━━┳━━━━━━━━━━━━━━━━━━━━━━━━┳━━━━━━━━━━━━━━━┓\n",
       "┃<span style=\"font-weight: bold\"> Layer (type)                    </span>┃<span style=\"font-weight: bold\"> Output Shape           </span>┃<span style=\"font-weight: bold\">       Param # </span>┃\n",
       "┡━━━━━━━━━━━━━━━━━━━━━━━━━━━━━━━━━╇━━━━━━━━━━━━━━━━━━━━━━━━╇━━━━━━━━━━━━━━━┩\n",
       "│ embedding (<span style=\"color: #0087ff; text-decoration-color: #0087ff\">Embedding</span>)           │ (<span style=\"color: #00d7ff; text-decoration-color: #00d7ff\">None</span>, <span style=\"color: #00af00; text-decoration-color: #00af00\">100</span>, <span style=\"color: #00af00; text-decoration-color: #00af00\">100</span>)       │    <span style=\"color: #00af00; text-decoration-color: #00af00\">14,212,100</span> │\n",
       "├─────────────────────────────────┼────────────────────────┼───────────────┤\n",
       "│ gru (<span style=\"color: #0087ff; text-decoration-color: #0087ff\">GRU</span>)                       │ (<span style=\"color: #00d7ff; text-decoration-color: #00d7ff\">None</span>, <span style=\"color: #00af00; text-decoration-color: #00af00\">100</span>, <span style=\"color: #00af00; text-decoration-color: #00af00\">9</span>)         │         <span style=\"color: #00af00; text-decoration-color: #00af00\">2,997</span> │\n",
       "├─────────────────────────────────┼────────────────────────┼───────────────┤\n",
       "│ dropout (<span style=\"color: #0087ff; text-decoration-color: #0087ff\">Dropout</span>)               │ (<span style=\"color: #00d7ff; text-decoration-color: #00d7ff\">None</span>, <span style=\"color: #00af00; text-decoration-color: #00af00\">100</span>, <span style=\"color: #00af00; text-decoration-color: #00af00\">9</span>)         │             <span style=\"color: #00af00; text-decoration-color: #00af00\">0</span> │\n",
       "├─────────────────────────────────┼────────────────────────┼───────────────┤\n",
       "│ gru_1 (<span style=\"color: #0087ff; text-decoration-color: #0087ff\">GRU</span>)                     │ (<span style=\"color: #00d7ff; text-decoration-color: #00d7ff\">None</span>, <span style=\"color: #00af00; text-decoration-color: #00af00\">100</span>, <span style=\"color: #00af00; text-decoration-color: #00af00\">9</span>)         │           <span style=\"color: #00af00; text-decoration-color: #00af00\">540</span> │\n",
       "├─────────────────────────────────┼────────────────────────┼───────────────┤\n",
       "│ dropout_1 (<span style=\"color: #0087ff; text-decoration-color: #0087ff\">Dropout</span>)             │ (<span style=\"color: #00d7ff; text-decoration-color: #00d7ff\">None</span>, <span style=\"color: #00af00; text-decoration-color: #00af00\">100</span>, <span style=\"color: #00af00; text-decoration-color: #00af00\">9</span>)         │             <span style=\"color: #00af00; text-decoration-color: #00af00\">0</span> │\n",
       "├─────────────────────────────────┼────────────────────────┼───────────────┤\n",
       "│ gru_2 (<span style=\"color: #0087ff; text-decoration-color: #0087ff\">GRU</span>)                     │ (<span style=\"color: #00d7ff; text-decoration-color: #00d7ff\">None</span>, <span style=\"color: #00af00; text-decoration-color: #00af00\">100</span>, <span style=\"color: #00af00; text-decoration-color: #00af00\">9</span>)         │           <span style=\"color: #00af00; text-decoration-color: #00af00\">540</span> │\n",
       "├─────────────────────────────────┼────────────────────────┼───────────────┤\n",
       "│ dropout_2 (<span style=\"color: #0087ff; text-decoration-color: #0087ff\">Dropout</span>)             │ (<span style=\"color: #00d7ff; text-decoration-color: #00d7ff\">None</span>, <span style=\"color: #00af00; text-decoration-color: #00af00\">100</span>, <span style=\"color: #00af00; text-decoration-color: #00af00\">9</span>)         │             <span style=\"color: #00af00; text-decoration-color: #00af00\">0</span> │\n",
       "├─────────────────────────────────┼────────────────────────┼───────────────┤\n",
       "│ gru_3 (<span style=\"color: #0087ff; text-decoration-color: #0087ff\">GRU</span>)                     │ (<span style=\"color: #00d7ff; text-decoration-color: #00d7ff\">None</span>, <span style=\"color: #00af00; text-decoration-color: #00af00\">100</span>, <span style=\"color: #00af00; text-decoration-color: #00af00\">9</span>)         │           <span style=\"color: #00af00; text-decoration-color: #00af00\">540</span> │\n",
       "├─────────────────────────────────┼────────────────────────┼───────────────┤\n",
       "│ dropout_3 (<span style=\"color: #0087ff; text-decoration-color: #0087ff\">Dropout</span>)             │ (<span style=\"color: #00d7ff; text-decoration-color: #00d7ff\">None</span>, <span style=\"color: #00af00; text-decoration-color: #00af00\">100</span>, <span style=\"color: #00af00; text-decoration-color: #00af00\">9</span>)         │             <span style=\"color: #00af00; text-decoration-color: #00af00\">0</span> │\n",
       "├─────────────────────────────────┼────────────────────────┼───────────────┤\n",
       "│ gru_4 (<span style=\"color: #0087ff; text-decoration-color: #0087ff\">GRU</span>)                     │ (<span style=\"color: #00d7ff; text-decoration-color: #00d7ff\">None</span>, <span style=\"color: #00af00; text-decoration-color: #00af00\">100</span>, <span style=\"color: #00af00; text-decoration-color: #00af00\">9</span>)         │           <span style=\"color: #00af00; text-decoration-color: #00af00\">540</span> │\n",
       "├─────────────────────────────────┼────────────────────────┼───────────────┤\n",
       "│ dropout_4 (<span style=\"color: #0087ff; text-decoration-color: #0087ff\">Dropout</span>)             │ (<span style=\"color: #00d7ff; text-decoration-color: #00d7ff\">None</span>, <span style=\"color: #00af00; text-decoration-color: #00af00\">100</span>, <span style=\"color: #00af00; text-decoration-color: #00af00\">9</span>)         │             <span style=\"color: #00af00; text-decoration-color: #00af00\">0</span> │\n",
       "├─────────────────────────────────┼────────────────────────┼───────────────┤\n",
       "│ gru_5 (<span style=\"color: #0087ff; text-decoration-color: #0087ff\">GRU</span>)                     │ (<span style=\"color: #00d7ff; text-decoration-color: #00d7ff\">None</span>, <span style=\"color: #00af00; text-decoration-color: #00af00\">100</span>, <span style=\"color: #00af00; text-decoration-color: #00af00\">9</span>)         │           <span style=\"color: #00af00; text-decoration-color: #00af00\">540</span> │\n",
       "├─────────────────────────────────┼────────────────────────┼───────────────┤\n",
       "│ dropout_5 (<span style=\"color: #0087ff; text-decoration-color: #0087ff\">Dropout</span>)             │ (<span style=\"color: #00d7ff; text-decoration-color: #00d7ff\">None</span>, <span style=\"color: #00af00; text-decoration-color: #00af00\">100</span>, <span style=\"color: #00af00; text-decoration-color: #00af00\">9</span>)         │             <span style=\"color: #00af00; text-decoration-color: #00af00\">0</span> │\n",
       "├─────────────────────────────────┼────────────────────────┼───────────────┤\n",
       "│ gru_6 (<span style=\"color: #0087ff; text-decoration-color: #0087ff\">GRU</span>)                     │ (<span style=\"color: #00d7ff; text-decoration-color: #00d7ff\">None</span>, <span style=\"color: #00af00; text-decoration-color: #00af00\">9</span>)              │           <span style=\"color: #00af00; text-decoration-color: #00af00\">540</span> │\n",
       "├─────────────────────────────────┼────────────────────────┼───────────────┤\n",
       "│ dropout_6 (<span style=\"color: #0087ff; text-decoration-color: #0087ff\">Dropout</span>)             │ (<span style=\"color: #00d7ff; text-decoration-color: #00d7ff\">None</span>, <span style=\"color: #00af00; text-decoration-color: #00af00\">9</span>)              │             <span style=\"color: #00af00; text-decoration-color: #00af00\">0</span> │\n",
       "├─────────────────────────────────┼────────────────────────┼───────────────┤\n",
       "│ dense (<span style=\"color: #0087ff; text-decoration-color: #0087ff\">Dense</span>)                   │ (<span style=\"color: #00d7ff; text-decoration-color: #00d7ff\">None</span>, <span style=\"color: #00af00; text-decoration-color: #00af00\">1</span>)              │            <span style=\"color: #00af00; text-decoration-color: #00af00\">10</span> │\n",
       "└─────────────────────────────────┴────────────────────────┴───────────────┘\n",
       "</pre>\n"
      ],
      "text/plain": [
       "┏━━━━━━━━━━━━━━━━━━━━━━━━━━━━━━━━━┳━━━━━━━━━━━━━━━━━━━━━━━━┳━━━━━━━━━━━━━━━┓\n",
       "┃\u001b[1m \u001b[0m\u001b[1mLayer (type)                   \u001b[0m\u001b[1m \u001b[0m┃\u001b[1m \u001b[0m\u001b[1mOutput Shape          \u001b[0m\u001b[1m \u001b[0m┃\u001b[1m \u001b[0m\u001b[1m      Param #\u001b[0m\u001b[1m \u001b[0m┃\n",
       "┡━━━━━━━━━━━━━━━━━━━━━━━━━━━━━━━━━╇━━━━━━━━━━━━━━━━━━━━━━━━╇━━━━━━━━━━━━━━━┩\n",
       "│ embedding (\u001b[38;5;33mEmbedding\u001b[0m)           │ (\u001b[38;5;45mNone\u001b[0m, \u001b[38;5;34m100\u001b[0m, \u001b[38;5;34m100\u001b[0m)       │    \u001b[38;5;34m14,212,100\u001b[0m │\n",
       "├─────────────────────────────────┼────────────────────────┼───────────────┤\n",
       "│ gru (\u001b[38;5;33mGRU\u001b[0m)                       │ (\u001b[38;5;45mNone\u001b[0m, \u001b[38;5;34m100\u001b[0m, \u001b[38;5;34m9\u001b[0m)         │         \u001b[38;5;34m2,997\u001b[0m │\n",
       "├─────────────────────────────────┼────────────────────────┼───────────────┤\n",
       "│ dropout (\u001b[38;5;33mDropout\u001b[0m)               │ (\u001b[38;5;45mNone\u001b[0m, \u001b[38;5;34m100\u001b[0m, \u001b[38;5;34m9\u001b[0m)         │             \u001b[38;5;34m0\u001b[0m │\n",
       "├─────────────────────────────────┼────────────────────────┼───────────────┤\n",
       "│ gru_1 (\u001b[38;5;33mGRU\u001b[0m)                     │ (\u001b[38;5;45mNone\u001b[0m, \u001b[38;5;34m100\u001b[0m, \u001b[38;5;34m9\u001b[0m)         │           \u001b[38;5;34m540\u001b[0m │\n",
       "├─────────────────────────────────┼────────────────────────┼───────────────┤\n",
       "│ dropout_1 (\u001b[38;5;33mDropout\u001b[0m)             │ (\u001b[38;5;45mNone\u001b[0m, \u001b[38;5;34m100\u001b[0m, \u001b[38;5;34m9\u001b[0m)         │             \u001b[38;5;34m0\u001b[0m │\n",
       "├─────────────────────────────────┼────────────────────────┼───────────────┤\n",
       "│ gru_2 (\u001b[38;5;33mGRU\u001b[0m)                     │ (\u001b[38;5;45mNone\u001b[0m, \u001b[38;5;34m100\u001b[0m, \u001b[38;5;34m9\u001b[0m)         │           \u001b[38;5;34m540\u001b[0m │\n",
       "├─────────────────────────────────┼────────────────────────┼───────────────┤\n",
       "│ dropout_2 (\u001b[38;5;33mDropout\u001b[0m)             │ (\u001b[38;5;45mNone\u001b[0m, \u001b[38;5;34m100\u001b[0m, \u001b[38;5;34m9\u001b[0m)         │             \u001b[38;5;34m0\u001b[0m │\n",
       "├─────────────────────────────────┼────────────────────────┼───────────────┤\n",
       "│ gru_3 (\u001b[38;5;33mGRU\u001b[0m)                     │ (\u001b[38;5;45mNone\u001b[0m, \u001b[38;5;34m100\u001b[0m, \u001b[38;5;34m9\u001b[0m)         │           \u001b[38;5;34m540\u001b[0m │\n",
       "├─────────────────────────────────┼────────────────────────┼───────────────┤\n",
       "│ dropout_3 (\u001b[38;5;33mDropout\u001b[0m)             │ (\u001b[38;5;45mNone\u001b[0m, \u001b[38;5;34m100\u001b[0m, \u001b[38;5;34m9\u001b[0m)         │             \u001b[38;5;34m0\u001b[0m │\n",
       "├─────────────────────────────────┼────────────────────────┼───────────────┤\n",
       "│ gru_4 (\u001b[38;5;33mGRU\u001b[0m)                     │ (\u001b[38;5;45mNone\u001b[0m, \u001b[38;5;34m100\u001b[0m, \u001b[38;5;34m9\u001b[0m)         │           \u001b[38;5;34m540\u001b[0m │\n",
       "├─────────────────────────────────┼────────────────────────┼───────────────┤\n",
       "│ dropout_4 (\u001b[38;5;33mDropout\u001b[0m)             │ (\u001b[38;5;45mNone\u001b[0m, \u001b[38;5;34m100\u001b[0m, \u001b[38;5;34m9\u001b[0m)         │             \u001b[38;5;34m0\u001b[0m │\n",
       "├─────────────────────────────────┼────────────────────────┼───────────────┤\n",
       "│ gru_5 (\u001b[38;5;33mGRU\u001b[0m)                     │ (\u001b[38;5;45mNone\u001b[0m, \u001b[38;5;34m100\u001b[0m, \u001b[38;5;34m9\u001b[0m)         │           \u001b[38;5;34m540\u001b[0m │\n",
       "├─────────────────────────────────┼────────────────────────┼───────────────┤\n",
       "│ dropout_5 (\u001b[38;5;33mDropout\u001b[0m)             │ (\u001b[38;5;45mNone\u001b[0m, \u001b[38;5;34m100\u001b[0m, \u001b[38;5;34m9\u001b[0m)         │             \u001b[38;5;34m0\u001b[0m │\n",
       "├─────────────────────────────────┼────────────────────────┼───────────────┤\n",
       "│ gru_6 (\u001b[38;5;33mGRU\u001b[0m)                     │ (\u001b[38;5;45mNone\u001b[0m, \u001b[38;5;34m9\u001b[0m)              │           \u001b[38;5;34m540\u001b[0m │\n",
       "├─────────────────────────────────┼────────────────────────┼───────────────┤\n",
       "│ dropout_6 (\u001b[38;5;33mDropout\u001b[0m)             │ (\u001b[38;5;45mNone\u001b[0m, \u001b[38;5;34m9\u001b[0m)              │             \u001b[38;5;34m0\u001b[0m │\n",
       "├─────────────────────────────────┼────────────────────────┼───────────────┤\n",
       "│ dense (\u001b[38;5;33mDense\u001b[0m)                   │ (\u001b[38;5;45mNone\u001b[0m, \u001b[38;5;34m1\u001b[0m)              │            \u001b[38;5;34m10\u001b[0m │\n",
       "└─────────────────────────────────┴────────────────────────┴───────────────┘\n"
      ]
     },
     "metadata": {},
     "output_type": "display_data"
    },
    {
     "data": {
      "text/html": [
       "<pre style=\"white-space:pre;overflow-x:auto;line-height:normal;font-family:Menlo,'DejaVu Sans Mono',consolas,'Courier New',monospace\"><span style=\"font-weight: bold\"> Total params: </span><span style=\"color: #00af00; text-decoration-color: #00af00\">14,218,347</span> (54.24 MB)\n",
       "</pre>\n"
      ],
      "text/plain": [
       "\u001b[1m Total params: \u001b[0m\u001b[38;5;34m14,218,347\u001b[0m (54.24 MB)\n"
      ]
     },
     "metadata": {},
     "output_type": "display_data"
    },
    {
     "data": {
      "text/html": [
       "<pre style=\"white-space:pre;overflow-x:auto;line-height:normal;font-family:Menlo,'DejaVu Sans Mono',consolas,'Courier New',monospace\"><span style=\"font-weight: bold\"> Trainable params: </span><span style=\"color: #00af00; text-decoration-color: #00af00\">14,218,347</span> (54.24 MB)\n",
       "</pre>\n"
      ],
      "text/plain": [
       "\u001b[1m Trainable params: \u001b[0m\u001b[38;5;34m14,218,347\u001b[0m (54.24 MB)\n"
      ]
     },
     "metadata": {},
     "output_type": "display_data"
    },
    {
     "data": {
      "text/html": [
       "<pre style=\"white-space:pre;overflow-x:auto;line-height:normal;font-family:Menlo,'DejaVu Sans Mono',consolas,'Courier New',monospace\"><span style=\"font-weight: bold\"> Non-trainable params: </span><span style=\"color: #00af00; text-decoration-color: #00af00\">0</span> (0.00 B)\n",
       "</pre>\n"
      ],
      "text/plain": [
       "\u001b[1m Non-trainable params: \u001b[0m\u001b[38;5;34m0\u001b[0m (0.00 B)\n"
      ]
     },
     "metadata": {},
     "output_type": "display_data"
    }
   ],
   "source": [
    "best_model = tuner.get_best_models(num_models=1)[0]"
   ]
  },
  {
   "cell_type": "markdown",
   "id": "7edc117f",
   "metadata": {
    "execution": {
     "iopub.execute_input": "2024-05-17T08:03:34.079482Z",
     "iopub.status.busy": "2024-05-17T08:03:34.079073Z",
     "iopub.status.idle": "2024-05-17T08:03:34.086208Z",
     "shell.execute_reply": "2024-05-17T08:03:34.085099Z",
     "shell.execute_reply.started": "2024-05-17T08:03:34.079453Z"
    },
    "papermill": {
     "duration": 0.700048,
     "end_time": "2024-05-17T11:02:00.872588",
     "exception": false,
     "start_time": "2024-05-17T11:02:00.172540",
     "status": "completed"
    },
    "tags": []
   },
   "source": [
    "## <div style=\"text-align: left; background-color:aliceblue ; font-family: Trebuchet MS; color: black; padding: 15px; line-height:1;border-radius:1px; margin-bottom: 0em; text-align: center; font-size: 25px;border-style: solid;border-color: dark green;\"> Model Evaluation and Comparision  </div>"
   ]
  },
  {
   "cell_type": "markdown",
   "id": "1f5ec375",
   "metadata": {
    "papermill": {
     "duration": 0.628946,
     "end_time": "2024-05-17T11:02:02.137559",
     "exception": false,
     "start_time": "2024-05-17T11:02:01.508613",
     "status": "completed"
    },
    "tags": []
   },
   "source": [
    "## Bideirectional RNN (Recurrent Neural Network)"
   ]
  },
  {
   "cell_type": "code",
   "execution_count": null,
   "id": "f85d329d",
   "metadata": {
    "execution": {
     "iopub.execute_input": "2024-05-17T11:02:03.508287Z",
     "iopub.status.busy": "2024-05-17T11:02:03.507911Z",
     "iopub.status.idle": "2024-05-17T11:02:09.571897Z",
     "shell.execute_reply": "2024-05-17T11:02:09.571084Z"
    },
    "papermill": {
     "duration": 6.734696,
     "end_time": "2024-05-17T11:02:09.573995",
     "exception": false,
     "start_time": "2024-05-17T11:02:02.839299",
     "status": "completed"
    },
    "tags": []
   },
   "outputs": [
    {
     "name": "stdout",
     "output_type": "stream",
     "text": [
      "\u001b[1m310/310\u001b[0m \u001b[32m━━━━━━━━━━━━━━━━━━━━\u001b[0m\u001b[37m\u001b[0m \u001b[1m6s\u001b[0m 16ms/step\n"
     ]
    }
   ],
   "source": [
    "RNN_pred = RNN_model.predict(X_test)"
   ]
  },
  {
   "cell_type": "code",
   "execution_count": null,
   "id": "aa8480e8",
   "metadata": {
    "execution": {
     "iopub.execute_input": "2024-05-17T11:02:10.928524Z",
     "iopub.status.busy": "2024-05-17T11:02:10.927632Z",
     "iopub.status.idle": "2024-05-17T11:02:10.932539Z",
     "shell.execute_reply": "2024-05-17T11:02:10.931695Z"
    },
    "papermill": {
     "duration": 0.652084,
     "end_time": "2024-05-17T11:02:10.934392",
     "exception": false,
     "start_time": "2024-05-17T11:02:10.282308",
     "status": "completed"
    },
    "tags": []
   },
   "outputs": [],
   "source": [
    "RNN_pred = (RNN_pred > 0.5).astype('int')"
   ]
  },
  {
   "cell_type": "code",
   "execution_count": null,
   "id": "2f5c9b5d",
   "metadata": {
    "execution": {
     "iopub.execute_input": "2024-05-17T11:02:12.268816Z",
     "iopub.status.busy": "2024-05-17T11:02:12.268428Z",
     "iopub.status.idle": "2024-05-17T11:02:12.275535Z",
     "shell.execute_reply": "2024-05-17T11:02:12.274454Z"
    },
    "papermill": {
     "duration": 0.646002,
     "end_time": "2024-05-17T11:02:12.277443",
     "exception": false,
     "start_time": "2024-05-17T11:02:11.631441",
     "status": "completed"
    },
    "tags": []
   },
   "outputs": [
    {
     "name": "stdout",
     "output_type": "stream",
     "text": [
      "Bidirection_RNN_Accuracy Score is : 62.07522436220631 %\n"
     ]
    }
   ],
   "source": [
    "Bidirection_RNN_Accuracy = accuracy_score(RNN_pred,y_test)*100\n",
    "print(\"Bidirection_RNN_Accuracy Score is :\",Bidirection_RNN_Accuracy,'%')"
   ]
  },
  {
   "cell_type": "code",
   "execution_count": null,
   "id": "56a930bb",
   "metadata": {
    "execution": {
     "iopub.execute_input": "2024-05-17T11:02:13.588579Z",
     "iopub.status.busy": "2024-05-17T11:02:13.587937Z",
     "iopub.status.idle": "2024-05-17T11:02:13.612672Z",
     "shell.execute_reply": "2024-05-17T11:02:13.611822Z"
    },
    "papermill": {
     "duration": 0.696182,
     "end_time": "2024-05-17T11:02:13.614490",
     "exception": false,
     "start_time": "2024-05-17T11:02:12.918308",
     "status": "completed"
    },
    "tags": []
   },
   "outputs": [
    {
     "data": {
      "text/html": [
       "<div>\n",
       "<style scoped>\n",
       "    .dataframe tbody tr th:only-of-type {\n",
       "        vertical-align: middle;\n",
       "    }\n",
       "\n",
       "    .dataframe tbody tr th {\n",
       "        vertical-align: top;\n",
       "    }\n",
       "\n",
       "    .dataframe thead th {\n",
       "        text-align: right;\n",
       "    }\n",
       "</style>\n",
       "<table border=\"1\" class=\"dataframe\">\n",
       "  <thead>\n",
       "    <tr style=\"text-align: right;\">\n",
       "      <th></th>\n",
       "      <th>precision</th>\n",
       "      <th>recall</th>\n",
       "      <th>f1-score</th>\n",
       "      <th>support</th>\n",
       "    </tr>\n",
       "  </thead>\n",
       "  <tbody>\n",
       "    <tr>\n",
       "      <th>0</th>\n",
       "      <td>0.732456</td>\n",
       "      <td>0.398172</td>\n",
       "      <td>0.515897</td>\n",
       "      <td>5033.000000</td>\n",
       "    </tr>\n",
       "    <tr>\n",
       "      <th>1</th>\n",
       "      <td>0.578192</td>\n",
       "      <td>0.850123</td>\n",
       "      <td>0.688272</td>\n",
       "      <td>4884.000000</td>\n",
       "    </tr>\n",
       "    <tr>\n",
       "      <th>accuracy</th>\n",
       "      <td>0.620752</td>\n",
       "      <td>0.620752</td>\n",
       "      <td>0.620752</td>\n",
       "      <td>0.620752</td>\n",
       "    </tr>\n",
       "    <tr>\n",
       "      <th>macro avg</th>\n",
       "      <td>0.655324</td>\n",
       "      <td>0.624147</td>\n",
       "      <td>0.602084</td>\n",
       "      <td>9917.000000</td>\n",
       "    </tr>\n",
       "    <tr>\n",
       "      <th>weighted avg</th>\n",
       "      <td>0.656483</td>\n",
       "      <td>0.620752</td>\n",
       "      <td>0.600789</td>\n",
       "      <td>9917.000000</td>\n",
       "    </tr>\n",
       "  </tbody>\n",
       "</table>\n",
       "</div>"
      ],
      "text/plain": [
       "              precision    recall  f1-score      support\n",
       "0              0.732456  0.398172  0.515897  5033.000000\n",
       "1              0.578192  0.850123  0.688272  4884.000000\n",
       "accuracy       0.620752  0.620752  0.620752     0.620752\n",
       "macro avg      0.655324  0.624147  0.602084  9917.000000\n",
       "weighted avg   0.656483  0.620752  0.600789  9917.000000"
      ]
     },
     "execution_count": 72,
     "metadata": {},
     "output_type": "execute_result"
    }
   ],
   "source": [
    "from sklearn.metrics import classification_report\n",
    "report_dict = classification_report(y_test, RNN_pred, output_dict=True)\n",
    "report_df = pd.DataFrame(report_dict).transpose()\n",
    "report_df"
   ]
  },
  {
   "cell_type": "code",
   "execution_count": null,
   "id": "b4e1d014",
   "metadata": {
    "execution": {
     "iopub.execute_input": "2024-05-17T11:02:14.960927Z",
     "iopub.status.busy": "2024-05-17T11:02:14.960168Z",
     "iopub.status.idle": "2024-05-17T11:02:14.975294Z",
     "shell.execute_reply": "2024-05-17T11:02:14.974410Z"
    },
    "papermill": {
     "duration": 0.662674,
     "end_time": "2024-05-17T11:02:14.977333",
     "exception": false,
     "start_time": "2024-05-17T11:02:14.314659",
     "status": "completed"
    },
    "tags": []
   },
   "outputs": [
    {
     "data": {
      "text/plain": [
       "[['positive'],\n",
       " ['positive'],\n",
       " ['positive'],\n",
       " ['positive'],\n",
       " ['negative'],\n",
       " ['negative'],\n",
       " ['positive'],\n",
       " ['positive'],\n",
       " ['negative'],\n",
       " ['positive']]"
      ]
     },
     "execution_count": 73,
     "metadata": {},
     "output_type": "execute_result"
    }
   ],
   "source": [
    "sentiment_labels = {0: 'negative', 1: 'positive'}\n",
    "\n",
    "RNN_sentiments = [[sentiment_labels[val[0]]] for val in RNN_pred]\n",
    "RNN_sentiments[0:10]"
   ]
  },
  {
   "cell_type": "markdown",
   "id": "447a57c8",
   "metadata": {
    "execution": {
     "iopub.execute_input": "2024-05-17T08:24:52.655744Z",
     "iopub.status.busy": "2024-05-17T08:24:52.654829Z",
     "iopub.status.idle": "2024-05-17T08:24:52.659704Z",
     "shell.execute_reply": "2024-05-17T08:24:52.658745Z",
     "shell.execute_reply.started": "2024-05-17T08:24:52.655700Z"
    },
    "papermill": {
     "duration": 0.700145,
     "end_time": "2024-05-17T11:02:16.324870",
     "exception": false,
     "start_time": "2024-05-17T11:02:15.624725",
     "status": "completed"
    },
    "tags": []
   },
   "source": [
    "## LSTM (Long short Term Memory)"
   ]
  },
  {
   "cell_type": "code",
   "execution_count": null,
   "id": "9ecbb9b0",
   "metadata": {
    "execution": {
     "iopub.execute_input": "2024-05-17T11:02:17.606966Z",
     "iopub.status.busy": "2024-05-17T11:02:17.606573Z",
     "iopub.status.idle": "2024-05-17T11:02:18.781456Z",
     "shell.execute_reply": "2024-05-17T11:02:18.780667Z"
    },
    "papermill": {
     "duration": 1.815435,
     "end_time": "2024-05-17T11:02:18.783636",
     "exception": false,
     "start_time": "2024-05-17T11:02:16.968201",
     "status": "completed"
    },
    "tags": []
   },
   "outputs": [
    {
     "name": "stdout",
     "output_type": "stream",
     "text": [
      "\u001b[1m310/310\u001b[0m \u001b[32m━━━━━━━━━━━━━━━━━━━━\u001b[0m\u001b[37m\u001b[0m \u001b[1m1s\u001b[0m 3ms/step\n"
     ]
    }
   ],
   "source": [
    "lstm_pred = lstm_model.predict(X_test)"
   ]
  },
  {
   "cell_type": "code",
   "execution_count": null,
   "id": "eac7de68",
   "metadata": {
    "execution": {
     "iopub.execute_input": "2024-05-17T11:02:20.124897Z",
     "iopub.status.busy": "2024-05-17T11:02:20.124521Z",
     "iopub.status.idle": "2024-05-17T11:02:20.129880Z",
     "shell.execute_reply": "2024-05-17T11:02:20.128839Z"
    },
    "papermill": {
     "duration": 0.650219,
     "end_time": "2024-05-17T11:02:20.132544",
     "exception": false,
     "start_time": "2024-05-17T11:02:19.482325",
     "status": "completed"
    },
    "tags": []
   },
   "outputs": [],
   "source": [
    "lstm_pred = (lstm_pred > 0.5).astype('int')"
   ]
  },
  {
   "cell_type": "code",
   "execution_count": null,
   "id": "ea8fdfaa",
   "metadata": {
    "execution": {
     "iopub.execute_input": "2024-05-17T11:02:21.513884Z",
     "iopub.status.busy": "2024-05-17T11:02:21.513512Z",
     "iopub.status.idle": "2024-05-17T11:02:21.520284Z",
     "shell.execute_reply": "2024-05-17T11:02:21.519235Z"
    },
    "papermill": {
     "duration": 0.713106,
     "end_time": "2024-05-17T11:02:21.522223",
     "exception": false,
     "start_time": "2024-05-17T11:02:20.809117",
     "status": "completed"
    },
    "tags": []
   },
   "outputs": [
    {
     "name": "stdout",
     "output_type": "stream",
     "text": [
      "LSTM_Accuracy Score is : 81.19390944842189 %\n"
     ]
    }
   ],
   "source": [
    "LSTM_Accuracy = accuracy_score(lstm_pred,y_test)*100\n",
    "print(\"LSTM_Accuracy Score is :\",LSTM_Accuracy,'%')"
   ]
  },
  {
   "cell_type": "code",
   "execution_count": null,
   "id": "a5891168",
   "metadata": {
    "execution": {
     "iopub.execute_input": "2024-05-17T11:02:22.809477Z",
     "iopub.status.busy": "2024-05-17T11:02:22.808647Z",
     "iopub.status.idle": "2024-05-17T11:02:22.833786Z",
     "shell.execute_reply": "2024-05-17T11:02:22.832927Z"
    },
    "papermill": {
     "duration": 0.673358,
     "end_time": "2024-05-17T11:02:22.835758",
     "exception": false,
     "start_time": "2024-05-17T11:02:22.162400",
     "status": "completed"
    },
    "tags": []
   },
   "outputs": [
    {
     "data": {
      "text/html": [
       "<div>\n",
       "<style scoped>\n",
       "    .dataframe tbody tr th:only-of-type {\n",
       "        vertical-align: middle;\n",
       "    }\n",
       "\n",
       "    .dataframe tbody tr th {\n",
       "        vertical-align: top;\n",
       "    }\n",
       "\n",
       "    .dataframe thead th {\n",
       "        text-align: right;\n",
       "    }\n",
       "</style>\n",
       "<table border=\"1\" class=\"dataframe\">\n",
       "  <thead>\n",
       "    <tr style=\"text-align: right;\">\n",
       "      <th></th>\n",
       "      <th>precision</th>\n",
       "      <th>recall</th>\n",
       "      <th>f1-score</th>\n",
       "      <th>support</th>\n",
       "    </tr>\n",
       "  </thead>\n",
       "  <tbody>\n",
       "    <tr>\n",
       "      <th>0</th>\n",
       "      <td>0.954128</td>\n",
       "      <td>0.661236</td>\n",
       "      <td>0.781129</td>\n",
       "      <td>5033.000000</td>\n",
       "    </tr>\n",
       "    <tr>\n",
       "      <th>1</th>\n",
       "      <td>0.734795</td>\n",
       "      <td>0.967240</td>\n",
       "      <td>0.835145</td>\n",
       "      <td>4884.000000</td>\n",
       "    </tr>\n",
       "    <tr>\n",
       "      <th>accuracy</th>\n",
       "      <td>0.811939</td>\n",
       "      <td>0.811939</td>\n",
       "      <td>0.811939</td>\n",
       "      <td>0.811939</td>\n",
       "    </tr>\n",
       "    <tr>\n",
       "      <th>macro avg</th>\n",
       "      <td>0.844462</td>\n",
       "      <td>0.814238</td>\n",
       "      <td>0.808137</td>\n",
       "      <td>9917.000000</td>\n",
       "    </tr>\n",
       "    <tr>\n",
       "      <th>weighted avg</th>\n",
       "      <td>0.846110</td>\n",
       "      <td>0.811939</td>\n",
       "      <td>0.807731</td>\n",
       "      <td>9917.000000</td>\n",
       "    </tr>\n",
       "  </tbody>\n",
       "</table>\n",
       "</div>"
      ],
      "text/plain": [
       "              precision    recall  f1-score      support\n",
       "0              0.954128  0.661236  0.781129  5033.000000\n",
       "1              0.734795  0.967240  0.835145  4884.000000\n",
       "accuracy       0.811939  0.811939  0.811939     0.811939\n",
       "macro avg      0.844462  0.814238  0.808137  9917.000000\n",
       "weighted avg   0.846110  0.811939  0.807731  9917.000000"
      ]
     },
     "execution_count": 77,
     "metadata": {},
     "output_type": "execute_result"
    }
   ],
   "source": [
    "from sklearn.metrics import classification_report\n",
    "report_dict = classification_report(y_test, lstm_pred, output_dict=True)\n",
    "report_df = pd.DataFrame(report_dict).transpose()\n",
    "report_df"
   ]
  },
  {
   "cell_type": "code",
   "execution_count": null,
   "id": "79414a87",
   "metadata": {
    "execution": {
     "iopub.execute_input": "2024-05-17T11:02:24.121655Z",
     "iopub.status.busy": "2024-05-17T11:02:24.120748Z",
     "iopub.status.idle": "2024-05-17T11:02:24.135084Z",
     "shell.execute_reply": "2024-05-17T11:02:24.134276Z"
    },
    "papermill": {
     "duration": 0.657361,
     "end_time": "2024-05-17T11:02:24.136964",
     "exception": false,
     "start_time": "2024-05-17T11:02:23.479603",
     "status": "completed"
    },
    "tags": []
   },
   "outputs": [
    {
     "data": {
      "text/plain": [
       "[['positive'],\n",
       " ['positive'],\n",
       " ['positive'],\n",
       " ['positive'],\n",
       " ['positive'],\n",
       " ['negative'],\n",
       " ['positive'],\n",
       " ['positive'],\n",
       " ['negative'],\n",
       " ['positive']]"
      ]
     },
     "execution_count": 78,
     "metadata": {},
     "output_type": "execute_result"
    }
   ],
   "source": [
    "sentiment_labels = {0: 'negative', 1: 'positive'}\n",
    "\n",
    "lstm_sentiments = [[sentiment_labels[val[0]]] for val in lstm_pred]\n",
    "lstm_sentiments[0:10]"
   ]
  },
  {
   "cell_type": "markdown",
   "id": "08d7581f",
   "metadata": {
    "execution": {
     "iopub.execute_input": "2024-05-17T08:44:10.045987Z",
     "iopub.status.busy": "2024-05-17T08:44:10.045556Z",
     "iopub.status.idle": "2024-05-17T08:44:10.050334Z",
     "shell.execute_reply": "2024-05-17T08:44:10.049217Z",
     "shell.execute_reply.started": "2024-05-17T08:44:10.045956Z"
    },
    "papermill": {
     "duration": 0.642777,
     "end_time": "2024-05-17T11:02:25.474527",
     "exception": false,
     "start_time": "2024-05-17T11:02:24.831750",
     "status": "completed"
    },
    "tags": []
   },
   "source": [
    "##  GRU (Grated Recurrent Unit)"
   ]
  },
  {
   "cell_type": "code",
   "execution_count": null,
   "id": "b458d4c3",
   "metadata": {
    "execution": {
     "iopub.execute_input": "2024-05-17T11:02:26.817518Z",
     "iopub.status.busy": "2024-05-17T11:02:26.817162Z",
     "iopub.status.idle": "2024-05-17T11:02:27.931483Z",
     "shell.execute_reply": "2024-05-17T11:02:27.930684Z"
    },
    "papermill": {
     "duration": 1.813876,
     "end_time": "2024-05-17T11:02:27.933456",
     "exception": false,
     "start_time": "2024-05-17T11:02:26.119580",
     "status": "completed"
    },
    "tags": []
   },
   "outputs": [
    {
     "name": "stdout",
     "output_type": "stream",
     "text": [
      "\u001b[1m310/310\u001b[0m \u001b[32m━━━━━━━━━━━━━━━━━━━━\u001b[0m\u001b[37m\u001b[0m \u001b[1m1s\u001b[0m 3ms/step\n"
     ]
    }
   ],
   "source": [
    "GRU_pred = GRU_model.predict(X_test)"
   ]
  },
  {
   "cell_type": "code",
   "execution_count": null,
   "id": "1c6de3e1",
   "metadata": {
    "execution": {
     "iopub.execute_input": "2024-05-17T11:02:29.226448Z",
     "iopub.status.busy": "2024-05-17T11:02:29.225423Z",
     "iopub.status.idle": "2024-05-17T11:02:29.230425Z",
     "shell.execute_reply": "2024-05-17T11:02:29.229570Z"
    },
    "papermill": {
     "duration": 0.651519,
     "end_time": "2024-05-17T11:02:29.232452",
     "exception": false,
     "start_time": "2024-05-17T11:02:28.580933",
     "status": "completed"
    },
    "tags": []
   },
   "outputs": [],
   "source": [
    "GRU_pred = (GRU_pred > 0.5).astype('int')"
   ]
  },
  {
   "cell_type": "code",
   "execution_count": null,
   "id": "cf80b9fb",
   "metadata": {
    "execution": {
     "iopub.execute_input": "2024-05-17T11:02:30.606304Z",
     "iopub.status.busy": "2024-05-17T11:02:30.605613Z",
     "iopub.status.idle": "2024-05-17T11:02:30.612122Z",
     "shell.execute_reply": "2024-05-17T11:02:30.611288Z"
    },
    "papermill": {
     "duration": 0.733057,
     "end_time": "2024-05-17T11:02:30.613894",
     "exception": false,
     "start_time": "2024-05-17T11:02:29.880837",
     "status": "completed"
    },
    "tags": []
   },
   "outputs": [
    {
     "name": "stdout",
     "output_type": "stream",
     "text": [
      "GRU_Accuracy Score is : 87.22395885852576 %\n"
     ]
    }
   ],
   "source": [
    "GRU_Accuracy = accuracy_score(GRU_pred,y_test)*100\n",
    "print(\"GRU_Accuracy Score is :\",GRU_Accuracy,'%')"
   ]
  },
  {
   "cell_type": "code",
   "execution_count": null,
   "id": "67d813b9",
   "metadata": {
    "execution": {
     "iopub.execute_input": "2024-05-17T11:02:31.915797Z",
     "iopub.status.busy": "2024-05-17T11:02:31.915420Z",
     "iopub.status.idle": "2024-05-17T11:02:31.949994Z",
     "shell.execute_reply": "2024-05-17T11:02:31.949074Z"
    },
    "papermill": {
     "duration": 0.686155,
     "end_time": "2024-05-17T11:02:31.952120",
     "exception": false,
     "start_time": "2024-05-17T11:02:31.265965",
     "status": "completed"
    },
    "tags": []
   },
   "outputs": [
    {
     "data": {
      "text/html": [
       "<div>\n",
       "<style scoped>\n",
       "    .dataframe tbody tr th:only-of-type {\n",
       "        vertical-align: middle;\n",
       "    }\n",
       "\n",
       "    .dataframe tbody tr th {\n",
       "        vertical-align: top;\n",
       "    }\n",
       "\n",
       "    .dataframe thead th {\n",
       "        text-align: right;\n",
       "    }\n",
       "</style>\n",
       "<table border=\"1\" class=\"dataframe\">\n",
       "  <thead>\n",
       "    <tr style=\"text-align: right;\">\n",
       "      <th></th>\n",
       "      <th>precision</th>\n",
       "      <th>recall</th>\n",
       "      <th>f1-score</th>\n",
       "      <th>support</th>\n",
       "    </tr>\n",
       "  </thead>\n",
       "  <tbody>\n",
       "    <tr>\n",
       "      <th>0</th>\n",
       "      <td>0.894593</td>\n",
       "      <td>0.848202</td>\n",
       "      <td>0.870780</td>\n",
       "      <td>5033.00000</td>\n",
       "    </tr>\n",
       "    <tr>\n",
       "      <th>1</th>\n",
       "      <td>0.851506</td>\n",
       "      <td>0.897011</td>\n",
       "      <td>0.873666</td>\n",
       "      <td>4884.00000</td>\n",
       "    </tr>\n",
       "    <tr>\n",
       "      <th>accuracy</th>\n",
       "      <td>0.872240</td>\n",
       "      <td>0.872240</td>\n",
       "      <td>0.872240</td>\n",
       "      <td>0.87224</td>\n",
       "    </tr>\n",
       "    <tr>\n",
       "      <th>macro avg</th>\n",
       "      <td>0.873050</td>\n",
       "      <td>0.872606</td>\n",
       "      <td>0.872223</td>\n",
       "      <td>9917.00000</td>\n",
       "    </tr>\n",
       "    <tr>\n",
       "      <th>weighted avg</th>\n",
       "      <td>0.873374</td>\n",
       "      <td>0.872240</td>\n",
       "      <td>0.872202</td>\n",
       "      <td>9917.00000</td>\n",
       "    </tr>\n",
       "  </tbody>\n",
       "</table>\n",
       "</div>"
      ],
      "text/plain": [
       "              precision    recall  f1-score     support\n",
       "0              0.894593  0.848202  0.870780  5033.00000\n",
       "1              0.851506  0.897011  0.873666  4884.00000\n",
       "accuracy       0.872240  0.872240  0.872240     0.87224\n",
       "macro avg      0.873050  0.872606  0.872223  9917.00000\n",
       "weighted avg   0.873374  0.872240  0.872202  9917.00000"
      ]
     },
     "execution_count": 82,
     "metadata": {},
     "output_type": "execute_result"
    }
   ],
   "source": [
    "from sklearn.metrics import classification_report\n",
    "report_dict = classification_report(y_test, GRU_pred, output_dict=True)\n",
    "report_df = pd.DataFrame(report_dict).transpose()\n",
    "report_df"
   ]
  },
  {
   "cell_type": "code",
   "execution_count": null,
   "id": "2adec69f",
   "metadata": {
    "execution": {
     "iopub.execute_input": "2024-05-17T11:02:33.294310Z",
     "iopub.status.busy": "2024-05-17T11:02:33.293941Z",
     "iopub.status.idle": "2024-05-17T11:02:33.308362Z",
     "shell.execute_reply": "2024-05-17T11:02:33.307519Z"
    },
    "papermill": {
     "duration": 0.66372,
     "end_time": "2024-05-17T11:02:33.310186",
     "exception": false,
     "start_time": "2024-05-17T11:02:32.646466",
     "status": "completed"
    },
    "tags": []
   },
   "outputs": [
    {
     "data": {
      "text/plain": [
       "[['positive'],\n",
       " ['positive'],\n",
       " ['positive'],\n",
       " ['positive'],\n",
       " ['positive'],\n",
       " ['negative'],\n",
       " ['positive'],\n",
       " ['positive'],\n",
       " ['negative'],\n",
       " ['negative']]"
      ]
     },
     "execution_count": 83,
     "metadata": {},
     "output_type": "execute_result"
    }
   ],
   "source": [
    "GRU_sentiments = [[sentiment_labels[val[0]]] for val in GRU_pred]\n",
    "GRU_sentiments[0:10]"
   ]
  },
  {
   "cell_type": "markdown",
   "id": "365c0cc9",
   "metadata": {
    "papermill": {
     "duration": 0.750717,
     "end_time": "2024-05-17T11:02:34.706988",
     "exception": false,
     "start_time": "2024-05-17T11:02:33.956271",
     "status": "completed"
    },
    "tags": []
   },
   "source": [
    "## Hypertuned GRU (Grated Recurrent Unit)"
   ]
  },
  {
   "cell_type": "code",
   "execution_count": null,
   "id": "35c470c6",
   "metadata": {
    "execution": {
     "iopub.execute_input": "2024-05-17T11:02:36.007579Z",
     "iopub.status.busy": "2024-05-17T11:02:36.006963Z",
     "iopub.status.idle": "2024-05-17T11:02:39.809709Z",
     "shell.execute_reply": "2024-05-17T11:02:39.808791Z"
    },
    "papermill": {
     "duration": 4.454082,
     "end_time": "2024-05-17T11:02:39.811918",
     "exception": false,
     "start_time": "2024-05-17T11:02:35.357836",
     "status": "completed"
    },
    "tags": []
   },
   "outputs": [
    {
     "name": "stdout",
     "output_type": "stream",
     "text": [
      "\u001b[1m310/310\u001b[0m \u001b[32m━━━━━━━━━━━━━━━━━━━━\u001b[0m\u001b[37m\u001b[0m \u001b[1m4s\u001b[0m 10ms/step\n"
     ]
    }
   ],
   "source": [
    "Hypertuned_GRU_pred = best_model.predict(X_test)"
   ]
  },
  {
   "cell_type": "code",
   "execution_count": null,
   "id": "7a8e787f",
   "metadata": {
    "execution": {
     "iopub.execute_input": "2024-05-17T11:02:41.275818Z",
     "iopub.status.busy": "2024-05-17T11:02:41.274880Z",
     "iopub.status.idle": "2024-05-17T11:02:41.280076Z",
     "shell.execute_reply": "2024-05-17T11:02:41.279084Z"
    },
    "papermill": {
     "duration": 0.73886,
     "end_time": "2024-05-17T11:02:41.282321",
     "exception": false,
     "start_time": "2024-05-17T11:02:40.543461",
     "status": "completed"
    },
    "tags": []
   },
   "outputs": [],
   "source": [
    "Hypertuned_GRU_pred = (Hypertuned_GRU_pred > 0.5).astype('int')"
   ]
  },
  {
   "cell_type": "code",
   "execution_count": null,
   "id": "0e11ab63",
   "metadata": {
    "execution": {
     "iopub.execute_input": "2024-05-17T11:02:42.591266Z",
     "iopub.status.busy": "2024-05-17T11:02:42.590883Z",
     "iopub.status.idle": "2024-05-17T11:02:42.597934Z",
     "shell.execute_reply": "2024-05-17T11:02:42.596837Z"
    },
    "papermill": {
     "duration": 0.656141,
     "end_time": "2024-05-17T11:02:42.600106",
     "exception": false,
     "start_time": "2024-05-17T11:02:41.943965",
     "status": "completed"
    },
    "tags": []
   },
   "outputs": [
    {
     "name": "stdout",
     "output_type": "stream",
     "text": [
      "Hypertuned_GRU_Accuracy Score is : 87.2340425531915 %\n"
     ]
    }
   ],
   "source": [
    "Hypertuned_GRU_Accuracy = accuracy_score(Hypertuned_GRU_pred,y_test)*100\n",
    "print(\"Hypertuned_GRU_Accuracy Score is :\",Hypertuned_GRU_Accuracy,'%')"
   ]
  },
  {
   "cell_type": "code",
   "execution_count": null,
   "id": "556a9437",
   "metadata": {
    "execution": {
     "iopub.execute_input": "2024-05-17T11:02:44.000349Z",
     "iopub.status.busy": "2024-05-17T11:02:43.999996Z",
     "iopub.status.idle": "2024-05-17T11:02:44.029815Z",
     "shell.execute_reply": "2024-05-17T11:02:44.028959Z"
    },
    "papermill": {
     "duration": 0.695845,
     "end_time": "2024-05-17T11:02:44.031854",
     "exception": false,
     "start_time": "2024-05-17T11:02:43.336009",
     "status": "completed"
    },
    "tags": []
   },
   "outputs": [
    {
     "data": {
      "text/html": [
       "<div>\n",
       "<style scoped>\n",
       "    .dataframe tbody tr th:only-of-type {\n",
       "        vertical-align: middle;\n",
       "    }\n",
       "\n",
       "    .dataframe tbody tr th {\n",
       "        vertical-align: top;\n",
       "    }\n",
       "\n",
       "    .dataframe thead th {\n",
       "        text-align: right;\n",
       "    }\n",
       "</style>\n",
       "<table border=\"1\" class=\"dataframe\">\n",
       "  <thead>\n",
       "    <tr style=\"text-align: right;\">\n",
       "      <th></th>\n",
       "      <th>precision</th>\n",
       "      <th>recall</th>\n",
       "      <th>f1-score</th>\n",
       "      <th>support</th>\n",
       "    </tr>\n",
       "  </thead>\n",
       "  <tbody>\n",
       "    <tr>\n",
       "      <th>0</th>\n",
       "      <td>0.863821</td>\n",
       "      <td>0.888536</td>\n",
       "      <td>0.876004</td>\n",
       "      <td>5033.00000</td>\n",
       "    </tr>\n",
       "    <tr>\n",
       "      <th>1</th>\n",
       "      <td>0.881646</td>\n",
       "      <td>0.855651</td>\n",
       "      <td>0.868454</td>\n",
       "      <td>4884.00000</td>\n",
       "    </tr>\n",
       "    <tr>\n",
       "      <th>accuracy</th>\n",
       "      <td>0.872340</td>\n",
       "      <td>0.872340</td>\n",
       "      <td>0.872340</td>\n",
       "      <td>0.87234</td>\n",
       "    </tr>\n",
       "    <tr>\n",
       "      <th>macro avg</th>\n",
       "      <td>0.872733</td>\n",
       "      <td>0.872093</td>\n",
       "      <td>0.872229</td>\n",
       "      <td>9917.00000</td>\n",
       "    </tr>\n",
       "    <tr>\n",
       "      <th>weighted avg</th>\n",
       "      <td>0.872599</td>\n",
       "      <td>0.872340</td>\n",
       "      <td>0.872286</td>\n",
       "      <td>9917.00000</td>\n",
       "    </tr>\n",
       "  </tbody>\n",
       "</table>\n",
       "</div>"
      ],
      "text/plain": [
       "              precision    recall  f1-score     support\n",
       "0              0.863821  0.888536  0.876004  5033.00000\n",
       "1              0.881646  0.855651  0.868454  4884.00000\n",
       "accuracy       0.872340  0.872340  0.872340     0.87234\n",
       "macro avg      0.872733  0.872093  0.872229  9917.00000\n",
       "weighted avg   0.872599  0.872340  0.872286  9917.00000"
      ]
     },
     "execution_count": 87,
     "metadata": {},
     "output_type": "execute_result"
    }
   ],
   "source": [
    "from sklearn.metrics import classification_report\n",
    "report_dict = classification_report(y_test, Hypertuned_GRU_pred, output_dict=True)\n",
    "report_df = pd.DataFrame(report_dict).transpose()\n",
    "report_df"
   ]
  },
  {
   "cell_type": "code",
   "execution_count": null,
   "id": "6269d8a3",
   "metadata": {
    "execution": {
     "iopub.execute_input": "2024-05-17T11:02:45.395673Z",
     "iopub.status.busy": "2024-05-17T11:02:45.394832Z",
     "iopub.status.idle": "2024-05-17T11:02:45.409303Z",
     "shell.execute_reply": "2024-05-17T11:02:45.408501Z"
    },
    "papermill": {
     "duration": 0.722164,
     "end_time": "2024-05-17T11:02:45.411123",
     "exception": false,
     "start_time": "2024-05-17T11:02:44.688959",
     "status": "completed"
    },
    "tags": []
   },
   "outputs": [
    {
     "data": {
      "text/plain": [
       "[['positive'],\n",
       " ['positive'],\n",
       " ['negative'],\n",
       " ['positive'],\n",
       " ['positive'],\n",
       " ['negative'],\n",
       " ['positive'],\n",
       " ['positive'],\n",
       " ['negative'],\n",
       " ['negative']]"
      ]
     },
     "execution_count": 88,
     "metadata": {},
     "output_type": "execute_result"
    }
   ],
   "source": [
    "HYpertuned_GRU_sentiments = [[sentiment_labels[val[0]]] for val in Hypertuned_GRU_pred]\n",
    "HYpertuned_GRU_sentiments[0:10]"
   ]
  },
  {
   "cell_type": "code",
   "execution_count": null,
   "id": "ff16d517",
   "metadata": {
    "execution": {
     "iopub.execute_input": "2024-05-17T11:02:46.749646Z",
     "iopub.status.busy": "2024-05-17T11:02:46.748821Z",
     "iopub.status.idle": "2024-05-17T11:02:46.765203Z",
     "shell.execute_reply": "2024-05-17T11:02:46.764498Z"
    },
    "papermill": {
     "duration": 0.667661,
     "end_time": "2024-05-17T11:02:46.767044",
     "exception": false,
     "start_time": "2024-05-17T11:02:46.099383",
     "status": "completed"
    },
    "tags": []
   },
   "outputs": [],
   "source": [
    "comp_df = pd.DataFrame(columns = ['Bidirectional_RNN','LSTM_Sentiment','GRU_Sentiment','hypertune_gru_sentiments'])\n",
    "comp_df['Bidirectional_RNN'] = RNN_sentiments\n",
    "comp_df['LSTM_Sentiment'] = lstm_sentiments\n",
    "comp_df['GRU_Sentiment'] = GRU_sentiments\n",
    "comp_df['hypertune_gru_sentiments'] = HYpertuned_GRU_sentiments"
   ]
  },
  {
   "cell_type": "code",
   "execution_count": null,
   "id": "41df8da3",
   "metadata": {
    "execution": {
     "iopub.execute_input": "2024-05-17T11:02:48.067279Z",
     "iopub.status.busy": "2024-05-17T11:02:48.066917Z",
     "iopub.status.idle": "2024-05-17T11:02:48.091302Z",
     "shell.execute_reply": "2024-05-17T11:02:48.090423Z"
    },
    "papermill": {
     "duration": 0.680264,
     "end_time": "2024-05-17T11:02:48.093238",
     "exception": false,
     "start_time": "2024-05-17T11:02:47.412974",
     "status": "completed"
    },
    "tags": []
   },
   "outputs": [
    {
     "data": {
      "text/html": [
       "<div>\n",
       "<style scoped>\n",
       "    .dataframe tbody tr th:only-of-type {\n",
       "        vertical-align: middle;\n",
       "    }\n",
       "\n",
       "    .dataframe tbody tr th {\n",
       "        vertical-align: top;\n",
       "    }\n",
       "\n",
       "    .dataframe thead th {\n",
       "        text-align: right;\n",
       "    }\n",
       "</style>\n",
       "<table border=\"1\" class=\"dataframe\">\n",
       "  <thead>\n",
       "    <tr style=\"text-align: right;\">\n",
       "      <th></th>\n",
       "      <th>Bidirectional_RNN</th>\n",
       "      <th>LSTM_Sentiment</th>\n",
       "      <th>GRU_Sentiment</th>\n",
       "      <th>hypertune_gru_sentiments</th>\n",
       "    </tr>\n",
       "  </thead>\n",
       "  <tbody>\n",
       "    <tr>\n",
       "      <th>0</th>\n",
       "      <td>[positive]</td>\n",
       "      <td>[positive]</td>\n",
       "      <td>[positive]</td>\n",
       "      <td>[positive]</td>\n",
       "    </tr>\n",
       "    <tr>\n",
       "      <th>1</th>\n",
       "      <td>[positive]</td>\n",
       "      <td>[positive]</td>\n",
       "      <td>[positive]</td>\n",
       "      <td>[positive]</td>\n",
       "    </tr>\n",
       "    <tr>\n",
       "      <th>2</th>\n",
       "      <td>[positive]</td>\n",
       "      <td>[positive]</td>\n",
       "      <td>[positive]</td>\n",
       "      <td>[negative]</td>\n",
       "    </tr>\n",
       "    <tr>\n",
       "      <th>3</th>\n",
       "      <td>[positive]</td>\n",
       "      <td>[positive]</td>\n",
       "      <td>[positive]</td>\n",
       "      <td>[positive]</td>\n",
       "    </tr>\n",
       "    <tr>\n",
       "      <th>4</th>\n",
       "      <td>[negative]</td>\n",
       "      <td>[positive]</td>\n",
       "      <td>[positive]</td>\n",
       "      <td>[positive]</td>\n",
       "    </tr>\n",
       "    <tr>\n",
       "      <th>5</th>\n",
       "      <td>[negative]</td>\n",
       "      <td>[negative]</td>\n",
       "      <td>[negative]</td>\n",
       "      <td>[negative]</td>\n",
       "    </tr>\n",
       "    <tr>\n",
       "      <th>6</th>\n",
       "      <td>[positive]</td>\n",
       "      <td>[positive]</td>\n",
       "      <td>[positive]</td>\n",
       "      <td>[positive]</td>\n",
       "    </tr>\n",
       "    <tr>\n",
       "      <th>7</th>\n",
       "      <td>[positive]</td>\n",
       "      <td>[positive]</td>\n",
       "      <td>[positive]</td>\n",
       "      <td>[positive]</td>\n",
       "    </tr>\n",
       "    <tr>\n",
       "      <th>8</th>\n",
       "      <td>[negative]</td>\n",
       "      <td>[negative]</td>\n",
       "      <td>[negative]</td>\n",
       "      <td>[negative]</td>\n",
       "    </tr>\n",
       "    <tr>\n",
       "      <th>9</th>\n",
       "      <td>[positive]</td>\n",
       "      <td>[positive]</td>\n",
       "      <td>[negative]</td>\n",
       "      <td>[negative]</td>\n",
       "    </tr>\n",
       "  </tbody>\n",
       "</table>\n",
       "</div>"
      ],
      "text/plain": [
       "  Bidirectional_RNN LSTM_Sentiment GRU_Sentiment hypertune_gru_sentiments\n",
       "0        [positive]     [positive]    [positive]               [positive]\n",
       "1        [positive]     [positive]    [positive]               [positive]\n",
       "2        [positive]     [positive]    [positive]               [negative]\n",
       "3        [positive]     [positive]    [positive]               [positive]\n",
       "4        [negative]     [positive]    [positive]               [positive]\n",
       "5        [negative]     [negative]    [negative]               [negative]\n",
       "6        [positive]     [positive]    [positive]               [positive]\n",
       "7        [positive]     [positive]    [positive]               [positive]\n",
       "8        [negative]     [negative]    [negative]               [negative]\n",
       "9        [positive]     [positive]    [negative]               [negative]"
      ]
     },
     "execution_count": 90,
     "metadata": {},
     "output_type": "execute_result"
    }
   ],
   "source": [
    "comp_df.head(10)"
   ]
  },
  {
   "cell_type": "code",
   "execution_count": null,
   "id": "8aca789e",
   "metadata": {
    "execution": {
     "iopub.execute_input": "2024-05-17T11:02:49.455211Z",
     "iopub.status.busy": "2024-05-17T11:02:49.454846Z",
     "iopub.status.idle": "2024-05-17T11:02:49.460196Z",
     "shell.execute_reply": "2024-05-17T11:02:49.459309Z"
    },
    "papermill": {
     "duration": 0.658394,
     "end_time": "2024-05-17T11:02:49.462157",
     "exception": false,
     "start_time": "2024-05-17T11:02:48.803763",
     "status": "completed"
    },
    "tags": []
   },
   "outputs": [],
   "source": [
    "# Create a DataFrame with these accuracy scores\n",
    "data = {\n",
    "    'Model': ['Bidirectional RNN', 'LSTM', 'GRU', 'Hypertuned GRU'],\n",
    "    'Accuracy': [Bidirection_RNN_Accuracy, LSTM_Accuracy, GRU_Accuracy, Hypertuned_GRU_Accuracy]\n",
    "}\n",
    "Acc_df = pd.DataFrame(data)\n"
   ]
  },
  {
   "cell_type": "code",
   "execution_count": null,
   "id": "709ea379",
   "metadata": {
    "execution": {
     "iopub.execute_input": "2024-05-17T11:02:50.837841Z",
     "iopub.status.busy": "2024-05-17T11:02:50.837473Z",
     "iopub.status.idle": "2024-05-17T11:02:50.846943Z",
     "shell.execute_reply": "2024-05-17T11:02:50.846000Z"
    },
    "papermill": {
     "duration": 0.731311,
     "end_time": "2024-05-17T11:02:50.848745",
     "exception": false,
     "start_time": "2024-05-17T11:02:50.117434",
     "status": "completed"
    },
    "tags": []
   },
   "outputs": [
    {
     "data": {
      "text/html": [
       "<div>\n",
       "<style scoped>\n",
       "    .dataframe tbody tr th:only-of-type {\n",
       "        vertical-align: middle;\n",
       "    }\n",
       "\n",
       "    .dataframe tbody tr th {\n",
       "        vertical-align: top;\n",
       "    }\n",
       "\n",
       "    .dataframe thead th {\n",
       "        text-align: right;\n",
       "    }\n",
       "</style>\n",
       "<table border=\"1\" class=\"dataframe\">\n",
       "  <thead>\n",
       "    <tr style=\"text-align: right;\">\n",
       "      <th></th>\n",
       "      <th>Model</th>\n",
       "      <th>Accuracy</th>\n",
       "    </tr>\n",
       "  </thead>\n",
       "  <tbody>\n",
       "    <tr>\n",
       "      <th>0</th>\n",
       "      <td>Bidirectional RNN</td>\n",
       "      <td>62.075224</td>\n",
       "    </tr>\n",
       "    <tr>\n",
       "      <th>1</th>\n",
       "      <td>LSTM</td>\n",
       "      <td>81.193909</td>\n",
       "    </tr>\n",
       "    <tr>\n",
       "      <th>2</th>\n",
       "      <td>GRU</td>\n",
       "      <td>87.223959</td>\n",
       "    </tr>\n",
       "    <tr>\n",
       "      <th>3</th>\n",
       "      <td>Hypertuned GRU</td>\n",
       "      <td>87.234043</td>\n",
       "    </tr>\n",
       "  </tbody>\n",
       "</table>\n",
       "</div>"
      ],
      "text/plain": [
       "               Model   Accuracy\n",
       "0  Bidirectional RNN  62.075224\n",
       "1               LSTM  81.193909\n",
       "2                GRU  87.223959\n",
       "3     Hypertuned GRU  87.234043"
      ]
     },
     "execution_count": 92,
     "metadata": {},
     "output_type": "execute_result"
    }
   ],
   "source": [
    "Acc_df"
   ]
  },
  {
   "cell_type": "code",
   "execution_count": null,
   "id": "cbd4a6c3",
   "metadata": {
    "execution": {
     "iopub.execute_input": "2024-05-17T11:02:52.186067Z",
     "iopub.status.busy": "2024-05-17T11:02:52.185689Z",
     "iopub.status.idle": "2024-05-17T11:02:52.583389Z",
     "shell.execute_reply": "2024-05-17T11:02:52.582502Z"
    },
    "papermill": {
     "duration": 1.052553,
     "end_time": "2024-05-17T11:02:52.585579",
     "exception": false,
     "start_time": "2024-05-17T11:02:51.533026",
     "status": "completed"
    },
    "tags": []
   },
   "outputs": [
    {
     "data": {
      "image/png": "[encoded data removed]",
      "text/plain": [
       "<Figure size 640x480 with 1 Axes>"
      ]
     },
     "metadata": {},
     "output_type": "display_data"
    }
   ],
   "source": [
    "# Plot the DataFrame\n",
    "ax = Acc_df.plot(x='Model', y='Accuracy', marker='o', linestyle='dashed', color='b', legend=False)\n",
    "\n",
    "# Add labels, title, and customize the plot\n",
    "ax.set_xlabel('Models')\n",
    "ax.set_ylabel('Accuracy (%)')\n",
    "ax.set_title('Model Accuracy Comparison')\n",
    "ax.set_ylim(70, 100)  # Set the y-axis limits for percentage values\n",
    "\n",
    "# Highlight the points and add value labels\n",
    "for i, accuracy in enumerate(Acc_df['Accuracy']):\n",
    "    ax.annotate(f'{accuracy:.2f}%', xy=(i, accuracy), xytext=(i, accuracy + 1),\n",
    "                ha='center', va='bottom', fontsize=10, color='black',\n",
    "                arrowprops=dict(arrowstyle='-', color='gray'))\n",
    "    ax.plot(i, accuracy, 'ro')  # Highlight points with red color\n",
    "\n",
    "# Show the plot\n",
    "plt.show()\n"
   ]
  },
  {
   "cell_type": "code",
   "execution_count": null,
   "id": "e8c881e6",
   "metadata": {
    "papermill": {
     "duration": 0.708165,
     "end_time": "2024-05-17T11:02:53.946833",
     "exception": false,
     "start_time": "2024-05-17T11:02:53.238668",
     "status": "completed"
    },
    "tags": []
   },
   "outputs": [],
   "source": []
  }
 ],
 "metadata": {
  "kaggle": {
   "accelerator": "nvidiaTeslaT4",
   "dataSources": [
    {
     "datasetId": 134715,
     "sourceId": 320111,
     "sourceType": "datasetVersion"
    }
   ],
   "dockerImageVersionId": 30698,
   "isGpuEnabled": true,
   "isInternetEnabled": true,
   "language": "python",
   "sourceType": "notebook"
  },
  "kernelspec": {
   "display_name": "lstm",
   "language": "python",
   "name": "python3"
  },
  "language_info": {
   "codemirror_mode": {
    "name": "ipython",
    "version": 3
   },
   "file_extension": ".py",
   "mimetype": "text/x-python",
   "name": "python",
   "nbconvert_exporter": "python",
   "pygments_lexer": "ipython3",
   "version": "3.10.15"
  },
  "papermill": {
   "default_parameters": {},
   "duration": 4105.486758,
   "end_time": "2024-05-17T11:02:57.816701",
   "environment_variables": {},
   "exception": null,
   "input_path": "__notebook__.ipynb",
   "output_path": "__notebook__.ipynb",
   "parameters": {},
   "start_time": "2024-05-17T09:54:32.329943",
   "version": "2.5.0"
  }
 },
 "nbformat": 4,
 "nbformat_minor": 5
}
